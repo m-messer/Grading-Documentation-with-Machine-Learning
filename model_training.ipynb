{
 "cells": [
  {
   "cell_type": "code",
   "execution_count": 2,
   "metadata": {
    "collapsed": true
   },
   "outputs": [],
   "source": [
    "import pandas as pd\n",
    "from transformers import RobertaTokenizer, RobertaModel\n",
    "import torch.nn as nn\n",
    "import torch.nn.functional as F\n",
    "import torch"
   ]
  },
  {
   "cell_type": "markdown",
   "source": [
    "### Load Dataset"
   ],
   "metadata": {
    "collapsed": false
   }
  },
  {
   "cell_type": "code",
   "execution_count": 3,
   "outputs": [],
   "source": [
    "df = pd.read_csv('data/processed.csv')"
   ],
   "metadata": {
    "collapsed": false
   }
  },
  {
   "cell_type": "markdown",
   "source": [
    "### Calculate cosine sim"
   ],
   "metadata": {
    "collapsed": false
   }
  },
  {
   "cell_type": "code",
   "execution_count": 4,
   "outputs": [],
   "source": [
    "MAX_TENSOR_SIZE = 514\n",
    "\n",
    "def get_average_embeddings(natural_language, code, tokenizer, model):\n",
    "    nl_tokens = tokenizer.tokenize(natural_language)\n",
    "    code_tokens = tokenizer.tokenize(code)\n",
    "\n",
    "    if len(nl_tokens) > MAX_TENSOR_SIZE or len(code_tokens) > MAX_TENSOR_SIZE:\n",
    "        return None, None\n",
    "\n",
    "    nl_tokens_ids = tokenizer.convert_tokens_to_ids(nl_tokens)\n",
    "    code_token_ids = tokenizer.convert_tokens_to_ids(code_tokens)\n",
    "\n",
    "    nl_embeddings = model(torch.tensor(nl_tokens_ids)[None, :])[0]\n",
    "    code_embeddings = model(torch.tensor(code_token_ids)[None, :])[0]\n",
    "\n",
    "\n",
    "    if nl_embeddings.size()[1] < code_embeddings.size()[1]:\n",
    "        nl_embeddings = F.pad(nl_embeddings, (0, 0, code_embeddings.size()[1] - nl_embeddings.size()[1], 0))\n",
    "    elif code_embeddings.size()[1] < nl_embeddings.size()[1]:\n",
    "        code_embeddings = F.pad(code_embeddings, (0, 0, nl_embeddings.size()[1] - code_embeddings.size()[1], 0))\n",
    "\n",
    "\n",
    "    nl_agg = torch.mean(nl_embeddings, 2)\n",
    "    code_agg = torch.mean(code_embeddings, 2)\n",
    "\n",
    "    return nl_agg, code_agg"
   ],
   "metadata": {
    "collapsed": false
   }
  },
  {
   "cell_type": "code",
   "execution_count": 5,
   "outputs": [],
   "source": [
    "def get_cosine_sim(natural_language, code, tokenizer, model):\n",
    "\n",
    "    nl_agg, code_agg = get_average_embeddings(natural_language, code, tokenizer, model)\n",
    "\n",
    "    if nl_agg is None or code_agg is None:\n",
    "        return None\n",
    "\n",
    "    cos = nn.CosineSimilarity(dim=1)\n",
    "\n",
    "    return cos(nl_agg, code_agg).item()"
   ],
   "metadata": {
    "collapsed": false
   }
  },
  {
   "cell_type": "markdown",
   "source": [
    "#### Load Model"
   ],
   "metadata": {
    "collapsed": false
   }
  },
  {
   "cell_type": "code",
   "execution_count": 6,
   "outputs": [
    {
     "name": "stdout",
     "output_type": "stream",
     "text": [
      "\n"
     ]
    }
   ],
   "source": [
    "device = torch.device(\"cuda\" if torch.cuda.is_available() else \"cpu\")\n",
    "bert_tokenizer = RobertaTokenizer.from_pretrained(\"microsoft/codebert-base\")\n",
    "bert_model = RobertaModel.from_pretrained(\"microsoft/codebert-base\")\n",
    "bert_model.to(device)\n",
    "\n",
    "print()"
   ],
   "metadata": {
    "collapsed": false
   }
  },
  {
   "cell_type": "code",
   "execution_count": 7,
   "outputs": [
    {
     "data": {
      "text/plain": "   Unnamed: 0                                          docstring  \\\n0           0  Bind indexed elements to the supplied collecti...   \n1           1  Set {@link ServletRegistrationBean}s that the ...   \n2           2  Add {@link ServletRegistrationBean}s for the f...   \n3           3  Set servlet names that the filter will be regi...   \n4           4  Add servlet names for the filter.\\n@param serv...   \n\n                                                code  stars  \\\n0  protected final void bindIndexed(Configuration...  68742   \n1  public void setServletRegistrationBeans(\\n\\t\\t...  68742   \n2  public void addServletRegistrationBeans(\\n\\t\\t...  68742   \n3  public void setServletNames(Collection<String>...  68742   \n4  public void addServletNames(String... servletN...  68742   \n\n                          repo       sim  \n0  spring-projects/spring-boot  0.714404  \n1  spring-projects/spring-boot  0.595693  \n2  spring-projects/spring-boot  0.688578  \n3  spring-projects/spring-boot  0.912222  \n4  spring-projects/spring-boot  0.579986  ",
      "text/html": "<div>\n<style scoped>\n    .dataframe tbody tr th:only-of-type {\n        vertical-align: middle;\n    }\n\n    .dataframe tbody tr th {\n        vertical-align: top;\n    }\n\n    .dataframe thead th {\n        text-align: right;\n    }\n</style>\n<table border=\"1\" class=\"dataframe\">\n  <thead>\n    <tr style=\"text-align: right;\">\n      <th></th>\n      <th>Unnamed: 0</th>\n      <th>docstring</th>\n      <th>code</th>\n      <th>stars</th>\n      <th>repo</th>\n      <th>sim</th>\n    </tr>\n  </thead>\n  <tbody>\n    <tr>\n      <th>0</th>\n      <td>0</td>\n      <td>Bind indexed elements to the supplied collecti...</td>\n      <td>protected final void bindIndexed(Configuration...</td>\n      <td>68742</td>\n      <td>spring-projects/spring-boot</td>\n      <td>0.714404</td>\n    </tr>\n    <tr>\n      <th>1</th>\n      <td>1</td>\n      <td>Set {@link ServletRegistrationBean}s that the ...</td>\n      <td>public void setServletRegistrationBeans(\\n\\t\\t...</td>\n      <td>68742</td>\n      <td>spring-projects/spring-boot</td>\n      <td>0.595693</td>\n    </tr>\n    <tr>\n      <th>2</th>\n      <td>2</td>\n      <td>Add {@link ServletRegistrationBean}s for the f...</td>\n      <td>public void addServletRegistrationBeans(\\n\\t\\t...</td>\n      <td>68742</td>\n      <td>spring-projects/spring-boot</td>\n      <td>0.688578</td>\n    </tr>\n    <tr>\n      <th>3</th>\n      <td>3</td>\n      <td>Set servlet names that the filter will be regi...</td>\n      <td>public void setServletNames(Collection&lt;String&gt;...</td>\n      <td>68742</td>\n      <td>spring-projects/spring-boot</td>\n      <td>0.912222</td>\n    </tr>\n    <tr>\n      <th>4</th>\n      <td>4</td>\n      <td>Add servlet names for the filter.\\n@param serv...</td>\n      <td>public void addServletNames(String... servletN...</td>\n      <td>68742</td>\n      <td>spring-projects/spring-boot</td>\n      <td>0.579986</td>\n    </tr>\n  </tbody>\n</table>\n</div>"
     },
     "execution_count": 7,
     "metadata": {},
     "output_type": "execute_result"
    }
   ],
   "source": [
    "results_df = df.copy(deep=True)\n",
    "\n",
    "results_df['sim'] = df.apply(lambda x: get_cosine_sim(x['docstring'], x['code'], tokenizer=bert_tokenizer, model=bert_model), axis=1)\n",
    "results_df.head()"
   ],
   "metadata": {
    "collapsed": false
   }
  },
  {
   "cell_type": "markdown",
   "source": [
    "### Analysis on data"
   ],
   "metadata": {
    "collapsed": false
   }
  },
  {
   "cell_type": "code",
   "execution_count": 8,
   "outputs": [
    {
     "name": "stdout",
     "output_type": "stream",
     "text": [
      "Total number of docstring/code pairs 600\n",
      "Number of failed embeddings:  1\n",
      "Average docstring length:  234.22\n",
      "Average code length: 358.51\n",
      "Average sim score: 0.6886076997927945\n",
      "Average number of max stars 68742.0\n"
     ]
    }
   ],
   "source": [
    "print(\"Total number of docstring/code pairs\", results_df.size)\n",
    "print(\"Number of failed embeddings: \", results_df.sim.isna().sum())\n",
    "print(\"Average docstring length: \", results_df.docstring.apply(len).mean())\n",
    "print(\"Average code length:\", results_df.code.apply(len).mean())\n",
    "print(\"Average sim score:\", results_df.sim.mean())\n",
    "print(\"Average number of max stars\", results_df.stars.mean())"
   ],
   "metadata": {
    "collapsed": false
   }
  },
  {
   "cell_type": "code",
   "execution_count": 9,
   "outputs": [],
   "source": [
    "results_df.loc[results_df.sim.notnull()].reset_index(drop=True).to_csv('data/sim.csv')"
   ],
   "metadata": {
    "collapsed": false
   }
  }
 ],
 "metadata": {
  "kernelspec": {
   "display_name": "Python 3",
   "language": "python",
   "name": "python3"
  },
  "language_info": {
   "codemirror_mode": {
    "name": "ipython",
    "version": 2
   },
   "file_extension": ".py",
   "mimetype": "text/x-python",
   "name": "python",
   "nbconvert_exporter": "python",
   "pygments_lexer": "ipython2",
   "version": "2.7.6"
  }
 },
 "nbformat": 4,
 "nbformat_minor": 0
}
