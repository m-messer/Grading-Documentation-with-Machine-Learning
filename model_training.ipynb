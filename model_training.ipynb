{
 "cells": [
  {
   "cell_type": "code",
   "execution_count": 1,
   "metadata": {
    "collapsed": true
   },
   "outputs": [],
   "source": [
    "import pandas as pd\n",
    "from transformers import RobertaTokenizer, RobertaModel\n",
    "import torch.nn as nn\n",
    "import torch.nn.functional as F\n",
    "import torch"
   ]
  },
  {
   "cell_type": "markdown",
   "source": [
    "### Load Dataset"
   ],
   "metadata": {
    "collapsed": false
   }
  },
  {
   "cell_type": "code",
   "execution_count": null,
   "outputs": [],
   "source": [
    "df = pd.read_csv('data/processed.csv')"
   ],
   "metadata": {
    "collapsed": false
   }
  },
  {
   "cell_type": "markdown",
   "source": [
    "### Calculate cosine sim"
   ],
   "metadata": {
    "collapsed": false
   }
  },
  {
   "cell_type": "code",
   "execution_count": 102,
   "outputs": [],
   "source": [
    "MAX_TENSOR_SIZE = 514\n",
    "\n",
    "def get_average_embeddings(natural_language, code, tokenizer, model):\n",
    "    nl_tokens = tokenizer.tokenize(natural_language)\n",
    "    code_tokens = tokenizer.tokenize(code)\n",
    "\n",
    "    if len(nl_tokens) > MAX_TENSOR_SIZE or len(code_tokens) > MAX_TENSOR_SIZE:\n",
    "        return None, None\n",
    "\n",
    "    nl_tokens_ids = tokenizer.convert_tokens_to_ids(nl_tokens)\n",
    "    code_token_ids = tokenizer.convert_tokens_to_ids(code_tokens)\n",
    "\n",
    "    nl_embeddings = model(torch.tensor(nl_tokens_ids)[None, :])[0]\n",
    "    code_embeddings = model(torch.tensor(code_token_ids)[None, :])[0]\n",
    "\n",
    "\n",
    "    if nl_embeddings.size()[1] < code_embeddings.size()[1]:\n",
    "        nl_embeddings = F.pad(nl_embeddings, (0, 0, code_embeddings.size()[1] - nl_embeddings.size()[1], 0))\n",
    "    elif code_embeddings.size()[1] < nl_embeddings.size()[1]:\n",
    "        code_embeddings = F.pad(code_embeddings, (0, 0, nl_embeddings.size()[1] - code_embeddings.size()[1], 0))\n",
    "\n",
    "\n",
    "    nl_agg = torch.mean(nl_embeddings, 2)\n",
    "    code_agg = torch.mean(code_embeddings, 2)\n",
    "\n",
    "    return nl_agg, code_agg"
   ],
   "metadata": {
    "collapsed": false
   }
  },
  {
   "cell_type": "code",
   "execution_count": 103,
   "outputs": [],
   "source": [
    "def get_cosine_sim(natural_language, code, tokenizer, model):\n",
    "\n",
    "    nl_agg, code_agg = get_average_embeddings(natural_language, code, tokenizer, model)\n",
    "\n",
    "    if nl_agg is None or code_agg is None:\n",
    "        return None\n",
    "\n",
    "    cos = nn.CosineSimilarity(dim=1)\n",
    "\n",
    "    return cos(nl_agg, code_agg).item()"
   ],
   "metadata": {
    "collapsed": false
   }
  },
  {
   "cell_type": "markdown",
   "source": [
    "#### Load Model"
   ],
   "metadata": {
    "collapsed": false
   }
  },
  {
   "cell_type": "code",
   "execution_count": 104,
   "outputs": [
    {
     "name": "stdout",
     "output_type": "stream",
     "text": [
      "\n"
     ]
    }
   ],
   "source": [
    "device = torch.device(\"cuda\" if torch.cuda.is_available() else \"cpu\")\n",
    "bert_tokenizer = RobertaTokenizer.from_pretrained(\"microsoft/codebert-base\")\n",
    "bert_model = RobertaModel.from_pretrained(\"microsoft/codebert-base\")\n",
    "bert_model.to(device)\n",
    "\n",
    "print()"
   ],
   "metadata": {
    "collapsed": false
   }
  },
  {
   "cell_type": "code",
   "execution_count": 105,
   "outputs": [
    {
     "data": {
      "text/plain": "                                           docstring  \\\n0  Sets the {@link Converter} used for converting...   \n1  Sets the {@link Converter} used for converting...   \n2  Returns the ClassName object referenced by a c...   \n3  Create a ClassName object via its internal typ...   \n4  Returns the type string of this class, as stor...   \n\n                                                code  stars  \\\n0  public final void setAuthorizationServerMetada...   2210   \n1  public final void setAuthorizationServerMetada...   2210   \n2  public static ClassName getClassName(String cl...   1056   \n3  private ClassName(String type) {\\n        this...   1056   \n4  public String getType() {\\n        return type...   1056   \n\n                                        repo       sim  \n0  chegekinuthia/spring-authorization-server  0.912524  \n1  chegekinuthia/spring-authorization-server       NaN  \n2                            timfel/netbeans       NaN  \n3                            timfel/netbeans  0.703959  \n4                            timfel/netbeans  0.569791  ",
      "text/html": "<div>\n<style scoped>\n    .dataframe tbody tr th:only-of-type {\n        vertical-align: middle;\n    }\n\n    .dataframe tbody tr th {\n        vertical-align: top;\n    }\n\n    .dataframe thead th {\n        text-align: right;\n    }\n</style>\n<table border=\"1\" class=\"dataframe\">\n  <thead>\n    <tr style=\"text-align: right;\">\n      <th></th>\n      <th>docstring</th>\n      <th>code</th>\n      <th>stars</th>\n      <th>repo</th>\n      <th>sim</th>\n    </tr>\n  </thead>\n  <tbody>\n    <tr>\n      <th>0</th>\n      <td>Sets the {@link Converter} used for converting...</td>\n      <td>public final void setAuthorizationServerMetada...</td>\n      <td>2210</td>\n      <td>chegekinuthia/spring-authorization-server</td>\n      <td>0.912524</td>\n    </tr>\n    <tr>\n      <th>1</th>\n      <td>Sets the {@link Converter} used for converting...</td>\n      <td>public final void setAuthorizationServerMetada...</td>\n      <td>2210</td>\n      <td>chegekinuthia/spring-authorization-server</td>\n      <td>NaN</td>\n    </tr>\n    <tr>\n      <th>2</th>\n      <td>Returns the ClassName object referenced by a c...</td>\n      <td>public static ClassName getClassName(String cl...</td>\n      <td>1056</td>\n      <td>timfel/netbeans</td>\n      <td>NaN</td>\n    </tr>\n    <tr>\n      <th>3</th>\n      <td>Create a ClassName object via its internal typ...</td>\n      <td>private ClassName(String type) {\\n        this...</td>\n      <td>1056</td>\n      <td>timfel/netbeans</td>\n      <td>0.703959</td>\n    </tr>\n    <tr>\n      <th>4</th>\n      <td>Returns the type string of this class, as stor...</td>\n      <td>public String getType() {\\n        return type...</td>\n      <td>1056</td>\n      <td>timfel/netbeans</td>\n      <td>0.569791</td>\n    </tr>\n  </tbody>\n</table>\n</div>"
     },
     "execution_count": 105,
     "metadata": {},
     "output_type": "execute_result"
    }
   ],
   "source": [
    "results_df = df.copy(deep=True)\n",
    "\n",
    "results_df['sim'] = df.apply(lambda x: get_cosine_sim(x['docstring'], x['code'], tokenizer=bert_tokenizer, model=bert_model), axis=1)\n",
    "results_df.head()"
   ],
   "metadata": {
    "collapsed": false
   }
  },
  {
   "cell_type": "markdown",
   "source": [
    "### Analysis on data"
   ],
   "metadata": {
    "collapsed": false
   }
  },
  {
   "cell_type": "code",
   "execution_count": 106,
   "outputs": [
    {
     "name": "stdout",
     "output_type": "stream",
     "text": [
      "Total number of docstring/code pairs 1210\n",
      "Number of failed embeddings:  31\n",
      "Average docstring length:  145.3305785123967\n",
      "Average code length: 766.5702479338843\n",
      "Average sim score: 0.6756840025856031\n",
      "Average number of max stars 3879.8429752066118\n"
     ]
    }
   ],
   "source": [
    "print(\"Total number of docstring/code pairs\", results_df.size)\n",
    "print(\"Number of failed embeddings: \", results_df.sim.isna().sum())\n",
    "print(\"Average docstring length: \", results_df.docstring.apply(len).mean())\n",
    "print(\"Average code length:\", results_df.code.apply(len).mean())\n",
    "print(\"Average sim score:\", results_df.sim.mean())\n",
    "print(\"Average number of max stars\", results_df.stars.mean())"
   ],
   "metadata": {
    "collapsed": false
   }
  },
  {
   "cell_type": "code",
   "execution_count": 107,
   "outputs": [],
   "source": [
    "results_df.loc[results_df.sim.notnull()].reset_index(drop=True).to_csv('data/sim.csv')"
   ],
   "metadata": {
    "collapsed": false
   }
  }
 ],
 "metadata": {
  "kernelspec": {
   "display_name": "Python 3",
   "language": "python",
   "name": "python3"
  },
  "language_info": {
   "codemirror_mode": {
    "name": "ipython",
    "version": 2
   },
   "file_extension": ".py",
   "mimetype": "text/x-python",
   "name": "python",
   "nbconvert_exporter": "python",
   "pygments_lexer": "ipython2",
   "version": "2.7.6"
  }
 },
 "nbformat": 4,
 "nbformat_minor": 0
}
