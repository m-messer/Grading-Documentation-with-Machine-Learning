{
 "cells": [
  {
   "cell_type": "code",
   "execution_count": 82,
   "metadata": {
    "collapsed": true
   },
   "outputs": [],
   "source": [
    "import pandas as pd\n",
    "from imblearn.over_sampling import SMOTE\n",
    "from collections import Counter\n",
    "from sklearn.linear_model import LogisticRegression\n",
    "from sklearn.metrics import classification_report, confusion_matrix"
   ]
  },
  {
   "cell_type": "markdown",
   "source": [
    "### Train Classification Model\n",
    "Classes: 0, 1, 2, 3 - relevance score provided by dataset\n",
    "\n",
    "3. Evaluate accuracy, precision, recall, F1 SCore, AUC\n",
    "4. Save model to evaluate against eval set"
   ],
   "metadata": {
    "collapsed": false
   }
  },
  {
   "cell_type": "markdown",
   "source": [
    "#### Create dataset to use for training\n",
    "1. Start with X = cosine similarity and y = relvance score\n",
    "2. Later add more features to X (code and docstring embeddings, results from static analysis?)"
   ],
   "metadata": {
    "collapsed": false
   }
  },
  {
   "cell_type": "code",
   "execution_count": 74,
   "outputs": [
    {
     "data": {
      "text/plain": "   split       sim  relevance\n0  train  0.685977          2\n1  train  0.469626          2\n2  train  0.490250          2\n3  train  0.568199          3\n4  train  0.166293          3",
      "text/html": "<div>\n<style scoped>\n    .dataframe tbody tr th:only-of-type {\n        vertical-align: middle;\n    }\n\n    .dataframe tbody tr th {\n        vertical-align: top;\n    }\n\n    .dataframe thead th {\n        text-align: right;\n    }\n</style>\n<table border=\"1\" class=\"dataframe\">\n  <thead>\n    <tr style=\"text-align: right;\">\n      <th></th>\n      <th>split</th>\n      <th>sim</th>\n      <th>relevance</th>\n    </tr>\n  </thead>\n  <tbody>\n    <tr>\n      <th>0</th>\n      <td>train</td>\n      <td>0.685977</td>\n      <td>2</td>\n    </tr>\n    <tr>\n      <th>1</th>\n      <td>train</td>\n      <td>0.469626</td>\n      <td>2</td>\n    </tr>\n    <tr>\n      <th>2</th>\n      <td>train</td>\n      <td>0.490250</td>\n      <td>2</td>\n    </tr>\n    <tr>\n      <th>3</th>\n      <td>train</td>\n      <td>0.568199</td>\n      <td>3</td>\n    </tr>\n    <tr>\n      <th>4</th>\n      <td>train</td>\n      <td>0.166293</td>\n      <td>3</td>\n    </tr>\n  </tbody>\n</table>\n</div>"
     },
     "execution_count": 74,
     "metadata": {},
     "output_type": "execute_result"
    }
   ],
   "source": [
    "df = pd.read_pickle('data/sim.pickle')\n",
    "df = df[['split', 'sim', 'relevance']]\n",
    "df = df.dropna()\n",
    "df.head()"
   ],
   "metadata": {
    "collapsed": false
   }
  },
  {
   "cell_type": "code",
   "execution_count": 76,
   "outputs": [
    {
     "data": {
      "text/plain": "    split       sim  relevance\n291  test  0.384595          1\n292  test  0.777225          1\n293  test  0.285888          2\n294  test  0.171154          0\n296  test  0.536571          0",
      "text/html": "<div>\n<style scoped>\n    .dataframe tbody tr th:only-of-type {\n        vertical-align: middle;\n    }\n\n    .dataframe tbody tr th {\n        vertical-align: top;\n    }\n\n    .dataframe thead th {\n        text-align: right;\n    }\n</style>\n<table border=\"1\" class=\"dataframe\">\n  <thead>\n    <tr style=\"text-align: right;\">\n      <th></th>\n      <th>split</th>\n      <th>sim</th>\n      <th>relevance</th>\n    </tr>\n  </thead>\n  <tbody>\n    <tr>\n      <th>291</th>\n      <td>test</td>\n      <td>0.384595</td>\n      <td>1</td>\n    </tr>\n    <tr>\n      <th>292</th>\n      <td>test</td>\n      <td>0.777225</td>\n      <td>1</td>\n    </tr>\n    <tr>\n      <th>293</th>\n      <td>test</td>\n      <td>0.285888</td>\n      <td>2</td>\n    </tr>\n    <tr>\n      <th>294</th>\n      <td>test</td>\n      <td>0.171154</td>\n      <td>0</td>\n    </tr>\n    <tr>\n      <th>296</th>\n      <td>test</td>\n      <td>0.536571</td>\n      <td>0</td>\n    </tr>\n  </tbody>\n</table>\n</div>"
     },
     "execution_count": 76,
     "metadata": {},
     "output_type": "execute_result"
    }
   ],
   "source": [
    "train_df = df[df.split == 'train']\n",
    "test_df = df[df.split == 'test']\n",
    "\n",
    "test_df.head()"
   ],
   "metadata": {
    "collapsed": false
   }
  },
  {
   "cell_type": "code",
   "execution_count": 79,
   "outputs": [
    {
     "data": {
      "text/plain": "array([[0.68597656],\n       [0.46962649],\n       [0.49024951],\n       [0.56819922],\n       [0.16629307]])"
     },
     "execution_count": 79,
     "metadata": {},
     "output_type": "execute_result"
    }
   ],
   "source": [
    "X_train = train_df.sim.values.reshape(-1, 1)\n",
    "y_train = train_df.relevance.values.reshape(-1, 1)\n",
    "\n",
    "X_test = test_df.sim.values.reshape(-1, 1)\n",
    "y_test = test_df.relevance.values.reshape(-1, 1)\n",
    "\n",
    "X_train[:5]"
   ],
   "metadata": {
    "collapsed": false
   }
  },
  {
   "cell_type": "markdown",
   "source": [
    "#### Sample dataset to balance classes"
   ],
   "metadata": {
    "collapsed": false
   }
  },
  {
   "cell_type": "code",
   "execution_count": 80,
   "outputs": [
    {
     "data": {
      "text/plain": "Counter({2: 112, 3: 112, 0: 112, 1: 112})"
     },
     "execution_count": 80,
     "metadata": {},
     "output_type": "execute_result"
    }
   ],
   "source": [
    "smote = SMOTE()\n",
    "X_smote, Y_smote = smote.fit_resample(X_train, y_train)\n",
    "\n",
    "Counter(Y_smote)"
   ],
   "metadata": {
    "collapsed": false
   }
  },
  {
   "cell_type": "markdown",
   "source": [
    "#### Train model"
   ],
   "metadata": {
    "collapsed": false
   }
  },
  {
   "cell_type": "code",
   "execution_count": 88,
   "outputs": [
    {
     "name": "stdout",
     "output_type": "stream",
     "text": [
      "[[0 2 1 0]\n",
      " [0 2 5 0]\n",
      " [0 0 1 0]\n",
      " [0 1 1 0]]\n",
      "              precision    recall  f1-score   support\n",
      "\n",
      "           0       1.00      0.00      0.00         3\n",
      "           1       0.40      0.29      0.33         7\n",
      "           2       0.12      1.00      0.22         1\n",
      "           3       1.00      0.00      0.00         2\n",
      "\n",
      "    accuracy                           0.23        13\n",
      "   macro avg       0.63      0.32      0.14        13\n",
      "weighted avg       0.61      0.23      0.20        13\n",
      "\n"
     ]
    }
   ],
   "source": [
    "clf = LogisticRegression(multi_class='ovr')\n",
    "\n",
    "clf.fit(X_smote, Y_smote)\n",
    "\n",
    "y_pred = clf.predict(X_test)\n",
    "\n",
    "print(confusion_matrix(y_test, y_pred))\n",
    "print(classification_report(y_test, y_pred, zero_division=True))"
   ],
   "metadata": {
    "collapsed": false
   }
  }
 ],
 "metadata": {
  "kernelspec": {
   "display_name": "Python 3",
   "language": "python",
   "name": "python3"
  },
  "language_info": {
   "codemirror_mode": {
    "name": "ipython",
    "version": 2
   },
   "file_extension": ".py",
   "mimetype": "text/x-python",
   "name": "python",
   "nbconvert_exporter": "python",
   "pygments_lexer": "ipython2",
   "version": "2.7.6"
  }
 },
 "nbformat": 4,
 "nbformat_minor": 0
}
