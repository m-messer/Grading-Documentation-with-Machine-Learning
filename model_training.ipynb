{
 "cells": [
  {
   "cell_type": "code",
   "execution_count": 1,
   "metadata": {
    "collapsed": true
   },
   "outputs": [],
   "source": [
    "import pandas as pd\n",
    "from imblearn.over_sampling import SMOTE\n",
    "from collections import Counter\n",
    "from sklearn.linear_model import LogisticRegression\n",
    "from sklearn.metrics import classification_report, confusion_matrix"
   ]
  },
  {
   "cell_type": "markdown",
   "source": [
    "### Train Classification Model\n",
    "Classes: 0, 1, 2, 3 - relevance score provided by dataset, with 3 being the highest and 0 being the lowest"
   ],
   "metadata": {
    "collapsed": false
   }
  },
  {
   "cell_type": "markdown",
   "source": [
    "#### Create dataset to use for training\n",
    "1. Start with X = cosine similarity and y = relvance score\n",
    "2. Later add more features to X (code and docstring embeddings, results from static analysis?)"
   ],
   "metadata": {
    "collapsed": false
   }
  },
  {
   "cell_type": "code",
   "execution_count": 10,
   "outputs": [
    {
     "data": {
      "text/plain": "   split       sim                                         code_embed  \\\n0  train  0.685977  [[0.049218524, 0.046266314, 0.05542605, 0.0503...   \n1  train  0.469626  [[0.050279554, 0.048305128, 0.046424236, 0.054...   \n2  train  0.490250  [[0.049495775, 0.04716861, 0.055548936, 0.0603...   \n3  train  0.568199  [[0.04833452, 0.0510515, 0.056628924, 0.054732...   \n4  train  0.166293  [[0.05180261, 0.053425696, 0.05358086, 0.04882...   \n\n                                            nl_embed  relevance  \n0  [[0.0, 0.0, 0.0, 0.0, 0.0, 0.0, 0.0, 0.0, 0.0,...          2  \n1  [[0.0, 0.0, 0.0, 0.0, 0.0, 0.0, 0.0, 0.0, 0.0,...          2  \n2  [[0.0, 0.0, 0.0, 0.0, 0.0, 0.0, 0.0, 0.0, 0.0,...          2  \n3  [[0.0, 0.0, 0.0, 0.0, 0.0, 0.0, 0.0, 0.0, 0.0,...          3  \n4  [[0.0, 0.0, 0.0, 0.0, 0.0, 0.0, 0.0, 0.0, 0.0,...          3  ",
      "text/html": "<div>\n<style scoped>\n    .dataframe tbody tr th:only-of-type {\n        vertical-align: middle;\n    }\n\n    .dataframe tbody tr th {\n        vertical-align: top;\n    }\n\n    .dataframe thead th {\n        text-align: right;\n    }\n</style>\n<table border=\"1\" class=\"dataframe\">\n  <thead>\n    <tr style=\"text-align: right;\">\n      <th></th>\n      <th>split</th>\n      <th>sim</th>\n      <th>code_embed</th>\n      <th>nl_embed</th>\n      <th>relevance</th>\n    </tr>\n  </thead>\n  <tbody>\n    <tr>\n      <th>0</th>\n      <td>train</td>\n      <td>0.685977</td>\n      <td>[[0.049218524, 0.046266314, 0.05542605, 0.0503...</td>\n      <td>[[0.0, 0.0, 0.0, 0.0, 0.0, 0.0, 0.0, 0.0, 0.0,...</td>\n      <td>2</td>\n    </tr>\n    <tr>\n      <th>1</th>\n      <td>train</td>\n      <td>0.469626</td>\n      <td>[[0.050279554, 0.048305128, 0.046424236, 0.054...</td>\n      <td>[[0.0, 0.0, 0.0, 0.0, 0.0, 0.0, 0.0, 0.0, 0.0,...</td>\n      <td>2</td>\n    </tr>\n    <tr>\n      <th>2</th>\n      <td>train</td>\n      <td>0.490250</td>\n      <td>[[0.049495775, 0.04716861, 0.055548936, 0.0603...</td>\n      <td>[[0.0, 0.0, 0.0, 0.0, 0.0, 0.0, 0.0, 0.0, 0.0,...</td>\n      <td>2</td>\n    </tr>\n    <tr>\n      <th>3</th>\n      <td>train</td>\n      <td>0.568199</td>\n      <td>[[0.04833452, 0.0510515, 0.056628924, 0.054732...</td>\n      <td>[[0.0, 0.0, 0.0, 0.0, 0.0, 0.0, 0.0, 0.0, 0.0,...</td>\n      <td>3</td>\n    </tr>\n    <tr>\n      <th>4</th>\n      <td>train</td>\n      <td>0.166293</td>\n      <td>[[0.05180261, 0.053425696, 0.05358086, 0.04882...</td>\n      <td>[[0.0, 0.0, 0.0, 0.0, 0.0, 0.0, 0.0, 0.0, 0.0,...</td>\n      <td>3</td>\n    </tr>\n  </tbody>\n</table>\n</div>"
     },
     "execution_count": 10,
     "metadata": {},
     "output_type": "execute_result"
    }
   ],
   "source": [
    "df = pd.read_pickle('data/sim.pickle')\n",
    "df = df[['split', 'sim','code_embed', 'nl_embed', 'relevance']]\n",
    "df = df.dropna()\n",
    "df.head()"
   ],
   "metadata": {
    "collapsed": false
   }
  },
  {
   "cell_type": "code",
   "execution_count": 17,
   "outputs": [
    {
     "data": {
      "text/plain": "   split       sim  relevance  code_avg    nl_avg\n0  train  0.685977          2  0.051551  0.024661\n1  train  0.469626          2  0.052926  0.010496\n2  train  0.490250          2  0.054815  0.012249\n3  train  0.568199          3  0.054895  0.017146\n4  train  0.166293          3  0.056132  0.001532",
      "text/html": "<div>\n<style scoped>\n    .dataframe tbody tr th:only-of-type {\n        vertical-align: middle;\n    }\n\n    .dataframe tbody tr th {\n        vertical-align: top;\n    }\n\n    .dataframe thead th {\n        text-align: right;\n    }\n</style>\n<table border=\"1\" class=\"dataframe\">\n  <thead>\n    <tr style=\"text-align: right;\">\n      <th></th>\n      <th>split</th>\n      <th>sim</th>\n      <th>relevance</th>\n      <th>code_avg</th>\n      <th>nl_avg</th>\n    </tr>\n  </thead>\n  <tbody>\n    <tr>\n      <th>0</th>\n      <td>train</td>\n      <td>0.685977</td>\n      <td>2</td>\n      <td>0.051551</td>\n      <td>0.024661</td>\n    </tr>\n    <tr>\n      <th>1</th>\n      <td>train</td>\n      <td>0.469626</td>\n      <td>2</td>\n      <td>0.052926</td>\n      <td>0.010496</td>\n    </tr>\n    <tr>\n      <th>2</th>\n      <td>train</td>\n      <td>0.490250</td>\n      <td>2</td>\n      <td>0.054815</td>\n      <td>0.012249</td>\n    </tr>\n    <tr>\n      <th>3</th>\n      <td>train</td>\n      <td>0.568199</td>\n      <td>3</td>\n      <td>0.054895</td>\n      <td>0.017146</td>\n    </tr>\n    <tr>\n      <th>4</th>\n      <td>train</td>\n      <td>0.166293</td>\n      <td>3</td>\n      <td>0.056132</td>\n      <td>0.001532</td>\n    </tr>\n  </tbody>\n</table>\n</div>"
     },
     "execution_count": 17,
     "metadata": {},
     "output_type": "execute_result"
    }
   ],
   "source": [
    "df['code_avg'] = df.code_embed.apply(lambda e: e.mean())\n",
    "df['nl_avg'] = df.nl_embed.apply(lambda e: e.mean())\n",
    "\n",
    "df = df.drop(columns=['code_embed', 'nl_embed'])\n",
    "\n",
    "df.head()"
   ],
   "metadata": {
    "collapsed": false
   }
  },
  {
   "cell_type": "code",
   "execution_count": 20,
   "outputs": [
    {
     "data": {
      "text/plain": "          sim  relevance  code_avg    nl_avg\n291  0.384595          1  0.052668  0.007921\n292  0.777225          1  0.052795  0.030853\n293  0.285888          2  0.051662  0.003478\n294  0.171154          0  0.054695  0.001533\n296  0.536571          0  0.052693  0.014822",
      "text/html": "<div>\n<style scoped>\n    .dataframe tbody tr th:only-of-type {\n        vertical-align: middle;\n    }\n\n    .dataframe tbody tr th {\n        vertical-align: top;\n    }\n\n    .dataframe thead th {\n        text-align: right;\n    }\n</style>\n<table border=\"1\" class=\"dataframe\">\n  <thead>\n    <tr style=\"text-align: right;\">\n      <th></th>\n      <th>sim</th>\n      <th>relevance</th>\n      <th>code_avg</th>\n      <th>nl_avg</th>\n    </tr>\n  </thead>\n  <tbody>\n    <tr>\n      <th>291</th>\n      <td>0.384595</td>\n      <td>1</td>\n      <td>0.052668</td>\n      <td>0.007921</td>\n    </tr>\n    <tr>\n      <th>292</th>\n      <td>0.777225</td>\n      <td>1</td>\n      <td>0.052795</td>\n      <td>0.030853</td>\n    </tr>\n    <tr>\n      <th>293</th>\n      <td>0.285888</td>\n      <td>2</td>\n      <td>0.051662</td>\n      <td>0.003478</td>\n    </tr>\n    <tr>\n      <th>294</th>\n      <td>0.171154</td>\n      <td>0</td>\n      <td>0.054695</td>\n      <td>0.001533</td>\n    </tr>\n    <tr>\n      <th>296</th>\n      <td>0.536571</td>\n      <td>0</td>\n      <td>0.052693</td>\n      <td>0.014822</td>\n    </tr>\n  </tbody>\n</table>\n</div>"
     },
     "execution_count": 20,
     "metadata": {},
     "output_type": "execute_result"
    }
   ],
   "source": [
    "train_df = df[df.split == 'train'].drop('split', axis = 1)\n",
    "test_df = df[df.split == 'test'].drop('split', axis = 1)\n",
    "\n",
    "test_df.head()"
   ],
   "metadata": {
    "collapsed": false
   }
  },
  {
   "cell_type": "code",
   "execution_count": 24,
   "outputs": [
    {
     "data": {
      "text/plain": "   code_avg    nl_avg\n0  0.051551  0.024661\n1  0.052926  0.010496\n2  0.054815  0.012249\n3  0.054895  0.017146\n4  0.056132  0.001532",
      "text/html": "<div>\n<style scoped>\n    .dataframe tbody tr th:only-of-type {\n        vertical-align: middle;\n    }\n\n    .dataframe tbody tr th {\n        vertical-align: top;\n    }\n\n    .dataframe thead th {\n        text-align: right;\n    }\n</style>\n<table border=\"1\" class=\"dataframe\">\n  <thead>\n    <tr style=\"text-align: right;\">\n      <th></th>\n      <th>code_avg</th>\n      <th>nl_avg</th>\n    </tr>\n  </thead>\n  <tbody>\n    <tr>\n      <th>0</th>\n      <td>0.051551</td>\n      <td>0.024661</td>\n    </tr>\n    <tr>\n      <th>1</th>\n      <td>0.052926</td>\n      <td>0.010496</td>\n    </tr>\n    <tr>\n      <th>2</th>\n      <td>0.054815</td>\n      <td>0.012249</td>\n    </tr>\n    <tr>\n      <th>3</th>\n      <td>0.054895</td>\n      <td>0.017146</td>\n    </tr>\n    <tr>\n      <th>4</th>\n      <td>0.056132</td>\n      <td>0.001532</td>\n    </tr>\n  </tbody>\n</table>\n</div>"
     },
     "execution_count": 24,
     "metadata": {},
     "output_type": "execute_result"
    }
   ],
   "source": [
    "X_train = train_df.drop('relevance', axis=1)\n",
    "y_train = train_df.relevance.values\n",
    "\n",
    "X_test = test_df.drop('relevance', axis=1)\n",
    "y_test = test_df.relevance.values\n",
    "\n",
    "X_train[:5]"
   ],
   "metadata": {
    "collapsed": false
   }
  },
  {
   "cell_type": "markdown",
   "source": [
    "#### Sample dataset to balance classes"
   ],
   "metadata": {
    "collapsed": false
   }
  },
  {
   "cell_type": "code",
   "execution_count": 26,
   "outputs": [
    {
     "data": {
      "text/plain": "Counter({2: 112, 3: 112, 0: 112, 1: 112})"
     },
     "execution_count": 26,
     "metadata": {},
     "output_type": "execute_result"
    }
   ],
   "source": [
    "smote = SMOTE()\n",
    "X_smote, Y_smote = smote.fit_resample(X_train, y_train)\n",
    "\n",
    "Counter(Y_smote)"
   ],
   "metadata": {
    "collapsed": false
   }
  },
  {
   "cell_type": "markdown",
   "source": [
    "#### Train model"
   ],
   "metadata": {
    "collapsed": false
   }
  },
  {
   "cell_type": "code",
   "execution_count": 27,
   "outputs": [
    {
     "name": "stdout",
     "output_type": "stream",
     "text": [
      "[[0 0 0 3]\n",
      " [0 2 0 5]\n",
      " [0 0 0 1]\n",
      " [0 1 0 1]]\n",
      "              precision    recall  f1-score   support\n",
      "\n",
      "           0       1.00      0.00      0.00         3\n",
      "           1       0.67      0.29      0.40         7\n",
      "           2       1.00      0.00      0.00         1\n",
      "           3       0.10      0.50      0.17         2\n",
      "\n",
      "    accuracy                           0.23        13\n",
      "   macro avg       0.69      0.20      0.14        13\n",
      "weighted avg       0.68      0.23      0.24        13\n",
      "\n"
     ]
    }
   ],
   "source": [
    "clf = LogisticRegression(multi_class='ovr')\n",
    "\n",
    "clf.fit(X_smote, Y_smote)\n",
    "\n",
    "y_pred = clf.predict(X_test)\n",
    "\n",
    "print(confusion_matrix(y_test, y_pred))\n",
    "print(classification_report(y_test, y_pred, zero_division=True))"
   ],
   "metadata": {
    "collapsed": false
   }
  }
 ],
 "metadata": {
  "kernelspec": {
   "display_name": "Python 3",
   "language": "python",
   "name": "python3"
  },
  "language_info": {
   "codemirror_mode": {
    "name": "ipython",
    "version": 2
   },
   "file_extension": ".py",
   "mimetype": "text/x-python",
   "name": "python",
   "nbconvert_exporter": "python",
   "pygments_lexer": "ipython2",
   "version": "2.7.6"
  }
 },
 "nbformat": 4,
 "nbformat_minor": 0
}
