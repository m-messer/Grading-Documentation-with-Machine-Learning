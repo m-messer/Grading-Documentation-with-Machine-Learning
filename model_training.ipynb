{
 "cells": [
  {
   "cell_type": "code",
   "execution_count": 1,
   "metadata": {
    "collapsed": true
   },
   "outputs": [],
   "source": [
    "import pandas as pd\n",
    "from transformers import RobertaTokenizer, RobertaModel\n",
    "import torch\n",
    "from torch import nn, optim\n",
    "from torch.utils.data import Dataset, WeightedRandomSampler, DataLoader\n",
    "from tqdm import tqdm\n",
    "import seaborn as sns\n",
    "from sklearn.model_selection import train_test_split\n",
    "\n",
    "tqdm.pandas()"
   ]
  },
  {
   "cell_type": "markdown",
   "source": [
    "### Load Dataset"
   ],
   "metadata": {
    "collapsed": false
   }
  },
  {
   "cell_type": "code",
   "execution_count": 2,
   "outputs": [
    {
     "data": {
      "text/plain": "                                           docstring  \\\n0  Attempt to convert the specified value to epoc...   \n1  Generate a server side cookie given the cookie...   \n2  Generate httponly cookie from HS2 cookie\\n@par...   \n3  Copies all files from source to target and set...   \n4          Saves the configuration info to the disk.   \n\n                                                code  relevance  \\\n0  private static String coerceToEpoch(String s) ...          2   \n1  private Cookie createCookie(String str) throws...          2   \n2  private static String getHttpOnlyCookieHeader(...          2   \n3  public static void copy(Path sourcePath, Path ...          3   \n4  public synchronized void save() {\\n        if ...          3   \n\n                          repo  \\\n0  spring-projects/spring-boot   \n1                 apache/spark   \n2                 apache/spark   \n3                 apache/flink   \n4            jenkinsci/jenkins   \n\n                                            func_url  split  \n0  https://github.com/spring-projects/spring-boot...  train  \n1  https://github.com/apache/spark/blob/25ee0474f...  train  \n2  https://github.com/apache/spark/blob/25ee0474f...  train  \n3  https://github.com/apache/flink/blob/b62db93bf...  train  \n4  https://github.com/jenkinsci/jenkins/blob/44c4...  train  ",
      "text/html": "<div>\n<style scoped>\n    .dataframe tbody tr th:only-of-type {\n        vertical-align: middle;\n    }\n\n    .dataframe tbody tr th {\n        vertical-align: top;\n    }\n\n    .dataframe thead th {\n        text-align: right;\n    }\n</style>\n<table border=\"1\" class=\"dataframe\">\n  <thead>\n    <tr style=\"text-align: right;\">\n      <th></th>\n      <th>docstring</th>\n      <th>code</th>\n      <th>relevance</th>\n      <th>repo</th>\n      <th>func_url</th>\n      <th>split</th>\n    </tr>\n  </thead>\n  <tbody>\n    <tr>\n      <th>0</th>\n      <td>Attempt to convert the specified value to epoc...</td>\n      <td>private static String coerceToEpoch(String s) ...</td>\n      <td>2</td>\n      <td>spring-projects/spring-boot</td>\n      <td>https://github.com/spring-projects/spring-boot...</td>\n      <td>train</td>\n    </tr>\n    <tr>\n      <th>1</th>\n      <td>Generate a server side cookie given the cookie...</td>\n      <td>private Cookie createCookie(String str) throws...</td>\n      <td>2</td>\n      <td>apache/spark</td>\n      <td>https://github.com/apache/spark/blob/25ee0474f...</td>\n      <td>train</td>\n    </tr>\n    <tr>\n      <th>2</th>\n      <td>Generate httponly cookie from HS2 cookie\\n@par...</td>\n      <td>private static String getHttpOnlyCookieHeader(...</td>\n      <td>2</td>\n      <td>apache/spark</td>\n      <td>https://github.com/apache/spark/blob/25ee0474f...</td>\n      <td>train</td>\n    </tr>\n    <tr>\n      <th>3</th>\n      <td>Copies all files from source to target and set...</td>\n      <td>public static void copy(Path sourcePath, Path ...</td>\n      <td>3</td>\n      <td>apache/flink</td>\n      <td>https://github.com/apache/flink/blob/b62db93bf...</td>\n      <td>train</td>\n    </tr>\n    <tr>\n      <th>4</th>\n      <td>Saves the configuration info to the disk.</td>\n      <td>public synchronized void save() {\\n        if ...</td>\n      <td>3</td>\n      <td>jenkinsci/jenkins</td>\n      <td>https://github.com/jenkinsci/jenkins/blob/44c4...</td>\n      <td>train</td>\n    </tr>\n  </tbody>\n</table>\n</div>"
     },
     "execution_count": 2,
     "metadata": {},
     "output_type": "execute_result"
    }
   ],
   "source": [
    "df = pd.read_pickle('data/processed.pickle')\n",
    "df.head()"
   ],
   "metadata": {
    "collapsed": false
   }
  },
  {
   "cell_type": "markdown",
   "source": [
    "### Get Embeddings"
   ],
   "metadata": {
    "collapsed": false
   }
  },
  {
   "cell_type": "code",
   "execution_count": 3,
   "outputs": [],
   "source": [
    "EMBEDDING_DIMENSION = 400\n",
    "\n",
    "def get_tokens_and_embeddings(natural_language, code, tokenizer, model):\n",
    "\n",
    "    nl_tokens = tokenizer.tokenize(natural_language)\n",
    "    code_tokens = tokenizer.tokenize(code)\n",
    "\n",
    "    tokens = ['CLS'] + nl_tokens + ['SEP'] + code_tokens + ['EOS'] # Take from CodeBERT paper\n",
    "\n",
    "    if len(tokens) > EMBEDDING_DIMENSION:\n",
    "        tokens = tokens[:EMBEDDING_DIMENSION]\n",
    "\n",
    "    token_ids = tokenizer.convert_tokens_to_ids(tokens)\n",
    "    embedding = model(torch.tensor(token_ids)[None, :])[0][0]\n",
    "\n",
    "    pad_value_before = (EMBEDDING_DIMENSION - len(tokens)) // 2\n",
    "    pad_value_after = pad_value_before + ((EMBEDDING_DIMENSION - len(tokens)) % 2)\n",
    "\n",
    "    padded = nn.functional.pad(embedding, (0, 0, pad_value_before, pad_value_after), \"constant\", 0)\n",
    "\n",
    "    return tokens, len(tokens), padded.detach().numpy()"
   ],
   "metadata": {
    "collapsed": false
   }
  },
  {
   "cell_type": "code",
   "execution_count": 4,
   "outputs": [
    {
     "name": "stdout",
     "output_type": "stream",
     "text": [
      "\n"
     ]
    }
   ],
   "source": [
    "device = torch.device(\"cuda\" if torch.cuda.is_available() else \"cpu\")\n",
    "bert_tokenizer = RobertaTokenizer.from_pretrained(\"microsoft/codebert-base\")\n",
    "bert_model = RobertaModel.from_pretrained(\"microsoft/codebert-base\")\n",
    "bert_model.to(device)\n",
    "\n",
    "print()"
   ],
   "metadata": {
    "collapsed": false
   }
  },
  {
   "cell_type": "code",
   "execution_count": 5,
   "outputs": [
    {
     "name": "stderr",
     "output_type": "stream",
     "text": [
      "100%|██████████| 315/315 [00:34<00:00,  9.26it/s]\n"
     ]
    },
    {
     "data": {
      "text/plain": "                                           docstring  \\\n0  Attempt to convert the specified value to epoc...   \n1  Generate a server side cookie given the cookie...   \n2  Generate httponly cookie from HS2 cookie\\n@par...   \n3  Copies all files from source to target and set...   \n4          Saves the configuration info to the disk.   \n\n                                                code  relevance  \\\n0  private static String coerceToEpoch(String s) ...          2   \n1  private Cookie createCookie(String str) throws...          2   \n2  private static String getHttpOnlyCookieHeader(...          2   \n3  public static void copy(Path sourcePath, Path ...          3   \n4  public synchronized void save() {\\n        if ...          3   \n\n                          repo  \\\n0  spring-projects/spring-boot   \n1                 apache/spark   \n2                 apache/spark   \n3                 apache/flink   \n4            jenkinsci/jenkins   \n\n                                            func_url  \\\n0  https://github.com/spring-projects/spring-boot...   \n1  https://github.com/apache/spark/blob/25ee0474f...   \n2  https://github.com/apache/spark/blob/25ee0474f...   \n3  https://github.com/apache/flink/blob/b62db93bf...   \n4  https://github.com/jenkinsci/jenkins/blob/44c4...   \n\n                                              tokens  token_count  \\\n0  [CLS, Attempt, Ġto, Ġconvert, Ġthe, Ġspecified...          202   \n1  [CLS, Gener, ate, Ġa, Ġserver, Ġside, Ġcookie,...          223   \n2  [CLS, Gener, ate, Ġhttp, only, Ġcookie, Ġfrom,...          129   \n3  [CLS, Cop, ies, Ġall, Ġfiles, Ġfrom, Ġsource, ...          253   \n4  [CLS, S, aves, Ġthe, Ġconfiguration, Ġinfo, Ġt...          321   \n\n                                          embeddings  \n0  [[0.0, 0.0, 0.0, 0.0, 0.0, 0.0, 0.0, 0.0, 0.0,...  \n1  [[0.0, 0.0, 0.0, 0.0, 0.0, 0.0, 0.0, 0.0, 0.0,...  \n2  [[0.0, 0.0, 0.0, 0.0, 0.0, 0.0, 0.0, 0.0, 0.0,...  \n3  [[0.0, 0.0, 0.0, 0.0, 0.0, 0.0, 0.0, 0.0, 0.0,...  \n4  [[0.0, 0.0, 0.0, 0.0, 0.0, 0.0, 0.0, 0.0, 0.0,...  ",
      "text/html": "<div>\n<style scoped>\n    .dataframe tbody tr th:only-of-type {\n        vertical-align: middle;\n    }\n\n    .dataframe tbody tr th {\n        vertical-align: top;\n    }\n\n    .dataframe thead th {\n        text-align: right;\n    }\n</style>\n<table border=\"1\" class=\"dataframe\">\n  <thead>\n    <tr style=\"text-align: right;\">\n      <th></th>\n      <th>docstring</th>\n      <th>code</th>\n      <th>relevance</th>\n      <th>repo</th>\n      <th>func_url</th>\n      <th>tokens</th>\n      <th>token_count</th>\n      <th>embeddings</th>\n    </tr>\n  </thead>\n  <tbody>\n    <tr>\n      <th>0</th>\n      <td>Attempt to convert the specified value to epoc...</td>\n      <td>private static String coerceToEpoch(String s) ...</td>\n      <td>2</td>\n      <td>spring-projects/spring-boot</td>\n      <td>https://github.com/spring-projects/spring-boot...</td>\n      <td>[CLS, Attempt, Ġto, Ġconvert, Ġthe, Ġspecified...</td>\n      <td>202</td>\n      <td>[[0.0, 0.0, 0.0, 0.0, 0.0, 0.0, 0.0, 0.0, 0.0,...</td>\n    </tr>\n    <tr>\n      <th>1</th>\n      <td>Generate a server side cookie given the cookie...</td>\n      <td>private Cookie createCookie(String str) throws...</td>\n      <td>2</td>\n      <td>apache/spark</td>\n      <td>https://github.com/apache/spark/blob/25ee0474f...</td>\n      <td>[CLS, Gener, ate, Ġa, Ġserver, Ġside, Ġcookie,...</td>\n      <td>223</td>\n      <td>[[0.0, 0.0, 0.0, 0.0, 0.0, 0.0, 0.0, 0.0, 0.0,...</td>\n    </tr>\n    <tr>\n      <th>2</th>\n      <td>Generate httponly cookie from HS2 cookie\\n@par...</td>\n      <td>private static String getHttpOnlyCookieHeader(...</td>\n      <td>2</td>\n      <td>apache/spark</td>\n      <td>https://github.com/apache/spark/blob/25ee0474f...</td>\n      <td>[CLS, Gener, ate, Ġhttp, only, Ġcookie, Ġfrom,...</td>\n      <td>129</td>\n      <td>[[0.0, 0.0, 0.0, 0.0, 0.0, 0.0, 0.0, 0.0, 0.0,...</td>\n    </tr>\n    <tr>\n      <th>3</th>\n      <td>Copies all files from source to target and set...</td>\n      <td>public static void copy(Path sourcePath, Path ...</td>\n      <td>3</td>\n      <td>apache/flink</td>\n      <td>https://github.com/apache/flink/blob/b62db93bf...</td>\n      <td>[CLS, Cop, ies, Ġall, Ġfiles, Ġfrom, Ġsource, ...</td>\n      <td>253</td>\n      <td>[[0.0, 0.0, 0.0, 0.0, 0.0, 0.0, 0.0, 0.0, 0.0,...</td>\n    </tr>\n    <tr>\n      <th>4</th>\n      <td>Saves the configuration info to the disk.</td>\n      <td>public synchronized void save() {\\n        if ...</td>\n      <td>3</td>\n      <td>jenkinsci/jenkins</td>\n      <td>https://github.com/jenkinsci/jenkins/blob/44c4...</td>\n      <td>[CLS, S, aves, Ġthe, Ġconfiguration, Ġinfo, Ġt...</td>\n      <td>321</td>\n      <td>[[0.0, 0.0, 0.0, 0.0, 0.0, 0.0, 0.0, 0.0, 0.0,...</td>\n    </tr>\n  </tbody>\n</table>\n</div>"
     },
     "execution_count": 5,
     "metadata": {},
     "output_type": "execute_result"
    }
   ],
   "source": [
    "df[['tokens', 'token_count', 'embeddings']] = df.progress_apply(lambda x: get_tokens_and_embeddings(x['docstring'], x['code'], tokenizer=bert_tokenizer, model=bert_model), axis=1, result_type='expand')\n",
    "df = df.drop(columns=['split'])\n",
    "df.head()"
   ],
   "metadata": {
    "collapsed": false
   }
  },
  {
   "cell_type": "markdown",
   "source": [
    "### Explore data\n",
    "All below adapted from: https://towardsdatascience.com/pytorch-tabular-multiclass-classification-9f8211a123ab"
   ],
   "metadata": {
    "collapsed": false
   }
  },
  {
   "cell_type": "code",
   "execution_count": 7,
   "outputs": [
    {
     "data": {
      "text/plain": "<Axes: xlabel='relevance', ylabel='count'>"
     },
     "execution_count": 7,
     "metadata": {},
     "output_type": "execute_result"
    },
    {
     "data": {
      "text/plain": "<Figure size 640x480 with 1 Axes>",
      "image/png": "[encoded data removed]"
     },
     "metadata": {},
     "output_type": "display_data"
    }
   ],
   "source": [
    "sns.countplot(df, x='relevance')"
   ],
   "metadata": {
    "collapsed": false
   }
  },
  {
   "cell_type": "markdown",
   "source": [
    "#### Create splits"
   ],
   "metadata": {
    "collapsed": false
   }
  },
  {
   "cell_type": "code",
   "execution_count": 8,
   "outputs": [],
   "source": [
    "X = df[['embeddings']]\n",
    "y = df[['relevance']]\n",
    "\n",
    "random_seed = 123"
   ],
   "metadata": {
    "collapsed": false
   }
  },
  {
   "cell_type": "code",
   "execution_count": 9,
   "outputs": [],
   "source": [
    "X_trainval, X_test, y_trainval, y_test = train_test_split(X, y, test_size=0.2, stratify=y, random_state=random_seed)\n",
    "X_train, X_val, y_train, y_val = train_test_split(X_trainval, y_trainval, test_size=0.1, stratify=y_trainval, random_state=random_seed)"
   ],
   "metadata": {
    "collapsed": false
   }
  },
  {
   "cell_type": "code",
   "execution_count": 10,
   "outputs": [
    {
     "data": {
      "text/plain": "<Axes: xlabel='relevance', ylabel='count'>"
     },
     "execution_count": 10,
     "metadata": {},
     "output_type": "execute_result"
    },
    {
     "data": {
      "text/plain": "<Figure size 640x480 with 1 Axes>",
      "image/png": "[encoded data removed]"
     },
     "metadata": {},
     "output_type": "display_data"
    }
   ],
   "source": [
    "sns.countplot(y_train, x='relevance')"
   ],
   "metadata": {
    "collapsed": false
   }
  },
  {
   "cell_type": "code",
   "execution_count": 11,
   "outputs": [
    {
     "data": {
      "text/plain": "<Axes: xlabel='relevance', ylabel='count'>"
     },
     "execution_count": 11,
     "metadata": {},
     "output_type": "execute_result"
    },
    {
     "data": {
      "text/plain": "<Figure size 640x480 with 1 Axes>",
      "image/png": "[encoded data removed]"
     },
     "metadata": {},
     "output_type": "display_data"
    }
   ],
   "source": [
    "sns.countplot(y_val, x='relevance')"
   ],
   "metadata": {
    "collapsed": false
   }
  },
  {
   "cell_type": "code",
   "execution_count": 12,
   "outputs": [
    {
     "data": {
      "text/plain": "<Axes: xlabel='relevance', ylabel='count'>"
     },
     "execution_count": 12,
     "metadata": {},
     "output_type": "execute_result"
    },
    {
     "data": {
      "text/plain": "<Figure size 640x480 with 1 Axes>",
      "image/png": "[encoded data removed]"
     },
     "metadata": {},
     "output_type": "display_data"
    }
   ],
   "source": [
    "sns.countplot(y_test, x='relevance')"
   ],
   "metadata": {
    "collapsed": false
   }
  },
  {
   "cell_type": "markdown",
   "source": [
    "### Create dataloader"
   ],
   "metadata": {
    "collapsed": false
   }
  },
  {
   "cell_type": "code",
   "execution_count": 13,
   "outputs": [],
   "source": [
    "class RelevanceDataset(Dataset):\n",
    "    def __init__(self, X_data, y_data):\n",
    "        self.X_data = torch.tensor(X_data.reset_index(drop=True).embeddings)\n",
    "        self.y_data = torch.tensor(y_data.reset_index(drop=True).relevance).long()\n",
    "\n",
    "    def __getitem__(self, item):\n",
    "        return self.X_data[item], self.y_data[item]\n",
    "\n",
    "    def __len__(self):\n",
    "        return len(self.X_data)"
   ],
   "metadata": {
    "collapsed": false
   }
  },
  {
   "cell_type": "code",
   "execution_count": 14,
   "outputs": [
    {
     "name": "stderr",
     "output_type": "stream",
     "text": [
      "/var/folders/1y/6byzw1px62g2f5w7p_rhb6kh0000gn/T/ipykernel_30528/1746146353.py:3: UserWarning: Creating a tensor from a list of numpy.ndarrays is extremely slow. Please consider converting the list to a single numpy.ndarray with numpy.array() before converting to a tensor. (Triggered internally at /Users/runner/work/pytorch/pytorch/pytorch/torch/csrc/utils/tensor_new.cpp:248.)\n",
      "  self.X_data = torch.tensor(X_data.reset_index(drop=True).embeddings)\n"
     ]
    }
   ],
   "source": [
    "train_dataset = RelevanceDataset(X_train, y_train)\n",
    "val_dataset = RelevanceDataset(X_val, y_val)\n",
    "test_dataset = RelevanceDataset(X_test, y_test)"
   ],
   "metadata": {
    "collapsed": false
   }
  },
  {
   "cell_type": "markdown",
   "source": [
    "#### Oversample Dataset"
   ],
   "metadata": {
    "collapsed": false
   }
  },
  {
   "cell_type": "code",
   "execution_count": 15,
   "outputs": [],
   "source": [
    "target_list = []\n",
    "\n",
    "for _, t in train_dataset:\n",
    "    target_list.append(t)\n",
    "\n",
    "\n",
    "target_list = torch.tensor(target_list)\n",
    "\n",
    "class_count = [i for i in y_train.value_counts().values]\n",
    "class_weights = 1./torch.tensor(class_count, dtype=torch.float)\n",
    "\n",
    "class_weights_all = class_weights[target_list]\n",
    "\n",
    "weighted_sampler = WeightedRandomSampler(weights=class_weights_all, num_samples=len(class_weights_all), replacement=True)"
   ],
   "metadata": {
    "collapsed": false
   }
  },
  {
   "cell_type": "markdown",
   "source": [
    "### Model Parameters"
   ],
   "metadata": {
    "collapsed": false
   }
  },
  {
   "cell_type": "code",
   "execution_count": 16,
   "outputs": [],
   "source": [
    "EPOCHS = 300\n",
    "BATCH_SIZE = 16\n",
    "LEARNING_RATE = 0.0007\n",
    "\n",
    "KERNEL_SIZE = 5\n",
    "HIDDEN_LAYER_SIZE = 256\n",
    "\n",
    "NUM_FEATURES = 400\n",
    "NUM_CLASSES = 4"
   ],
   "metadata": {
    "collapsed": false
   }
  },
  {
   "cell_type": "markdown",
   "source": [
    "#### Setup Dataloaders"
   ],
   "metadata": {
    "collapsed": false
   }
  },
  {
   "cell_type": "code",
   "execution_count": 17,
   "outputs": [],
   "source": [
    "train_loader = DataLoader(dataset=train_dataset, batch_size=BATCH_SIZE, sampler=weighted_sampler)\n",
    "val_loader = DataLoader(dataset=val_dataset, batch_size=1)"
   ],
   "metadata": {
    "collapsed": false
   }
  },
  {
   "cell_type": "markdown",
   "source": [
    "#### Define Model"
   ],
   "metadata": {
    "collapsed": false
   }
  },
  {
   "cell_type": "code",
   "execution_count": 33,
   "outputs": [],
   "source": [
    "class Classifier(nn.Module):\n",
    "    def __init__(self, num_features, hidden_layer_size, kernel_size, num_class):\n",
    "        super(Classifier, self).__init__()\n",
    "\n",
    "        self.conv1 = nn.Conv1d(num_features, hidden_layer_size, kernel_size)\n",
    "        self.conv2 = nn.Conv1d(hidden_layer_size, hidden_layer_size, kernel_size)\n",
    "        self.fc1 = nn.Linear(7424, 7424)\n",
    "        self.fc_out = nn.Linear(7424, num_class)\n",
    "\n",
    "        self.pool = nn.MaxPool1d(kernel_size)\n",
    "        self.flatten = nn.Flatten()\n",
    "        self.relu = nn.ReLU()\n",
    "        self.dropout = nn.Dropout()\n",
    "\n",
    "    def forward(self, x):\n",
    "        x = self.conv1(x)\n",
    "        x = self.pool(x)\n",
    "\n",
    "        x = self.conv2(x)\n",
    "        x = self.pool(x)\n",
    "\n",
    "        x = self.flatten(x)\n",
    "\n",
    "        x = self.fc1(x)\n",
    "        x = self.relu(x)\n",
    "        x = self.dropout(x)\n",
    "\n",
    "        x = self.fc_out(x)\n",
    "\n",
    "        return x"
   ],
   "metadata": {
    "collapsed": false
   }
  },
  {
   "cell_type": "markdown",
   "source": [
    "#### Train Model"
   ],
   "metadata": {
    "collapsed": false
   }
  },
  {
   "cell_type": "code",
   "execution_count": 19,
   "outputs": [
    {
     "name": "stdout",
     "output_type": "stream",
     "text": [
      "cpu\n"
     ]
    }
   ],
   "source": [
    "device = torch.device(\"cuda:0\" if torch.cuda.is_available() else \"cpu\")\n",
    "print(device)"
   ],
   "metadata": {
    "collapsed": false
   }
  },
  {
   "cell_type": "code",
   "execution_count": 34,
   "outputs": [
    {
     "data": {
      "text/plain": "Classifier(\n  (conv1): Conv1d(400, 256, kernel_size=(5,), stride=(1,))\n  (conv2): Conv1d(256, 256, kernel_size=(5,), stride=(1,))\n  (fc1): Linear(in_features=7424, out_features=7424, bias=True)\n  (fc_out): Linear(in_features=7424, out_features=4, bias=True)\n  (pool): MaxPool1d(kernel_size=5, stride=5, padding=0, dilation=1, ceil_mode=False)\n  (flatten): Flatten(start_dim=1, end_dim=-1)\n  (relu): ReLU()\n  (dropout): Dropout(p=0.5, inplace=False)\n)"
     },
     "execution_count": 34,
     "metadata": {},
     "output_type": "execute_result"
    }
   ],
   "source": [
    "model = Classifier(num_features=NUM_FEATURES, hidden_layer_size=HIDDEN_LAYER_SIZE, kernel_size=KERNEL_SIZE, num_class=NUM_CLASSES)\n",
    "\n",
    "model.to(device)\n",
    "\n",
    "criterion = nn.CrossEntropyLoss(weight=class_weights.to(device))\n",
    "optimizer = optim.Adam(model.parameters(), lr=LEARNING_RATE)\n",
    "\n",
    "model"
   ],
   "metadata": {
    "collapsed": false
   }
  },
  {
   "cell_type": "code",
   "execution_count": 21,
   "outputs": [],
   "source": [
    "# TODO: What does this function measure?\n",
    "\n",
    "def multi_acc(y_pred, y_test):\n",
    "    y_pred_softmax = torch.log_softmax(y_pred, dim = 1)\n",
    "    _, y_pred_tags = torch.max(y_pred_softmax, dim=1)\n",
    "\n",
    "    correct_pred = (y_pred_tags == y_test)\n",
    "    acc = correct_pred.sum() / len(correct_pred)\n",
    "\n",
    "    return torch.round(acc * 100)\n",
    "\n",
    "\n",
    "accuracy_stats = {\n",
    "    'train': [],\n",
    "    'val': []\n",
    "}\n",
    "\n",
    "loss_stats = {\n",
    "    'train': [],\n",
    "    'val': []\n",
    "}"
   ],
   "metadata": {
    "collapsed": false
   }
  },
  {
   "cell_type": "code",
   "execution_count": 35,
   "outputs": [
    {
     "name": "stdout",
     "output_type": "stream",
     "text": [
      "Begin training...\n"
     ]
    },
    {
     "name": "stderr",
     "output_type": "stream",
     "text": [
      "  0%|          | 1/300 [00:03<18:43,  3.76s/it]"
     ]
    },
    {
     "name": "stdout",
     "output_type": "stream",
     "text": [
      "Epoch 1.03: | Train Loss: 5.82163 |Validation Loss: 5.95527 |Train Accuracy:  17.4:.3f |Validation Accuracy: 12.5:.3f\n"
     ]
    },
    {
     "name": "stderr",
     "output_type": "stream",
     "text": [
      "  1%|          | 2/300 [00:07<17:44,  3.57s/it]"
     ]
    },
    {
     "name": "stdout",
     "output_type": "stream",
     "text": [
      "Epoch 2.03: | Train Loss: 5.86645 |Validation Loss: 5.68917 |Train Accuracy:  27.4:.3f |Validation Accuracy: 25.0:.3f\n"
     ]
    },
    {
     "name": "stderr",
     "output_type": "stream",
     "text": [
      "  1%|          | 3/300 [00:10<17:17,  3.49s/it]"
     ]
    },
    {
     "name": "stdout",
     "output_type": "stream",
     "text": [
      "Epoch 3.03: | Train Loss: 3.76749 |Validation Loss: 7.67781 |Train Accuracy:  36.2:.3f |Validation Accuracy: 25.0:.3f\n"
     ]
    },
    {
     "name": "stderr",
     "output_type": "stream",
     "text": [
      "  1%|▏         | 4/300 [00:14<17:21,  3.52s/it]"
     ]
    },
    {
     "name": "stdout",
     "output_type": "stream",
     "text": [
      "Epoch 4.03: | Train Loss: 3.80978 |Validation Loss: 25.58422 |Train Accuracy:  46.4:.3f |Validation Accuracy: 25.0:.3f\n"
     ]
    },
    {
     "name": "stderr",
     "output_type": "stream",
     "text": [
      "  2%|▏         | 5/300 [00:17<17:36,  3.58s/it]"
     ]
    },
    {
     "name": "stdout",
     "output_type": "stream",
     "text": [
      "Epoch 5.03: | Train Loss: 6.24996 |Validation Loss: 8.30158 |Train Accuracy:  18.8:.3f |Validation Accuracy: 25.0:.3f\n"
     ]
    },
    {
     "name": "stderr",
     "output_type": "stream",
     "text": [
      "  2%|▏         | 6/300 [00:21<17:20,  3.54s/it]"
     ]
    },
    {
     "name": "stdout",
     "output_type": "stream",
     "text": [
      "Epoch 6.03: | Train Loss: 3.60441 |Validation Loss: 2.45386 |Train Accuracy:  23.6:.3f |Validation Accuracy: 25.0:.3f\n"
     ]
    },
    {
     "name": "stderr",
     "output_type": "stream",
     "text": [
      "  2%|▏         | 7/300 [00:24<17:07,  3.51s/it]"
     ]
    },
    {
     "name": "stdout",
     "output_type": "stream",
     "text": [
      "Epoch 7.03: | Train Loss: 1.94129 |Validation Loss: 2.46612 |Train Accuracy:  29.0:.3f |Validation Accuracy: 25.0:.3f\n"
     ]
    },
    {
     "name": "stderr",
     "output_type": "stream",
     "text": [
      "  3%|▎         | 8/300 [00:28<17:07,  3.52s/it]"
     ]
    },
    {
     "name": "stdout",
     "output_type": "stream",
     "text": [
      "Epoch 8.03: | Train Loss: 2.44747 |Validation Loss: 2.59217 |Train Accuracy:  34.8:.3f |Validation Accuracy: 25.0:.3f\n"
     ]
    },
    {
     "name": "stderr",
     "output_type": "stream",
     "text": [
      "  3%|▎         | 9/300 [00:31<17:03,  3.52s/it]"
     ]
    },
    {
     "name": "stdout",
     "output_type": "stream",
     "text": [
      "Epoch 9.03: | Train Loss: 1.90770 |Validation Loss: 10.00343 |Train Accuracy:  36.4:.3f |Validation Accuracy: 12.5:.3f\n"
     ]
    },
    {
     "name": "stderr",
     "output_type": "stream",
     "text": [
      "  3%|▎         | 10/300 [00:35<16:47,  3.47s/it]"
     ]
    },
    {
     "name": "stdout",
     "output_type": "stream",
     "text": [
      "Epoch 10.03: | Train Loss: 4.92031 |Validation Loss: 5.93839 |Train Accuracy:  32.4:.3f |Validation Accuracy: 25.0:.3f\n"
     ]
    },
    {
     "name": "stderr",
     "output_type": "stream",
     "text": [
      "  4%|▎         | 11/300 [00:38<16:44,  3.48s/it]"
     ]
    },
    {
     "name": "stdout",
     "output_type": "stream",
     "text": [
      "Epoch 11.03: | Train Loss: 5.48593 |Validation Loss: 1.61522 |Train Accuracy:  35.2:.3f |Validation Accuracy: 25.0:.3f\n"
     ]
    },
    {
     "name": "stderr",
     "output_type": "stream",
     "text": [
      "  4%|▍         | 12/300 [00:42<16:33,  3.45s/it]"
     ]
    },
    {
     "name": "stdout",
     "output_type": "stream",
     "text": [
      "Epoch 12.03: | Train Loss: 2.06863 |Validation Loss: 2.68409 |Train Accuracy:  33.8:.3f |Validation Accuracy: 25.0:.3f\n"
     ]
    },
    {
     "name": "stderr",
     "output_type": "stream",
     "text": [
      "  4%|▍         | 13/300 [00:45<16:45,  3.50s/it]"
     ]
    },
    {
     "name": "stdout",
     "output_type": "stream",
     "text": [
      "Epoch 13.03: | Train Loss: 1.29424 |Validation Loss: 2.12558 |Train Accuracy:  45.2:.3f |Validation Accuracy: 37.5:.3f\n"
     ]
    },
    {
     "name": "stderr",
     "output_type": "stream",
     "text": [
      "  5%|▍         | 14/300 [00:49<16:45,  3.52s/it]"
     ]
    },
    {
     "name": "stdout",
     "output_type": "stream",
     "text": [
      "Epoch 14.03: | Train Loss: 1.49543 |Validation Loss: 3.85648 |Train Accuracy:  41.2:.3f |Validation Accuracy: 37.5:.3f\n"
     ]
    },
    {
     "name": "stderr",
     "output_type": "stream",
     "text": [
      "  5%|▌         | 15/300 [00:52<16:34,  3.49s/it]"
     ]
    },
    {
     "name": "stdout",
     "output_type": "stream",
     "text": [
      "Epoch 15.03: | Train Loss: 1.90824 |Validation Loss: 4.03787 |Train Accuracy:  32.6:.3f |Validation Accuracy: 12.5:.3f\n"
     ]
    },
    {
     "name": "stderr",
     "output_type": "stream",
     "text": [
      "  5%|▌         | 16/300 [00:56<16:32,  3.50s/it]"
     ]
    },
    {
     "name": "stdout",
     "output_type": "stream",
     "text": [
      "Epoch 16.03: | Train Loss: 2.57441 |Validation Loss: 5.06555 |Train Accuracy:  37.6:.3f |Validation Accuracy: 25.0:.3f\n"
     ]
    },
    {
     "name": "stderr",
     "output_type": "stream",
     "text": [
      "  6%|▌         | 17/300 [00:59<16:24,  3.48s/it]"
     ]
    },
    {
     "name": "stdout",
     "output_type": "stream",
     "text": [
      "Epoch 17.03: | Train Loss: 1.81679 |Validation Loss: 2.21482 |Train Accuracy:  38.6:.3f |Validation Accuracy: 37.5:.3f\n"
     ]
    },
    {
     "name": "stderr",
     "output_type": "stream",
     "text": [
      "  6%|▌         | 18/300 [01:03<16:18,  3.47s/it]"
     ]
    },
    {
     "name": "stdout",
     "output_type": "stream",
     "text": [
      "Epoch 18.03: | Train Loss: 0.91029 |Validation Loss: 1.55339 |Train Accuracy:  62.6:.3f |Validation Accuracy: 25.0:.3f\n"
     ]
    },
    {
     "name": "stderr",
     "output_type": "stream",
     "text": [
      "  6%|▋         | 19/300 [01:06<16:14,  3.47s/it]"
     ]
    },
    {
     "name": "stdout",
     "output_type": "stream",
     "text": [
      "Epoch 19.03: | Train Loss: 0.74029 |Validation Loss: 1.93194 |Train Accuracy:  66.2:.3f |Validation Accuracy: 37.5:.3f\n"
     ]
    },
    {
     "name": "stderr",
     "output_type": "stream",
     "text": [
      "  6%|▋         | 19/300 [01:09<17:09,  3.66s/it]\n"
     ]
    },
    {
     "ename": "KeyboardInterrupt",
     "evalue": "",
     "output_type": "error",
     "traceback": [
      "\u001B[0;31m---------------------------------------------------------------------------\u001B[0m",
      "\u001B[0;31mKeyboardInterrupt\u001B[0m                         Traceback (most recent call last)",
      "Cell \u001B[0;32mIn[35], line 18\u001B[0m\n\u001B[1;32m     14\u001B[0m y_train_batch \u001B[38;5;241m=\u001B[39m y_train_batch\u001B[38;5;241m.\u001B[39mto(device)\n\u001B[1;32m     16\u001B[0m optimizer\u001B[38;5;241m.\u001B[39mzero_grad()\n\u001B[0;32m---> 18\u001B[0m y_train_pred \u001B[38;5;241m=\u001B[39m \u001B[43mmodel\u001B[49m\u001B[43m(\u001B[49m\u001B[43mX_train_batch\u001B[49m\u001B[43m)\u001B[49m\n\u001B[1;32m     20\u001B[0m train_loss \u001B[38;5;241m=\u001B[39m criterion(y_train_pred, y_train_batch)\n\u001B[1;32m     21\u001B[0m train_acc \u001B[38;5;241m=\u001B[39m multi_acc(y_train_pred, y_train_batch)\n",
      "File \u001B[0;32m~/workspace/Programming/JavaDoc_Code_Similarity/venv/lib/python3.11/site-packages/torch/nn/modules/module.py:1501\u001B[0m, in \u001B[0;36mModule._call_impl\u001B[0;34m(self, *args, **kwargs)\u001B[0m\n\u001B[1;32m   1496\u001B[0m \u001B[38;5;66;03m# If we don't have any hooks, we want to skip the rest of the logic in\u001B[39;00m\n\u001B[1;32m   1497\u001B[0m \u001B[38;5;66;03m# this function, and just call forward.\u001B[39;00m\n\u001B[1;32m   1498\u001B[0m \u001B[38;5;28;01mif\u001B[39;00m \u001B[38;5;129;01mnot\u001B[39;00m (\u001B[38;5;28mself\u001B[39m\u001B[38;5;241m.\u001B[39m_backward_hooks \u001B[38;5;129;01mor\u001B[39;00m \u001B[38;5;28mself\u001B[39m\u001B[38;5;241m.\u001B[39m_backward_pre_hooks \u001B[38;5;129;01mor\u001B[39;00m \u001B[38;5;28mself\u001B[39m\u001B[38;5;241m.\u001B[39m_forward_hooks \u001B[38;5;129;01mor\u001B[39;00m \u001B[38;5;28mself\u001B[39m\u001B[38;5;241m.\u001B[39m_forward_pre_hooks\n\u001B[1;32m   1499\u001B[0m         \u001B[38;5;129;01mor\u001B[39;00m _global_backward_pre_hooks \u001B[38;5;129;01mor\u001B[39;00m _global_backward_hooks\n\u001B[1;32m   1500\u001B[0m         \u001B[38;5;129;01mor\u001B[39;00m _global_forward_hooks \u001B[38;5;129;01mor\u001B[39;00m _global_forward_pre_hooks):\n\u001B[0;32m-> 1501\u001B[0m     \u001B[38;5;28;01mreturn\u001B[39;00m \u001B[43mforward_call\u001B[49m\u001B[43m(\u001B[49m\u001B[38;5;241;43m*\u001B[39;49m\u001B[43margs\u001B[49m\u001B[43m,\u001B[49m\u001B[43m \u001B[49m\u001B[38;5;241;43m*\u001B[39;49m\u001B[38;5;241;43m*\u001B[39;49m\u001B[43mkwargs\u001B[49m\u001B[43m)\u001B[49m\n\u001B[1;32m   1502\u001B[0m \u001B[38;5;66;03m# Do not call functions when jit is used\u001B[39;00m\n\u001B[1;32m   1503\u001B[0m full_backward_hooks, non_full_backward_hooks \u001B[38;5;241m=\u001B[39m [], []\n",
      "Cell \u001B[0;32mIn[33], line 16\u001B[0m, in \u001B[0;36mClassifier.forward\u001B[0;34m(self, x)\u001B[0m\n\u001B[1;32m     15\u001B[0m \u001B[38;5;28;01mdef\u001B[39;00m \u001B[38;5;21mforward\u001B[39m(\u001B[38;5;28mself\u001B[39m, x):\n\u001B[0;32m---> 16\u001B[0m     x \u001B[38;5;241m=\u001B[39m \u001B[38;5;28;43mself\u001B[39;49m\u001B[38;5;241;43m.\u001B[39;49m\u001B[43mconv1\u001B[49m\u001B[43m(\u001B[49m\u001B[43mx\u001B[49m\u001B[43m)\u001B[49m\n\u001B[1;32m     17\u001B[0m     x \u001B[38;5;241m=\u001B[39m \u001B[38;5;28mself\u001B[39m\u001B[38;5;241m.\u001B[39mpool(x)\n\u001B[1;32m     19\u001B[0m     x \u001B[38;5;241m=\u001B[39m \u001B[38;5;28mself\u001B[39m\u001B[38;5;241m.\u001B[39mconv2(x)\n",
      "File \u001B[0;32m~/workspace/Programming/JavaDoc_Code_Similarity/venv/lib/python3.11/site-packages/torch/nn/modules/module.py:1501\u001B[0m, in \u001B[0;36mModule._call_impl\u001B[0;34m(self, *args, **kwargs)\u001B[0m\n\u001B[1;32m   1496\u001B[0m \u001B[38;5;66;03m# If we don't have any hooks, we want to skip the rest of the logic in\u001B[39;00m\n\u001B[1;32m   1497\u001B[0m \u001B[38;5;66;03m# this function, and just call forward.\u001B[39;00m\n\u001B[1;32m   1498\u001B[0m \u001B[38;5;28;01mif\u001B[39;00m \u001B[38;5;129;01mnot\u001B[39;00m (\u001B[38;5;28mself\u001B[39m\u001B[38;5;241m.\u001B[39m_backward_hooks \u001B[38;5;129;01mor\u001B[39;00m \u001B[38;5;28mself\u001B[39m\u001B[38;5;241m.\u001B[39m_backward_pre_hooks \u001B[38;5;129;01mor\u001B[39;00m \u001B[38;5;28mself\u001B[39m\u001B[38;5;241m.\u001B[39m_forward_hooks \u001B[38;5;129;01mor\u001B[39;00m \u001B[38;5;28mself\u001B[39m\u001B[38;5;241m.\u001B[39m_forward_pre_hooks\n\u001B[1;32m   1499\u001B[0m         \u001B[38;5;129;01mor\u001B[39;00m _global_backward_pre_hooks \u001B[38;5;129;01mor\u001B[39;00m _global_backward_hooks\n\u001B[1;32m   1500\u001B[0m         \u001B[38;5;129;01mor\u001B[39;00m _global_forward_hooks \u001B[38;5;129;01mor\u001B[39;00m _global_forward_pre_hooks):\n\u001B[0;32m-> 1501\u001B[0m     \u001B[38;5;28;01mreturn\u001B[39;00m \u001B[43mforward_call\u001B[49m\u001B[43m(\u001B[49m\u001B[38;5;241;43m*\u001B[39;49m\u001B[43margs\u001B[49m\u001B[43m,\u001B[49m\u001B[43m \u001B[49m\u001B[38;5;241;43m*\u001B[39;49m\u001B[38;5;241;43m*\u001B[39;49m\u001B[43mkwargs\u001B[49m\u001B[43m)\u001B[49m\n\u001B[1;32m   1502\u001B[0m \u001B[38;5;66;03m# Do not call functions when jit is used\u001B[39;00m\n\u001B[1;32m   1503\u001B[0m full_backward_hooks, non_full_backward_hooks \u001B[38;5;241m=\u001B[39m [], []\n",
      "File \u001B[0;32m~/workspace/Programming/JavaDoc_Code_Similarity/venv/lib/python3.11/site-packages/torch/nn/modules/conv.py:313\u001B[0m, in \u001B[0;36mConv1d.forward\u001B[0;34m(self, input)\u001B[0m\n\u001B[1;32m    312\u001B[0m \u001B[38;5;28;01mdef\u001B[39;00m \u001B[38;5;21mforward\u001B[39m(\u001B[38;5;28mself\u001B[39m, \u001B[38;5;28minput\u001B[39m: Tensor) \u001B[38;5;241m-\u001B[39m\u001B[38;5;241m>\u001B[39m Tensor:\n\u001B[0;32m--> 313\u001B[0m     \u001B[38;5;28;01mreturn\u001B[39;00m \u001B[38;5;28;43mself\u001B[39;49m\u001B[38;5;241;43m.\u001B[39;49m\u001B[43m_conv_forward\u001B[49m\u001B[43m(\u001B[49m\u001B[38;5;28;43minput\u001B[39;49m\u001B[43m,\u001B[49m\u001B[43m \u001B[49m\u001B[38;5;28;43mself\u001B[39;49m\u001B[38;5;241;43m.\u001B[39;49m\u001B[43mweight\u001B[49m\u001B[43m,\u001B[49m\u001B[43m \u001B[49m\u001B[38;5;28;43mself\u001B[39;49m\u001B[38;5;241;43m.\u001B[39;49m\u001B[43mbias\u001B[49m\u001B[43m)\u001B[49m\n",
      "File \u001B[0;32m~/workspace/Programming/JavaDoc_Code_Similarity/venv/lib/python3.11/site-packages/torch/nn/modules/conv.py:309\u001B[0m, in \u001B[0;36mConv1d._conv_forward\u001B[0;34m(self, input, weight, bias)\u001B[0m\n\u001B[1;32m    305\u001B[0m \u001B[38;5;28;01mif\u001B[39;00m \u001B[38;5;28mself\u001B[39m\u001B[38;5;241m.\u001B[39mpadding_mode \u001B[38;5;241m!=\u001B[39m \u001B[38;5;124m'\u001B[39m\u001B[38;5;124mzeros\u001B[39m\u001B[38;5;124m'\u001B[39m:\n\u001B[1;32m    306\u001B[0m     \u001B[38;5;28;01mreturn\u001B[39;00m F\u001B[38;5;241m.\u001B[39mconv1d(F\u001B[38;5;241m.\u001B[39mpad(\u001B[38;5;28minput\u001B[39m, \u001B[38;5;28mself\u001B[39m\u001B[38;5;241m.\u001B[39m_reversed_padding_repeated_twice, mode\u001B[38;5;241m=\u001B[39m\u001B[38;5;28mself\u001B[39m\u001B[38;5;241m.\u001B[39mpadding_mode),\n\u001B[1;32m    307\u001B[0m                     weight, bias, \u001B[38;5;28mself\u001B[39m\u001B[38;5;241m.\u001B[39mstride,\n\u001B[1;32m    308\u001B[0m                     _single(\u001B[38;5;241m0\u001B[39m), \u001B[38;5;28mself\u001B[39m\u001B[38;5;241m.\u001B[39mdilation, \u001B[38;5;28mself\u001B[39m\u001B[38;5;241m.\u001B[39mgroups)\n\u001B[0;32m--> 309\u001B[0m \u001B[38;5;28;01mreturn\u001B[39;00m \u001B[43mF\u001B[49m\u001B[38;5;241;43m.\u001B[39;49m\u001B[43mconv1d\u001B[49m\u001B[43m(\u001B[49m\u001B[38;5;28;43minput\u001B[39;49m\u001B[43m,\u001B[49m\u001B[43m \u001B[49m\u001B[43mweight\u001B[49m\u001B[43m,\u001B[49m\u001B[43m \u001B[49m\u001B[43mbias\u001B[49m\u001B[43m,\u001B[49m\u001B[43m \u001B[49m\u001B[38;5;28;43mself\u001B[39;49m\u001B[38;5;241;43m.\u001B[39;49m\u001B[43mstride\u001B[49m\u001B[43m,\u001B[49m\n\u001B[1;32m    310\u001B[0m \u001B[43m                \u001B[49m\u001B[38;5;28;43mself\u001B[39;49m\u001B[38;5;241;43m.\u001B[39;49m\u001B[43mpadding\u001B[49m\u001B[43m,\u001B[49m\u001B[43m \u001B[49m\u001B[38;5;28;43mself\u001B[39;49m\u001B[38;5;241;43m.\u001B[39;49m\u001B[43mdilation\u001B[49m\u001B[43m,\u001B[49m\u001B[43m \u001B[49m\u001B[38;5;28;43mself\u001B[39;49m\u001B[38;5;241;43m.\u001B[39;49m\u001B[43mgroups\u001B[49m\u001B[43m)\u001B[49m\n",
      "\u001B[0;31mKeyboardInterrupt\u001B[0m: "
     ]
    }
   ],
   "source": [
    "print(\"Begin training...\")\n",
    "\n",
    "\n",
    "for epoch in tqdm(range(1, EPOCHS + 1)):\n",
    "    train_epoch_loss = 0\n",
    "    train_epoch_acc = 0\n",
    "\n",
    "    # TRAINING\n",
    "\n",
    "    model.train()\n",
    "\n",
    "    for X_train_batch, y_train_batch in train_loader:\n",
    "        X_train_batch = X_train_batch.to(device)\n",
    "        y_train_batch = y_train_batch.to(device)\n",
    "\n",
    "        optimizer.zero_grad()\n",
    "\n",
    "        y_train_pred = model(X_train_batch)\n",
    "\n",
    "        train_loss = criterion(y_train_pred, y_train_batch)\n",
    "        train_acc = multi_acc(y_train_pred, y_train_batch)\n",
    "\n",
    "        train_loss.backward()\n",
    "        optimizer.step()\n",
    "\n",
    "        train_epoch_acc += train_acc.item()\n",
    "        train_epoch_loss += train_loss.item()\n",
    "\n",
    "\n",
    "    # Validation\n",
    "\n",
    "    with torch.no_grad():\n",
    "        val_epoch_loss = 0\n",
    "        val_epoch_acc = 0\n",
    "\n",
    "        model.eval()\n",
    "\n",
    "        for X_val_batch, y_val_batch in val_loader:\n",
    "            X_val_batch = X_val_batch.to(device)\n",
    "            y_val_batch = y_val_batch.to(device)\n",
    "\n",
    "            y_val_pred = model(X_val_batch)\n",
    "\n",
    "            val_epoch_loss += criterion(y_val_pred, y_val_batch).item()\n",
    "            val_epoch_acc += multi_acc(y_val_pred, y_val_batch).item()\n",
    "\n",
    "    loss_stats['train'].append(train_epoch_loss / len(train_loader))\n",
    "    loss_stats['val'].append(val_epoch_loss / len(val_loader))\n",
    "\n",
    "    accuracy_stats['train'].append(train_epoch_acc / len(train_loader))\n",
    "    accuracy_stats['val'].append(val_epoch_acc / len(val_loader))\n",
    "\n",
    "    print(f'Epoch {epoch+0.03}: | '\n",
    "          f'Train Loss: {train_epoch_loss / len(train_loader):.5f} |'\n",
    "          f'Validation Loss: {val_epoch_loss / len(val_loader):.5f} |'\n",
    "          f'Train Accuracy:  {train_epoch_acc / len(train_loader)}:.3f |'\n",
    "          f'Validation Accuracy: {val_epoch_acc / len(val_loader)}:.3f')"
   ],
   "metadata": {
    "collapsed": false
   }
  },
  {
   "cell_type": "markdown",
   "source": [
    "### Save Model and Data for Visualization and Testing"
   ],
   "metadata": {
    "collapsed": false
   }
  },
  {
   "cell_type": "code",
   "execution_count": null,
   "outputs": [],
   "source": [
    "pd.DataFrame.from_dict(accuracy_stats).reset_index().melt(id_vars=['index']).rename(columns={'index': 'epochs'}).to_csv('data/accuracy_stats.csv')\n",
    "pd.DataFrame.from_dict(loss_stats).reset_index().melt(id_vars=['index']).rename(columns={'index': 'epochs'}).to_csv('data/loss_stats.csv')\n",
    "\n",
    "torch.save(model.state_dict(), \"model_v1.pt\")"
   ],
   "metadata": {
    "collapsed": false
   }
  },
  {
   "cell_type": "code",
   "execution_count": 36,
   "outputs": [],
   "source": [
    "torch.save(test_dataset, 'data/test_dataset.pt')"
   ],
   "metadata": {
    "collapsed": false
   }
  }
 ],
 "metadata": {
  "kernelspec": {
   "display_name": "Python 3",
   "language": "python",
   "name": "python3"
  },
  "language_info": {
   "codemirror_mode": {
    "name": "ipython",
    "version": 2
   },
   "file_extension": ".py",
   "mimetype": "text/x-python",
   "name": "python",
   "nbconvert_exporter": "python",
   "pygments_lexer": "ipython2",
   "version": "2.7.6"
  }
 },
 "nbformat": 4,
 "nbformat_minor": 0
}
