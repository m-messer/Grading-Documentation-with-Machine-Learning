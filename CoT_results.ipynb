{
 "cells": [
  {
   "cell_type": "code",
   "execution_count": 13,
   "metadata": {
    "collapsed": true
   },
   "outputs": [],
   "source": [
    "import pandas as pd\n",
    "from training.metrics import compute_metrics_cot"
   ]
  },
  {
   "cell_type": "markdown",
   "source": [
    "# Chain of Thought Analysis\n",
    "#### Load data and calculate metrics"
   ],
   "metadata": {
    "collapsed": false
   }
  },
  {
   "cell_type": "code",
   "execution_count": 4,
   "outputs": [
    {
     "data": {
      "text/plain": "              time  epochs  number_of_examples  \\\n0  20240130-141818      50                   3   \n1  20240130-141818      50                   3   \n2  20240130-141818      50                   3   \n3  20240130-141818      50                   3   \n4  20240130-141818      50                   3   \n\n                                            messages  \\\n0  [{'role': 'system', 'content': 'You will be pr...   \n1  [{'role': 'system', 'content': 'You will be pr...   \n2  [{'role': 'system', 'content': 'You will be pr...   \n3  [{'role': 'system', 'content': 'You will be pr...   \n4  [{'role': 'system', 'content': 'You will be pr...   \n\n                                            response  pred  label  \n0  The relevance of the description \"k means clus...     3      2  \n1  The relevance of the description \"regex case i...     3      3  \n2  The relevance between the description \"write c...     3      1  \n3  Based on the given code, it is clear that the ...     3      3  \n4  The relevance of the description to the code i...     2      3  ",
      "text/html": "<div>\n<style scoped>\n    .dataframe tbody tr th:only-of-type {\n        vertical-align: middle;\n    }\n\n    .dataframe tbody tr th {\n        vertical-align: top;\n    }\n\n    .dataframe thead th {\n        text-align: right;\n    }\n</style>\n<table border=\"1\" class=\"dataframe\">\n  <thead>\n    <tr style=\"text-align: right;\">\n      <th></th>\n      <th>time</th>\n      <th>epochs</th>\n      <th>number_of_examples</th>\n      <th>messages</th>\n      <th>response</th>\n      <th>pred</th>\n      <th>label</th>\n    </tr>\n  </thead>\n  <tbody>\n    <tr>\n      <th>0</th>\n      <td>20240130-141818</td>\n      <td>50</td>\n      <td>3</td>\n      <td>[{'role': 'system', 'content': 'You will be pr...</td>\n      <td>The relevance of the description \"k means clus...</td>\n      <td>3</td>\n      <td>2</td>\n    </tr>\n    <tr>\n      <th>1</th>\n      <td>20240130-141818</td>\n      <td>50</td>\n      <td>3</td>\n      <td>[{'role': 'system', 'content': 'You will be pr...</td>\n      <td>The relevance of the description \"regex case i...</td>\n      <td>3</td>\n      <td>3</td>\n    </tr>\n    <tr>\n      <th>2</th>\n      <td>20240130-141818</td>\n      <td>50</td>\n      <td>3</td>\n      <td>[{'role': 'system', 'content': 'You will be pr...</td>\n      <td>The relevance between the description \"write c...</td>\n      <td>3</td>\n      <td>1</td>\n    </tr>\n    <tr>\n      <th>3</th>\n      <td>20240130-141818</td>\n      <td>50</td>\n      <td>3</td>\n      <td>[{'role': 'system', 'content': 'You will be pr...</td>\n      <td>Based on the given code, it is clear that the ...</td>\n      <td>3</td>\n      <td>3</td>\n    </tr>\n    <tr>\n      <th>4</th>\n      <td>20240130-141818</td>\n      <td>50</td>\n      <td>3</td>\n      <td>[{'role': 'system', 'content': 'You will be pr...</td>\n      <td>The relevance of the description to the code i...</td>\n      <td>2</td>\n      <td>3</td>\n    </tr>\n  </tbody>\n</table>\n</div>"
     },
     "execution_count": 4,
     "metadata": {},
     "output_type": "execute_result"
    }
   ],
   "source": [
    "df = pd.read_csv('data/cot_results_extracted.csv')\n",
    "df.head()"
   ],
   "metadata": {
    "collapsed": false
   }
  },
  {
   "cell_type": "code",
   "execution_count": 11,
   "outputs": [],
   "source": [
    "df_e3 = df[df['number_of_examples'] == 3]\n",
    "df_e5 = df[df['number_of_examples'] == 5]\n",
    "df_e10 = df[df['number_of_examples'] == 10]"
   ],
   "metadata": {
    "collapsed": false
   }
  },
  {
   "cell_type": "code",
   "execution_count": 22,
   "outputs": [
    {
     "name": "stdout",
     "output_type": "stream",
     "text": [
      "RESULTS: Number of Examples: 3\n"
     ]
    },
    {
     "data": {
      "text/plain": "{'accuracy': 0.3,\n 'f1_macro': 0.23192026649473457,\n 'f1_micro': 0.3,\n 'f1_weighted': 0.23601332473672898,\n 'recall_macro': 0.28528589466089466,\n 'recall_micro': 0.3,\n 'recall_weighted': 0.3,\n 'precision_macro': 0.37179487179487175,\n 'precision_micro': 0.3,\n 'precision_weighted': 0.3771794871794871}"
     },
     "execution_count": 22,
     "metadata": {},
     "output_type": "execute_result"
    }
   ],
   "source": [
    "print(\"RESULTS: Number of Examples: 3\")\n",
    "compute_metrics_cot(list(df_e3['pred']), list(df_e3['label']))"
   ],
   "metadata": {
    "collapsed": false
   }
  },
  {
   "cell_type": "code",
   "execution_count": 23,
   "outputs": [
    {
     "name": "stdout",
     "output_type": "stream",
     "text": [
      "RESULTS: Number of Examples: 10\n"
     ]
    },
    {
     "data": {
      "text/plain": "{'accuracy': 0.42,\n 'f1_macro': 0.30244729470735665,\n 'f1_micro': 0.41999999999999993,\n 'f1_weighted': 0.351077694235589,\n 'recall_macro': 0.34398567119155354,\n 'recall_micro': 0.42,\n 'recall_weighted': 0.42,\n 'precision_macro': 0.32011554621848737,\n 'precision_micro': 0.42,\n 'precision_weighted': 0.35392857142857137}"
     },
     "execution_count": 23,
     "metadata": {},
     "output_type": "execute_result"
    }
   ],
   "source": [
    "print(\"RESULTS: Number of Examples: 5\")\n",
    "compute_metrics_cot(list(df_e5['pred']), list(df_e5['label']))"
   ],
   "metadata": {
    "collapsed": false
   }
  },
  {
   "cell_type": "code",
   "execution_count": 24,
   "outputs": [
    {
     "name": "stdout",
     "output_type": "stream",
     "text": [
      "RESULTS: Number of Examples: 10\n"
     ]
    },
    {
     "data": {
      "text/plain": "{'accuracy': 0.4,\n 'f1_macro': 0.3446400091136933,\n 'f1_micro': 0.4000000000000001,\n 'f1_weighted': 0.3523513328776487,\n 'recall_macro': 0.39997329059829057,\n 'recall_micro': 0.4,\n 'recall_weighted': 0.4,\n 'precision_macro': 0.5499999999999999,\n 'precision_micro': 0.4,\n 'precision_weighted': 0.5846666666666667}"
     },
     "execution_count": 24,
     "metadata": {},
     "output_type": "execute_result"
    }
   ],
   "source": [
    "print(\"RESULTS: Number of Examples: 10\")\n",
    "compute_metrics_cot(list(df_e10['pred']), list(df_e10['label']))"
   ],
   "metadata": {
    "collapsed": false
   }
  }
 ],
 "metadata": {
  "kernelspec": {
   "display_name": "Python 3",
   "language": "python",
   "name": "python3"
  },
  "language_info": {
   "codemirror_mode": {
    "name": "ipython",
    "version": 2
   },
   "file_extension": ".py",
   "mimetype": "text/x-python",
   "name": "python",
   "nbconvert_exporter": "python",
   "pygments_lexer": "ipython2",
   "version": "2.7.6"
  }
 },
 "nbformat": 4,
 "nbformat_minor": 0
}
