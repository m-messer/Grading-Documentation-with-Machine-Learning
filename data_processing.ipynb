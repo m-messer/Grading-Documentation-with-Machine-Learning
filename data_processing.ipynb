{
 "cells": [
  {
   "cell_type": "code",
   "execution_count": 36,
   "metadata": {
    "collapsed": true
   },
   "outputs": [],
   "source": [
    "import pandas as pd\n",
    "from huggingface_hub import login\n",
    "from datasets import load_dataset\n",
    "import time\n",
    "import requests\n",
    "from tqdm import tqdm"
   ]
  },
  {
   "cell_type": "markdown",
   "source": [
    "# JavaDoc-Code Similarity\n",
    "### Login to Huggingface"
   ],
   "metadata": {
    "collapsed": false
   }
  },
  {
   "cell_type": "code",
   "execution_count": 3,
   "outputs": [
    {
     "name": "stdout",
     "output_type": "stream",
     "text": [
      "Token will not been saved to git credential helper. Pass `add_to_git_credential=True` if you want to set the git credential as well.\n",
      "Token is valid (permission: write).\n",
      "Your token has been saved to /Users/marcus/.cache/huggingface/token\n",
      "Login successful\n"
     ]
    }
   ],
   "source": [
    "with open('secrets/hugging_face_key.txt') as f:\n",
    "    login(f.read())"
   ],
   "metadata": {
    "collapsed": false
   }
  },
  {
   "cell_type": "markdown",
   "source": [
    "### Load dataset"
   ],
   "metadata": {
    "collapsed": false
   }
  },
  {
   "cell_type": "code",
   "execution_count": 8,
   "outputs": [],
   "source": [
    "ds = load_dataset(\"code_search_net\", \"java\", split='train', streaming=True)"
   ],
   "metadata": {
    "collapsed": false
   }
  },
  {
   "cell_type": "code",
   "execution_count": 11,
   "outputs": [
    {
     "name": "stdout",
     "output_type": "stream",
     "text": [
      "dict_keys(['repository_name', 'func_path_in_repository', 'func_name', 'whole_func_string', 'language', 'func_code_string', 'func_code_tokens', 'func_documentation_string', 'func_documentation_tokens', 'split_name', 'func_code_url'])\n",
      "Bind indexed elements to the supplied collection.\n",
      "@param name the name of the property to bind\n",
      "@param target the target bindable\n",
      "@param elementBinder the binder to use for elements\n",
      "@param aggregateType the aggregate type, may be a collection or an array\n",
      "@param elementType the element type\n",
      "@param result the destination for results\n",
      "protected final void bindIndexed(ConfigurationPropertyName name, Bindable<?> target,\n",
      "\t\t\tAggregateElementBinder elementBinder, ResolvableType aggregateType,\n",
      "\t\t\tResolvableType elementType, IndexedCollectionSupplier result) {\n",
      "\t\tfor (ConfigurationPropertySource source : getContext().getSources()) {\n",
      "\t\t\tbindIndexed(source, name, target, elementBinder, result, aggregateType,\n",
      "\t\t\t\t\telementType);\n",
      "\t\t\tif (result.wasSupplied() && result.get() != null) {\n",
      "\t\t\t\treturn;\n",
      "\t\t\t}\n",
      "\t\t}\n",
      "\t}\n",
      "spring-projects/spring-boot\n"
     ]
    }
   ],
   "source": [
    "row = next(iter(ds))\n",
    "print(row.keys())\n",
    "print(row['func_documentation_string'])\n",
    "print(row['func_code_string'])\n",
    "print(row['repository_name'])"
   ],
   "metadata": {
    "collapsed": false
   }
  },
  {
   "cell_type": "markdown",
   "source": [
    "#### Get stargazers for repo"
   ],
   "metadata": {
    "collapsed": false
   }
  },
  {
   "cell_type": "code",
   "execution_count": 63,
   "outputs": [],
   "source": [
    "repo_stars = {}\n",
    "\n",
    "headers = {\"Accept\": \"application/vnd.github+json\"}\n",
    "\n",
    "def get_github_data(repo):\n",
    "    if repo in repo_stars.keys():\n",
    "        return repo_stars[repo]\n",
    "\n",
    "    response = requests.get('https://api.github.com/repos/' + repo, headers=headers)\n",
    "\n",
    "    if response.status_code != 200:\n",
    "        print(response.status_code)\n",
    "        return None\n",
    "\n",
    "    print(\"Getting data from GitHub for: \" + repo)\n",
    "    stars = response.json()['stargazers_count']\n",
    "    repo_stars[repo] = stars\n",
    "\n",
    "    return stars"
   ],
   "metadata": {
    "collapsed": false
   }
  },
  {
   "cell_type": "code",
   "execution_count": 68,
   "outputs": [
    {
     "data": {
      "text/plain": "68742"
     },
     "execution_count": 68,
     "metadata": {},
     "output_type": "execute_result"
    }
   ],
   "source": [
    "get_github_data(row['repository_name'])"
   ],
   "metadata": {
    "collapsed": false
   }
  },
  {
   "cell_type": "code",
   "execution_count": 65,
   "outputs": [
    {
     "data": {
      "text/plain": "{'spring-projects/spring-boot': 68742}"
     },
     "execution_count": 65,
     "metadata": {},
     "output_type": "execute_result"
    }
   ],
   "source": [
    "repo_stars"
   ],
   "metadata": {
    "collapsed": false
   }
  },
  {
   "cell_type": "markdown",
   "source": [
    "### Preprocess data"
   ],
   "metadata": {
    "collapsed": false
   }
  },
  {
   "cell_type": "code",
   "execution_count": 69,
   "outputs": [],
   "source": [
    "def preprocess(row):\n",
    "    stars = get_github_data(row['repository_name'])\n",
    "\n",
    "    return pd.DataFrame({\"docstring\": row['func_documentation_string'], \"code\": row['func_code_string'], 'stars': stars, 'repo': row['repository_name']}, index=[0])"
   ],
   "metadata": {
    "collapsed": false
   }
  },
  {
   "cell_type": "code",
   "execution_count": 70,
   "outputs": [
    {
     "data": {
      "text/plain": "                                           docstring  \\\n0  Stop the application managed by this instance....   \n\n                                                code  stars  \\\n0  public void stop()\\n\\t\\t\\tthrows MojoExecution...  68742   \n\n                          repo  \n0  spring-projects/spring-boot  ",
      "text/html": "<div>\n<style scoped>\n    .dataframe tbody tr th:only-of-type {\n        vertical-align: middle;\n    }\n\n    .dataframe tbody tr th {\n        vertical-align: top;\n    }\n\n    .dataframe thead th {\n        text-align: right;\n    }\n</style>\n<table border=\"1\" class=\"dataframe\">\n  <thead>\n    <tr style=\"text-align: right;\">\n      <th></th>\n      <th>docstring</th>\n      <th>code</th>\n      <th>stars</th>\n      <th>repo</th>\n    </tr>\n  </thead>\n  <tbody>\n    <tr>\n      <th>0</th>\n      <td>Stop the application managed by this instance....</td>\n      <td>public void stop()\\n\\t\\t\\tthrows MojoExecution...</td>\n      <td>68742</td>\n      <td>spring-projects/spring-boot</td>\n    </tr>\n  </tbody>\n</table>\n</div>"
     },
     "execution_count": 70,
     "metadata": {},
     "output_type": "execute_result"
    }
   ],
   "source": [
    "test = preprocess(row)\n",
    "test"
   ],
   "metadata": {
    "collapsed": false
   }
  },
  {
   "cell_type": "markdown",
   "source": [
    "### Process Data"
   ],
   "metadata": {
    "collapsed": false
   }
  },
  {
   "cell_type": "code",
   "execution_count": 71,
   "outputs": [],
   "source": [
    "# Used to check of docstring is written in a different language other than English.\n",
    "def is_ascii(s):\n",
    "    return all(ord(c) < 128 for c in s)"
   ],
   "metadata": {
    "collapsed": false
   }
  },
  {
   "cell_type": "code",
   "execution_count": 72,
   "outputs": [
    {
     "name": "stderr",
     "output_type": "stream",
     "text": [
      "100it [05:00,  3.01s/it]\n"
     ]
    },
    {
     "data": {
      "text/plain": "                                           docstring  \\\n0  Bind indexed elements to the supplied collecti...   \n1  Set {@link ServletRegistrationBean}s that the ...   \n2  Add {@link ServletRegistrationBean}s for the f...   \n3  Set servlet names that the filter will be regi...   \n4  Add servlet names for the filter.\\n@param serv...   \n\n                                                code  stars  \\\n0  protected final void bindIndexed(Configuration...  68742   \n1  public void setServletRegistrationBeans(\\n\\t\\t...  68742   \n2  public void addServletRegistrationBeans(\\n\\t\\t...  68742   \n3  public void setServletNames(Collection<String>...  68742   \n4  public void addServletNames(String... servletN...  68742   \n\n                          repo  \n0  spring-projects/spring-boot  \n1  spring-projects/spring-boot  \n2  spring-projects/spring-boot  \n3  spring-projects/spring-boot  \n4  spring-projects/spring-boot  ",
      "text/html": "<div>\n<style scoped>\n    .dataframe tbody tr th:only-of-type {\n        vertical-align: middle;\n    }\n\n    .dataframe tbody tr th {\n        vertical-align: top;\n    }\n\n    .dataframe thead th {\n        text-align: right;\n    }\n</style>\n<table border=\"1\" class=\"dataframe\">\n  <thead>\n    <tr style=\"text-align: right;\">\n      <th></th>\n      <th>docstring</th>\n      <th>code</th>\n      <th>stars</th>\n      <th>repo</th>\n    </tr>\n  </thead>\n  <tbody>\n    <tr>\n      <th>0</th>\n      <td>Bind indexed elements to the supplied collecti...</td>\n      <td>protected final void bindIndexed(Configuration...</td>\n      <td>68742</td>\n      <td>spring-projects/spring-boot</td>\n    </tr>\n    <tr>\n      <th>1</th>\n      <td>Set {@link ServletRegistrationBean}s that the ...</td>\n      <td>public void setServletRegistrationBeans(\\n\\t\\t...</td>\n      <td>68742</td>\n      <td>spring-projects/spring-boot</td>\n    </tr>\n    <tr>\n      <th>2</th>\n      <td>Add {@link ServletRegistrationBean}s for the f...</td>\n      <td>public void addServletRegistrationBeans(\\n\\t\\t...</td>\n      <td>68742</td>\n      <td>spring-projects/spring-boot</td>\n    </tr>\n    <tr>\n      <th>3</th>\n      <td>Set servlet names that the filter will be regi...</td>\n      <td>public void setServletNames(Collection&lt;String&gt;...</td>\n      <td>68742</td>\n      <td>spring-projects/spring-boot</td>\n    </tr>\n    <tr>\n      <th>4</th>\n      <td>Add servlet names for the filter.\\n@param serv...</td>\n      <td>public void addServletNames(String... servletN...</td>\n      <td>68742</td>\n      <td>spring-projects/spring-boot</td>\n    </tr>\n  </tbody>\n</table>\n</div>"
     },
     "execution_count": 72,
     "metadata": {},
     "output_type": "execute_result"
    }
   ],
   "source": [
    "NUMBER_OF_CLASSES = 100\n",
    "WAIT_TIME = 3\n",
    "\n",
    "df = pd.DataFrame()\n",
    "\n",
    "for i, row in tqdm(enumerate(iter(ds))):\n",
    "    if not is_ascii(row['func_documentation_string']):\n",
    "        continue\n",
    "\n",
    "    proc_df = preprocess(row)\n",
    "    df = pd.concat([df, proc_df], ignore_index=True)\n",
    "\n",
    "    time.sleep(WAIT_TIME)\n",
    "\n",
    "    if i == NUMBER_OF_CLASSES:\n",
    "        break\n",
    "\n",
    "df.head()"
   ],
   "metadata": {
    "collapsed": false
   }
  },
  {
   "cell_type": "code",
   "execution_count": 73,
   "outputs": [],
   "source": [
    "df.to_csv('data/processed.csv')"
   ],
   "metadata": {
    "collapsed": false
   }
  }
 ],
 "metadata": {
  "kernelspec": {
   "display_name": "Python 3",
   "language": "python",
   "name": "python3"
  },
  "language_info": {
   "codemirror_mode": {
    "name": "ipython",
    "version": 2
   },
   "file_extension": ".py",
   "mimetype": "text/x-python",
   "name": "python",
   "nbconvert_exporter": "python",
   "pygments_lexer": "ipython2",
   "version": "2.7.6"
  }
 },
 "nbformat": 4,
 "nbformat_minor": 0
}
