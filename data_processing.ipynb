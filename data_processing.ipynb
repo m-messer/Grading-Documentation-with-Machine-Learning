{
 "cells": [
  {
   "cell_type": "code",
   "execution_count": 51,
   "metadata": {
    "collapsed": true
   },
   "outputs": [],
   "source": [
    "import pandas as pd\n",
    "from huggingface_hub import login\n",
    "from datasets import load_dataset\n",
    "from tqdm import tqdm"
   ]
  },
  {
   "cell_type": "markdown",
   "source": [
    "### Get Relevance Data\n",
    "From https://github.com/github/CodeSearchNet#human-relevance-judgements"
   ],
   "metadata": {
    "collapsed": false
   }
  },
  {
   "cell_type": "code",
   "execution_count": 52,
   "outputs": [
    {
     "data": {
      "text/plain": "    Language                                  Query  \\\n166     Java                    fuzzy match ranking   \n167     Java                          create cookie   \n168     Java              parse query string in url   \n169     Java                  convert int to string   \n170     Java  deducting the median from each column   \n\n                                             GitHubUrl  Relevance Notes  \n166  https://github.com/spotbugs/spotbugs/blob/f636...          0   NaN  \n167  https://github.com/apache/spark/blob/25ee0474f...          2   NaN  \n168  https://github.com/tanhaichao/leopard-lang/blo...          0   NaN  \n169  https://github.com/hankcs/HanLP/blob/a538d0722...          0   NaN  \n170  https://github.com/datacleaner/AnalyzerBeans/b...          0   NaN  ",
      "text/html": "<div>\n<style scoped>\n    .dataframe tbody tr th:only-of-type {\n        vertical-align: middle;\n    }\n\n    .dataframe tbody tr th {\n        vertical-align: top;\n    }\n\n    .dataframe thead th {\n        text-align: right;\n    }\n</style>\n<table border=\"1\" class=\"dataframe\">\n  <thead>\n    <tr style=\"text-align: right;\">\n      <th></th>\n      <th>Language</th>\n      <th>Query</th>\n      <th>GitHubUrl</th>\n      <th>Relevance</th>\n      <th>Notes</th>\n    </tr>\n  </thead>\n  <tbody>\n    <tr>\n      <th>166</th>\n      <td>Java</td>\n      <td>fuzzy match ranking</td>\n      <td>https://github.com/spotbugs/spotbugs/blob/f636...</td>\n      <td>0</td>\n      <td>NaN</td>\n    </tr>\n    <tr>\n      <th>167</th>\n      <td>Java</td>\n      <td>create cookie</td>\n      <td>https://github.com/apache/spark/blob/25ee0474f...</td>\n      <td>2</td>\n      <td>NaN</td>\n    </tr>\n    <tr>\n      <th>168</th>\n      <td>Java</td>\n      <td>parse query string in url</td>\n      <td>https://github.com/tanhaichao/leopard-lang/blo...</td>\n      <td>0</td>\n      <td>NaN</td>\n    </tr>\n    <tr>\n      <th>169</th>\n      <td>Java</td>\n      <td>convert int to string</td>\n      <td>https://github.com/hankcs/HanLP/blob/a538d0722...</td>\n      <td>0</td>\n      <td>NaN</td>\n    </tr>\n    <tr>\n      <th>170</th>\n      <td>Java</td>\n      <td>deducting the median from each column</td>\n      <td>https://github.com/datacleaner/AnalyzerBeans/b...</td>\n      <td>0</td>\n      <td>NaN</td>\n    </tr>\n  </tbody>\n</table>\n</div>"
     },
     "execution_count": 52,
     "metadata": {},
     "output_type": "execute_result"
    }
   ],
   "source": [
    "relevance_df = pd.read_csv('data/annotationStore.csv')\n",
    "relevance_df = relevance_df[relevance_df['Language'] == 'Java']\n",
    "relevance_df.head()"
   ],
   "metadata": {
    "collapsed": false
   }
  },
  {
   "cell_type": "code",
   "execution_count": 87,
   "outputs": [],
   "source": [
    "def get_relevance(repo_url):\n",
    "    row = relevance_df[relevance_df['GitHubUrl'] == repo_url]\n",
    "\n",
    "    if row is not None:\n",
    "        return row.Relevance.iloc[0]\n",
    "\n",
    "    return None"
   ],
   "metadata": {
    "collapsed": false
   }
  },
  {
   "cell_type": "code",
   "execution_count": 88,
   "outputs": [
    {
     "data": {
      "text/plain": "2"
     },
     "execution_count": 88,
     "metadata": {},
     "output_type": "execute_result"
    }
   ],
   "source": [
    "get_relevance('https://github.com/spring-projects/spring-boot/blob/0b27f7c70e164b2b1a96477f1d9c1acba56790c1/spring-boot-project/spring-boot/src/main/java/org/springframework/boot/info/GitProperties.java#L106-L118')"
   ],
   "metadata": {
    "collapsed": false
   }
  },
  {
   "cell_type": "markdown",
   "source": [
    "# JavaDoc-Code Similarity\n",
    "### Login to Huggingface"
   ],
   "metadata": {
    "collapsed": false
   }
  },
  {
   "cell_type": "code",
   "execution_count": 55,
   "outputs": [
    {
     "name": "stdout",
     "output_type": "stream",
     "text": [
      "Token will not been saved to git credential helper. Pass `add_to_git_credential=True` if you want to set the git credential as well.\n",
      "Token is valid (permission: write).\n",
      "Your token has been saved to /Users/marcus/.cache/huggingface/token\n",
      "Login successful\n"
     ]
    }
   ],
   "source": [
    "with open('secrets/hugging_face_key.txt') as f:\n",
    "    login(f.read())"
   ],
   "metadata": {
    "collapsed": false
   }
  },
  {
   "cell_type": "markdown",
   "source": [
    "### Load dataset"
   ],
   "metadata": {
    "collapsed": false
   }
  },
  {
   "cell_type": "code",
   "execution_count": 56,
   "outputs": [],
   "source": [
    "ds = load_dataset(\"code_search_net\", \"java\", split='train', streaming=True).filter(lambda row: row['func_code_url'] in list(relevance_df.GitHubUrl))"
   ],
   "metadata": {
    "collapsed": false
   }
  },
  {
   "cell_type": "code",
   "execution_count": 80,
   "outputs": [
    {
     "name": "stdout",
     "output_type": "stream",
     "text": [
      "dict_keys(['repository_name', 'func_path_in_repository', 'func_name', 'whole_func_string', 'language', 'func_code_string', 'func_code_tokens', 'func_documentation_string', 'func_documentation_tokens', 'split_name', 'func_code_url'])\n",
      "Attempt to convert the specified value to epoch time. Git properties information\n",
      "are known to be specified either as epoch time in seconds or using a specific date\n",
      "format.\n",
      "@param s the value to coerce to\n",
      "@return the epoch time in milliseconds or the original value if it couldn't be\n",
      "converted\n",
      "private static String coerceToEpoch(String s) {\n",
      "\t\tLong epoch = parseEpochSecond(s);\n",
      "\t\tif (epoch != null) {\n",
      "\t\t\treturn String.valueOf(epoch);\n",
      "\t\t}\n",
      "\t\tSimpleDateFormat format = new SimpleDateFormat(\"yyyy-MM-dd'T'HH:mm:ssZ\");\n",
      "\t\ttry {\n",
      "\t\t\treturn String.valueOf(format.parse(s).getTime());\n",
      "\t\t}\n",
      "\t\tcatch (ParseException ex) {\n",
      "\t\t\treturn s;\n",
      "\t\t}\n",
      "\t}\n",
      "spring-projects/spring-boot\n",
      "https://github.com/spring-projects/spring-boot/blob/0b27f7c70e164b2b1a96477f1d9c1acba56790c1/spring-boot-project/spring-boot/src/main/java/org/springframework/boot/info/GitProperties.java#L106-L118\n"
     ]
    }
   ],
   "source": [
    "row = next(iter(ds))\n",
    "print(row.keys())\n",
    "print(row['func_documentation_string'])\n",
    "print(row['func_code_string'])\n",
    "print(row['repository_name'])\n",
    "print(row['func_code_url'])"
   ],
   "metadata": {
    "collapsed": false
   }
  },
  {
   "cell_type": "code",
   "execution_count": 89,
   "outputs": [
    {
     "data": {
      "text/plain": "0"
     },
     "execution_count": 89,
     "metadata": {},
     "output_type": "execute_result"
    }
   ],
   "source": [
    "get_relevance('https://github.com/Netflix/eureka/blob/48446d956be09df6650a3c00b7ebd7e2d1e1544f/eureka-client/src/main/java/com/netflix/discovery/shared/resolver/ResolverUtils.java#L88-L102')"
   ],
   "metadata": {
    "collapsed": false
   }
  },
  {
   "cell_type": "markdown",
   "source": [
    "### Preprocess data"
   ],
   "metadata": {
    "collapsed": false
   }
  },
  {
   "cell_type": "code",
   "execution_count": 90,
   "outputs": [],
   "source": [
    "def preprocess(row):\n",
    "    relevance = get_relevance(row['func_code_url'])\n",
    "\n",
    "    return pd.DataFrame({\"docstring\": row['func_documentation_string'], \"code\": row['func_code_string'], 'relevance': relevance, 'repo': row['repository_name'], 'func_url': row['func_code_url']}, index=[0])"
   ],
   "metadata": {
    "collapsed": false
   }
  },
  {
   "cell_type": "code",
   "execution_count": 91,
   "outputs": [
    {
     "data": {
      "text/plain": "                                           docstring  \\\n0  Randomize server list using local IPv4 address...   \n\n                                                code  relevance  \\\n0  public static <T extends EurekaEndpoint> List<...          0   \n\n             repo                                           func_url  \n0  Netflix/eureka  https://github.com/Netflix/eureka/blob/48446d9...  ",
      "text/html": "<div>\n<style scoped>\n    .dataframe tbody tr th:only-of-type {\n        vertical-align: middle;\n    }\n\n    .dataframe tbody tr th {\n        vertical-align: top;\n    }\n\n    .dataframe thead th {\n        text-align: right;\n    }\n</style>\n<table border=\"1\" class=\"dataframe\">\n  <thead>\n    <tr style=\"text-align: right;\">\n      <th></th>\n      <th>docstring</th>\n      <th>code</th>\n      <th>relevance</th>\n      <th>repo</th>\n      <th>func_url</th>\n    </tr>\n  </thead>\n  <tbody>\n    <tr>\n      <th>0</th>\n      <td>Randomize server list using local IPv4 address...</td>\n      <td>public static &lt;T extends EurekaEndpoint&gt; List&lt;...</td>\n      <td>0</td>\n      <td>Netflix/eureka</td>\n      <td>https://github.com/Netflix/eureka/blob/48446d9...</td>\n    </tr>\n  </tbody>\n</table>\n</div>"
     },
     "execution_count": 91,
     "metadata": {},
     "output_type": "execute_result"
    }
   ],
   "source": [
    "test = preprocess(row)\n",
    "test"
   ],
   "metadata": {
    "collapsed": false
   }
  },
  {
   "cell_type": "markdown",
   "source": [
    "### Process Data"
   ],
   "metadata": {
    "collapsed": false
   }
  },
  {
   "cell_type": "code",
   "execution_count": 60,
   "outputs": [],
   "source": [
    "# Used to check of docstring is written in a different language other than English.\n",
    "def is_ascii(s):\n",
    "    return all(ord(c) < 128 for c in s)"
   ],
   "metadata": {
    "collapsed": false
   }
  },
  {
   "cell_type": "code",
   "execution_count": 94,
   "outputs": [
    {
     "name": "stderr",
     "output_type": "stream",
     "text": [
      "306it [01:41,  3.03it/s]\n"
     ]
    },
    {
     "data": {
      "text/plain": "                                           docstring  \\\n0  Attempt to convert the specified value to epoc...   \n1  Generate a server side cookie given the cookie...   \n2  Generate httponly cookie from HS2 cookie\\n@par...   \n3  Copies all files from source to target and set...   \n4          Saves the configuration info to the disk.   \n\n                                                code  relevance  \\\n0  private static String coerceToEpoch(String s) ...          2   \n1  private Cookie createCookie(String str) throws...          2   \n2  private static String getHttpOnlyCookieHeader(...          2   \n3  public static void copy(Path sourcePath, Path ...          3   \n4  public synchronized void save() {\\n        if ...          3   \n\n                          repo  \\\n0  spring-projects/spring-boot   \n1                 apache/spark   \n2                 apache/spark   \n3                 apache/flink   \n4            jenkinsci/jenkins   \n\n                                            func_url  \n0  https://github.com/spring-projects/spring-boot...  \n1  https://github.com/apache/spark/blob/25ee0474f...  \n2  https://github.com/apache/spark/blob/25ee0474f...  \n3  https://github.com/apache/flink/blob/b62db93bf...  \n4  https://github.com/jenkinsci/jenkins/blob/44c4...  ",
      "text/html": "<div>\n<style scoped>\n    .dataframe tbody tr th:only-of-type {\n        vertical-align: middle;\n    }\n\n    .dataframe tbody tr th {\n        vertical-align: top;\n    }\n\n    .dataframe thead th {\n        text-align: right;\n    }\n</style>\n<table border=\"1\" class=\"dataframe\">\n  <thead>\n    <tr style=\"text-align: right;\">\n      <th></th>\n      <th>docstring</th>\n      <th>code</th>\n      <th>relevance</th>\n      <th>repo</th>\n      <th>func_url</th>\n    </tr>\n  </thead>\n  <tbody>\n    <tr>\n      <th>0</th>\n      <td>Attempt to convert the specified value to epoc...</td>\n      <td>private static String coerceToEpoch(String s) ...</td>\n      <td>2</td>\n      <td>spring-projects/spring-boot</td>\n      <td>https://github.com/spring-projects/spring-boot...</td>\n    </tr>\n    <tr>\n      <th>1</th>\n      <td>Generate a server side cookie given the cookie...</td>\n      <td>private Cookie createCookie(String str) throws...</td>\n      <td>2</td>\n      <td>apache/spark</td>\n      <td>https://github.com/apache/spark/blob/25ee0474f...</td>\n    </tr>\n    <tr>\n      <th>2</th>\n      <td>Generate httponly cookie from HS2 cookie\\n@par...</td>\n      <td>private static String getHttpOnlyCookieHeader(...</td>\n      <td>2</td>\n      <td>apache/spark</td>\n      <td>https://github.com/apache/spark/blob/25ee0474f...</td>\n    </tr>\n    <tr>\n      <th>3</th>\n      <td>Copies all files from source to target and set...</td>\n      <td>public static void copy(Path sourcePath, Path ...</td>\n      <td>3</td>\n      <td>apache/flink</td>\n      <td>https://github.com/apache/flink/blob/b62db93bf...</td>\n    </tr>\n    <tr>\n      <th>4</th>\n      <td>Saves the configuration info to the disk.</td>\n      <td>public synchronized void save() {\\n        if ...</td>\n      <td>3</td>\n      <td>jenkinsci/jenkins</td>\n      <td>https://github.com/jenkinsci/jenkins/blob/44c4...</td>\n    </tr>\n  </tbody>\n</table>\n</div>"
     },
     "execution_count": 94,
     "metadata": {},
     "output_type": "execute_result"
    }
   ],
   "source": [
    "NUMBER_OF_PAIRS = 1000\n",
    "df = pd.DataFrame()\n",
    "\n",
    "for i, row in tqdm(enumerate(iter(ds))):\n",
    "    try:\n",
    "        if not is_ascii(row['func_documentation_string']):\n",
    "            continue\n",
    "    except StopIteration:\n",
    "        break\n",
    "\n",
    "    proc_df = preprocess(row)\n",
    "    df = pd.concat([df, proc_df], ignore_index=True)\n",
    "\n",
    "    if i == NUMBER_OF_PAIRS:\n",
    "        break\n",
    "\n",
    "df.head()"
   ],
   "metadata": {
    "collapsed": false
   }
  },
  {
   "cell_type": "code",
   "execution_count": 95,
   "outputs": [],
   "source": [
    "df.to_csv('data/processed.csv')"
   ],
   "metadata": {
    "collapsed": false
   }
  }
 ],
 "metadata": {
  "kernelspec": {
   "display_name": "Python 3",
   "language": "python",
   "name": "python3"
  },
  "language_info": {
   "codemirror_mode": {
    "name": "ipython",
    "version": 2
   },
   "file_extension": ".py",
   "mimetype": "text/x-python",
   "name": "python",
   "nbconvert_exporter": "python",
   "pygments_lexer": "ipython2",
   "version": "2.7.6"
  }
 },
 "nbformat": 4,
 "nbformat_minor": 0
}
