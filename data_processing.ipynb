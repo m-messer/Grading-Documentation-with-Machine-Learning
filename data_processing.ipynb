{
 "cells": [
  {
   "cell_type": "code",
   "execution_count": 38,
   "metadata": {
    "collapsed": true
   },
   "outputs": [],
   "source": [
    "import pandas as pd\n",
    "from huggingface_hub import login\n",
    "from datasets import load_dataset\n",
    "from tqdm import tqdm"
   ]
  },
  {
   "cell_type": "markdown",
   "source": [
    "# JavaDoc-Code Similarity\n",
    "### Login to Huggingface"
   ],
   "metadata": {
    "collapsed": false
   }
  },
  {
   "cell_type": "code",
   "execution_count": 27,
   "outputs": [
    {
     "name": "stdout",
     "output_type": "stream",
     "text": [
      "Token will not been saved to git credential helper. Pass `add_to_git_credential=True` if you want to set the git credential as well.\n",
      "Token is valid (permission: write).\n",
      "Your token has been saved to /Users/marcus/.cache/huggingface/token\n",
      "Login successful\n"
     ]
    }
   ],
   "source": [
    "with open('secrets/hugging_face_key.txt') as f:\n",
    "    login(f.read())"
   ],
   "metadata": {
    "collapsed": false
   }
  },
  {
   "cell_type": "markdown",
   "source": [
    "### Load dataset"
   ],
   "metadata": {
    "collapsed": false
   }
  },
  {
   "cell_type": "code",
   "execution_count": 28,
   "outputs": [],
   "source": [
    "ds = load_dataset(\"code_search_net\", \"java\", split='train', streaming=True).shuffle(buffer_size=10_000, seed=42)"
   ],
   "metadata": {
    "collapsed": false
   }
  },
  {
   "cell_type": "code",
   "execution_count": 29,
   "outputs": [
    {
     "name": "stdout",
     "output_type": "stream",
     "text": [
      "dict_keys(['repository_name', 'func_path_in_repository', 'func_name', 'whole_func_string', 'language', 'func_code_string', 'func_code_tokens', 'func_documentation_string', 'func_documentation_tokens', 'split_name', 'func_code_url'])\n",
      "Creates a new instance of MediaType by parsing the supplied string.\n",
      "\n",
      "@param type the media type string\n",
      "@return the newly created MediaType\n",
      "@throws IllegalArgumentException if the supplied string cannot be parsed\n",
      "or is null\n",
      "public static MediaType valueOf(String type) throws IllegalArgumentException {\n",
      "        if (type == null || type.trim().isEmpty() || type.startsWith(SUBTYPE_SEPARATOR) || type.endsWith(SUBTYPE_SEPARATOR)) {\n",
      "            throw new IllegalArgumentException(\"Invalid mime type '\" + type + \"'\");\n",
      "        }\n",
      "        String[] splitType = type.split(SUBTYPE_SEPARATOR);\n",
      "        if (splitType.length == 2) {\n",
      "            nonEmpty(type, splitType[0]);\n",
      "            nonEmpty(type, splitType[1]);\n",
      "            Map<String, String> parameters = new HashMap<>();\n",
      "            String subType = splitType[1];\n",
      "            if (splitType[1].contains(PARAMETERS_SEPARATOR)) {\n",
      "                String[] subTypeWithparameter = splitType[1].split(PARAMETERS_SEPARATOR);\n",
      "                String paramString = subTypeWithparameter[1].trim();\n",
      "                subType = subTypeWithparameter[0];\n",
      "                parameters = parseParameters(paramString);\n",
      "            }\n",
      "            return new MediaType(splitType[0].trim(), subType.trim(), parameters);\n",
      "        }\n",
      "        if (!type.contains(SUBTYPE_SEPARATOR)) {\n",
      "            String mimeType = mimeMappings.getMimeType(type);\n",
      "            if (mimeType != null) {\n",
      "                return valueOf(mimeType);\n",
      "            }\n",
      "        }\n",
      "        throw new IllegalArgumentException(\"Invalid mime type '\" + type + \"'\");\n",
      "    }\n",
      "josueeduardo/snappy\n"
     ]
    }
   ],
   "source": [
    "row = next(iter(ds))\n",
    "print(row.keys())\n",
    "print(row['func_documentation_string'])\n",
    "print(row['func_code_string'])\n",
    "print(row['repository_name'])"
   ],
   "metadata": {
    "collapsed": false
   }
  },
  {
   "cell_type": "markdown",
   "source": [
    "### Get Relevance Data\n",
    "From https://github.com/github/CodeSearchNet#human-relevance-judgements"
   ],
   "metadata": {
    "collapsed": false
   }
  },
  {
   "cell_type": "code",
   "execution_count": 30,
   "outputs": [
    {
     "data": {
      "text/plain": "    Language                                  Query  \\\n166     Java                    fuzzy match ranking   \n167     Java                          create cookie   \n168     Java              parse query string in url   \n169     Java                  convert int to string   \n170     Java  deducting the median from each column   \n\n                                             GitHubUrl  Relevance Notes  \n166  https://github.com/spotbugs/spotbugs/blob/f636...          0   NaN  \n167  https://github.com/apache/spark/blob/25ee0474f...          2   NaN  \n168  https://github.com/tanhaichao/leopard-lang/blo...          0   NaN  \n169  https://github.com/hankcs/HanLP/blob/a538d0722...          0   NaN  \n170  https://github.com/datacleaner/AnalyzerBeans/b...          0   NaN  ",
      "text/html": "<div>\n<style scoped>\n    .dataframe tbody tr th:only-of-type {\n        vertical-align: middle;\n    }\n\n    .dataframe tbody tr th {\n        vertical-align: top;\n    }\n\n    .dataframe thead th {\n        text-align: right;\n    }\n</style>\n<table border=\"1\" class=\"dataframe\">\n  <thead>\n    <tr style=\"text-align: right;\">\n      <th></th>\n      <th>Language</th>\n      <th>Query</th>\n      <th>GitHubUrl</th>\n      <th>Relevance</th>\n      <th>Notes</th>\n    </tr>\n  </thead>\n  <tbody>\n    <tr>\n      <th>166</th>\n      <td>Java</td>\n      <td>fuzzy match ranking</td>\n      <td>https://github.com/spotbugs/spotbugs/blob/f636...</td>\n      <td>0</td>\n      <td>NaN</td>\n    </tr>\n    <tr>\n      <th>167</th>\n      <td>Java</td>\n      <td>create cookie</td>\n      <td>https://github.com/apache/spark/blob/25ee0474f...</td>\n      <td>2</td>\n      <td>NaN</td>\n    </tr>\n    <tr>\n      <th>168</th>\n      <td>Java</td>\n      <td>parse query string in url</td>\n      <td>https://github.com/tanhaichao/leopard-lang/blo...</td>\n      <td>0</td>\n      <td>NaN</td>\n    </tr>\n    <tr>\n      <th>169</th>\n      <td>Java</td>\n      <td>convert int to string</td>\n      <td>https://github.com/hankcs/HanLP/blob/a538d0722...</td>\n      <td>0</td>\n      <td>NaN</td>\n    </tr>\n    <tr>\n      <th>170</th>\n      <td>Java</td>\n      <td>deducting the median from each column</td>\n      <td>https://github.com/datacleaner/AnalyzerBeans/b...</td>\n      <td>0</td>\n      <td>NaN</td>\n    </tr>\n  </tbody>\n</table>\n</div>"
     },
     "execution_count": 30,
     "metadata": {},
     "output_type": "execute_result"
    }
   ],
   "source": [
    "relevance_df = pd.read_csv('data/annotationStore.csv')\n",
    "relevance_df = relevance_df[relevance_df['Language'] == 'Java']\n",
    "relevance_df.head()"
   ],
   "metadata": {
    "collapsed": false
   }
  },
  {
   "cell_type": "code",
   "execution_count": 31,
   "outputs": [],
   "source": [
    "def get_relevance(repo_url):\n",
    "    row = relevance_df[relevance_df['GitHubUrl'] == repo_url]\n",
    "\n",
    "    if row is not None:\n",
    "        return row.Relevance\n",
    "\n",
    "    return None"
   ],
   "metadata": {
    "collapsed": false
   }
  },
  {
   "cell_type": "code",
   "execution_count": 32,
   "outputs": [
    {
     "data": {
      "text/plain": "964    0\nName: Relevance, dtype: int64"
     },
     "execution_count": 32,
     "metadata": {},
     "output_type": "execute_result"
    }
   ],
   "source": [
    "get_relevance('https://github.com/ontop/ontop/blob/ddf78b26981b6129ee9a1a59310016830f5352e4/core/optimization/src/main/java/it/unibz/inf/ontop/iq/optimizer/FlattenUnionOptimizer.java#L45-L50')"
   ],
   "metadata": {
    "collapsed": false
   }
  },
  {
   "cell_type": "markdown",
   "source": [
    "### Preprocess data"
   ],
   "metadata": {
    "collapsed": false
   }
  },
  {
   "cell_type": "code",
   "execution_count": 33,
   "outputs": [],
   "source": [
    "def preprocess(row):\n",
    "    relevance = get_relevance(row['func_code_url'])\n",
    "\n",
    "    return pd.DataFrame({\"docstring\": row['func_documentation_string'], \"code\": row['func_code_string'], 'relevance': relevance, 'repo': row['repository_name']}, index=[0])"
   ],
   "metadata": {
    "collapsed": false
   }
  },
  {
   "cell_type": "code",
   "execution_count": 34,
   "outputs": [
    {
     "data": {
      "text/plain": "                                           docstring  \\\n0  Creates a new instance of MediaType by parsing...   \n\n                                                code  relevance  \\\n0  public static MediaType valueOf(String type) t...        NaN   \n\n                  repo  \n0  josueeduardo/snappy  ",
      "text/html": "<div>\n<style scoped>\n    .dataframe tbody tr th:only-of-type {\n        vertical-align: middle;\n    }\n\n    .dataframe tbody tr th {\n        vertical-align: top;\n    }\n\n    .dataframe thead th {\n        text-align: right;\n    }\n</style>\n<table border=\"1\" class=\"dataframe\">\n  <thead>\n    <tr style=\"text-align: right;\">\n      <th></th>\n      <th>docstring</th>\n      <th>code</th>\n      <th>relevance</th>\n      <th>repo</th>\n    </tr>\n  </thead>\n  <tbody>\n    <tr>\n      <th>0</th>\n      <td>Creates a new instance of MediaType by parsing...</td>\n      <td>public static MediaType valueOf(String type) t...</td>\n      <td>NaN</td>\n      <td>josueeduardo/snappy</td>\n    </tr>\n  </tbody>\n</table>\n</div>"
     },
     "execution_count": 34,
     "metadata": {},
     "output_type": "execute_result"
    }
   ],
   "source": [
    "test = preprocess(row)\n",
    "test"
   ],
   "metadata": {
    "collapsed": false
   }
  },
  {
   "cell_type": "markdown",
   "source": [
    "### Process Data"
   ],
   "metadata": {
    "collapsed": false
   }
  },
  {
   "cell_type": "code",
   "execution_count": 35,
   "outputs": [],
   "source": [
    "# Used to check of docstring is written in a different language other than English.\n",
    "def is_ascii(s):\n",
    "    return all(ord(c) < 128 for c in s)"
   ],
   "metadata": {
    "collapsed": false
   }
  },
  {
   "cell_type": "code",
   "execution_count": 36,
   "outputs": [
    {
     "name": "stderr",
     "output_type": "stream",
     "text": [
      "100it [05:01,  3.01s/it]\n"
     ]
    },
    {
     "data": {
      "text/plain": "                                           docstring  \\\n0  Creates a new instance of MediaType by parsing...   \n1  Generates a Predicate that only accepts the Ma...   \n2  Move a raster layer down (=back) one place. No...   \n3  Calculates the cross product of this vector wi...   \n4  Filter the specified string for characters tha...   \n\n                                                code  relevance  \\\n0  public static MediaType valueOf(String type) t...        NaN   \n1  public static <T extends MatchResult, S extend...        NaN   \n2  public boolean moveRasterLayerDown(RasterLayer...        NaN   \n3  public Vector crossProduct(Vector o) {\\n      ...        NaN   \n4  protected void filter(String value, AbstractRe...        NaN   \n\n                                   repo  \n0                   josueeduardo/snappy  \n1                            kmi/iserve  \n2  geomajas/geomajas-project-client-gwt  \n3            greatman/GreatmancodeTools  \n4                moparisthebest/beehive  ",
      "text/html": "<div>\n<style scoped>\n    .dataframe tbody tr th:only-of-type {\n        vertical-align: middle;\n    }\n\n    .dataframe tbody tr th {\n        vertical-align: top;\n    }\n\n    .dataframe thead th {\n        text-align: right;\n    }\n</style>\n<table border=\"1\" class=\"dataframe\">\n  <thead>\n    <tr style=\"text-align: right;\">\n      <th></th>\n      <th>docstring</th>\n      <th>code</th>\n      <th>relevance</th>\n      <th>repo</th>\n    </tr>\n  </thead>\n  <tbody>\n    <tr>\n      <th>0</th>\n      <td>Creates a new instance of MediaType by parsing...</td>\n      <td>public static MediaType valueOf(String type) t...</td>\n      <td>NaN</td>\n      <td>josueeduardo/snappy</td>\n    </tr>\n    <tr>\n      <th>1</th>\n      <td>Generates a Predicate that only accepts the Ma...</td>\n      <td>public static &lt;T extends MatchResult, S extend...</td>\n      <td>NaN</td>\n      <td>kmi/iserve</td>\n    </tr>\n    <tr>\n      <th>2</th>\n      <td>Move a raster layer down (=back) one place. No...</td>\n      <td>public boolean moveRasterLayerDown(RasterLayer...</td>\n      <td>NaN</td>\n      <td>geomajas/geomajas-project-client-gwt</td>\n    </tr>\n    <tr>\n      <th>3</th>\n      <td>Calculates the cross product of this vector wi...</td>\n      <td>public Vector crossProduct(Vector o) {\\n      ...</td>\n      <td>NaN</td>\n      <td>greatman/GreatmancodeTools</td>\n    </tr>\n    <tr>\n      <th>4</th>\n      <td>Filter the specified string for characters tha...</td>\n      <td>protected void filter(String value, AbstractRe...</td>\n      <td>NaN</td>\n      <td>moparisthebest/beehive</td>\n    </tr>\n  </tbody>\n</table>\n</div>"
     },
     "execution_count": 36,
     "metadata": {},
     "output_type": "execute_result"
    }
   ],
   "source": [
    "NUMBER_OF_PAIRS = 100\n",
    "df = pd.DataFrame()\n",
    "\n",
    "for i, row in tqdm(enumerate(iter(ds))):\n",
    "    if not is_ascii(row['func_documentation_string']):\n",
    "        continue\n",
    "\n",
    "    proc_df = preprocess(row)\n",
    "    df = pd.concat([df, proc_df], ignore_index=True)\n",
    "\n",
    "    if i == NUMBER_OF_PAIRS:\n",
    "        break\n",
    "\n",
    "df.head()"
   ],
   "metadata": {
    "collapsed": false
   }
  },
  {
   "cell_type": "code",
   "execution_count": 37,
   "outputs": [],
   "source": [
    "df.to_csv('data/processed.csv')"
   ],
   "metadata": {
    "collapsed": false
   }
  }
 ],
 "metadata": {
  "kernelspec": {
   "display_name": "Python 3",
   "language": "python",
   "name": "python3"
  },
  "language_info": {
   "codemirror_mode": {
    "name": "ipython",
    "version": 2
   },
   "file_extension": ".py",
   "mimetype": "text/x-python",
   "name": "python",
   "nbconvert_exporter": "python",
   "pygments_lexer": "ipython2",
   "version": "2.7.6"
  }
 },
 "nbformat": 4,
 "nbformat_minor": 0
}
