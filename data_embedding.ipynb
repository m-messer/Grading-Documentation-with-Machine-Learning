{
 "cells": [
  {
   "cell_type": "code",
   "execution_count": 2,
   "metadata": {
    "collapsed": true
   },
   "outputs": [],
   "source": [
    "import pandas as pd\n",
    "from transformers import RobertaTokenizer, RobertaModel\n",
    "import torch.nn as nn\n",
    "import torch.nn.functional as F\n",
    "import torch\n",
    "from tqdm import tqdm\n",
    "\n",
    "tqdm.pandas()"
   ]
  },
  {
   "cell_type": "markdown",
   "source": [
    "### Load Dataset"
   ],
   "metadata": {
    "collapsed": false
   }
  },
  {
   "cell_type": "code",
   "execution_count": 3,
   "outputs": [
    {
     "data": {
      "text/plain": "                                           docstring  \\\n0  Attempt to convert the specified value to epoc...   \n1  Generate a server side cookie given the cookie...   \n2  Generate httponly cookie from HS2 cookie\\n@par...   \n3  Copies all files from source to target and set...   \n4          Saves the configuration info to the disk.   \n\n                                                code  relevance  \\\n0  private static String coerceToEpoch(String s) ...          2   \n1  private Cookie createCookie(String str) throws...          2   \n2  private static String getHttpOnlyCookieHeader(...          2   \n3  public static void copy(Path sourcePath, Path ...          3   \n4  public synchronized void save() {\\n        if ...          3   \n\n                          repo  \\\n0  spring-projects/spring-boot   \n1                 apache/spark   \n2                 apache/spark   \n3                 apache/flink   \n4            jenkinsci/jenkins   \n\n                                            func_url  split  \n0  https://github.com/spring-projects/spring-boot...  train  \n1  https://github.com/apache/spark/blob/25ee0474f...  train  \n2  https://github.com/apache/spark/blob/25ee0474f...  train  \n3  https://github.com/apache/flink/blob/b62db93bf...  train  \n4  https://github.com/jenkinsci/jenkins/blob/44c4...  train  ",
      "text/html": "<div>\n<style scoped>\n    .dataframe tbody tr th:only-of-type {\n        vertical-align: middle;\n    }\n\n    .dataframe tbody tr th {\n        vertical-align: top;\n    }\n\n    .dataframe thead th {\n        text-align: right;\n    }\n</style>\n<table border=\"1\" class=\"dataframe\">\n  <thead>\n    <tr style=\"text-align: right;\">\n      <th></th>\n      <th>docstring</th>\n      <th>code</th>\n      <th>relevance</th>\n      <th>repo</th>\n      <th>func_url</th>\n      <th>split</th>\n    </tr>\n  </thead>\n  <tbody>\n    <tr>\n      <th>0</th>\n      <td>Attempt to convert the specified value to epoc...</td>\n      <td>private static String coerceToEpoch(String s) ...</td>\n      <td>2</td>\n      <td>spring-projects/spring-boot</td>\n      <td>https://github.com/spring-projects/spring-boot...</td>\n      <td>train</td>\n    </tr>\n    <tr>\n      <th>1</th>\n      <td>Generate a server side cookie given the cookie...</td>\n      <td>private Cookie createCookie(String str) throws...</td>\n      <td>2</td>\n      <td>apache/spark</td>\n      <td>https://github.com/apache/spark/blob/25ee0474f...</td>\n      <td>train</td>\n    </tr>\n    <tr>\n      <th>2</th>\n      <td>Generate httponly cookie from HS2 cookie\\n@par...</td>\n      <td>private static String getHttpOnlyCookieHeader(...</td>\n      <td>2</td>\n      <td>apache/spark</td>\n      <td>https://github.com/apache/spark/blob/25ee0474f...</td>\n      <td>train</td>\n    </tr>\n    <tr>\n      <th>3</th>\n      <td>Copies all files from source to target and set...</td>\n      <td>public static void copy(Path sourcePath, Path ...</td>\n      <td>3</td>\n      <td>apache/flink</td>\n      <td>https://github.com/apache/flink/blob/b62db93bf...</td>\n      <td>train</td>\n    </tr>\n    <tr>\n      <th>4</th>\n      <td>Saves the configuration info to the disk.</td>\n      <td>public synchronized void save() {\\n        if ...</td>\n      <td>3</td>\n      <td>jenkinsci/jenkins</td>\n      <td>https://github.com/jenkinsci/jenkins/blob/44c4...</td>\n      <td>train</td>\n    </tr>\n  </tbody>\n</table>\n</div>"
     },
     "execution_count": 3,
     "metadata": {},
     "output_type": "execute_result"
    }
   ],
   "source": [
    "df = pd.read_pickle('data/processed.pickle')\n",
    "df.head()"
   ],
   "metadata": {
    "collapsed": false
   }
  },
  {
   "cell_type": "markdown",
   "source": [
    "### Calculate cosine sim"
   ],
   "metadata": {
    "collapsed": false
   }
  },
  {
   "cell_type": "code",
   "execution_count": 4,
   "outputs": [],
   "source": [
    "MAX_TENSOR_SIZE = 514\n",
    "\n",
    "def get_average_embeddings(natural_language, code, tokenizer, model):\n",
    "    nl_tokens = tokenizer.tokenize(natural_language)\n",
    "    code_tokens = tokenizer.tokenize(code)\n",
    "\n",
    "    if len(nl_tokens) > MAX_TENSOR_SIZE or len(code_tokens) > MAX_TENSOR_SIZE:\n",
    "        return None, None\n",
    "\n",
    "    nl_tokens_ids = tokenizer.convert_tokens_to_ids(nl_tokens)\n",
    "    code_token_ids = tokenizer.convert_tokens_to_ids(code_tokens)\n",
    "\n",
    "    nl_embeddings = model(torch.tensor(nl_tokens_ids)[None, :])[0]\n",
    "    code_embeddings = model(torch.tensor(code_token_ids)[None, :])[0]\n",
    "\n",
    "\n",
    "    if nl_embeddings.size()[1] < code_embeddings.size()[1]:\n",
    "        nl_embeddings = F.pad(nl_embeddings, (0, 0, code_embeddings.size()[1] - nl_embeddings.size()[1], 0))\n",
    "    elif code_embeddings.size()[1] < nl_embeddings.size()[1]:\n",
    "        code_embeddings = F.pad(code_embeddings, (0, 0, nl_embeddings.size()[1] - code_embeddings.size()[1], 0))\n",
    "\n",
    "\n",
    "    nl_agg = torch.mean(nl_embeddings, 2)\n",
    "    code_agg = torch.mean(code_embeddings, 2)\n",
    "\n",
    "    return nl_agg, code_agg"
   ],
   "metadata": {
    "collapsed": false
   }
  },
  {
   "cell_type": "code",
   "execution_count": 8,
   "outputs": [],
   "source": [
    "def get_cosine_sim(natural_language, code, tokenizer, model):\n",
    "\n",
    "    nl_agg, code_agg = get_average_embeddings(natural_language, code, tokenizer, model)\n",
    "\n",
    "    if nl_agg is None or code_agg is None:\n",
    "        return None\n",
    "\n",
    "    cos = nn.CosineSimilarity(dim=1)\n",
    "    sim = cos(nl_agg, code_agg).item()\n",
    "\n",
    "    return nl_agg.detach().numpy(), code_agg.detach().numpy(), sim"
   ],
   "metadata": {
    "collapsed": false
   }
  },
  {
   "cell_type": "markdown",
   "source": [
    "#### Load Embedding Model"
   ],
   "metadata": {
    "collapsed": false
   }
  },
  {
   "cell_type": "code",
   "execution_count": 6,
   "outputs": [
    {
     "name": "stdout",
     "output_type": "stream",
     "text": [
      "\n"
     ]
    }
   ],
   "source": [
    "device = torch.device(\"cuda\" if torch.cuda.is_available() else \"cpu\")\n",
    "bert_tokenizer = RobertaTokenizer.from_pretrained(\"microsoft/codebert-base\")\n",
    "bert_model = RobertaModel.from_pretrained(\"microsoft/codebert-base\")\n",
    "bert_model.to(device)\n",
    "\n",
    "print()"
   ],
   "metadata": {
    "collapsed": false
   }
  },
  {
   "cell_type": "code",
   "execution_count": 9,
   "outputs": [
    {
     "name": "stderr",
     "output_type": "stream",
     "text": [
      "100%|██████████| 315/315 [00:44<00:00,  7.09it/s]\n"
     ]
    },
    {
     "data": {
      "text/plain": "                                           docstring  \\\n0  Attempt to convert the specified value to epoc...   \n1  Generate a server side cookie given the cookie...   \n2  Generate httponly cookie from HS2 cookie\\n@par...   \n3  Copies all files from source to target and set...   \n4          Saves the configuration info to the disk.   \n\n                                                code  relevance  \\\n0  private static String coerceToEpoch(String s) ...          2   \n1  private Cookie createCookie(String str) throws...          2   \n2  private static String getHttpOnlyCookieHeader(...          2   \n3  public static void copy(Path sourcePath, Path ...          3   \n4  public synchronized void save() {\\n        if ...          3   \n\n                          repo  \\\n0  spring-projects/spring-boot   \n1                 apache/spark   \n2                 apache/spark   \n3                 apache/flink   \n4            jenkinsci/jenkins   \n\n                                            func_url  split  \\\n0  https://github.com/spring-projects/spring-boot...  train   \n1  https://github.com/apache/spark/blob/25ee0474f...  train   \n2  https://github.com/apache/spark/blob/25ee0474f...  train   \n3  https://github.com/apache/flink/blob/b62db93bf...  train   \n4  https://github.com/jenkinsci/jenkins/blob/44c4...  train   \n\n                                            nl_embed  \\\n0  [[0.0, 0.0, 0.0, 0.0, 0.0, 0.0, 0.0, 0.0, 0.0,...   \n1  [[0.0, 0.0, 0.0, 0.0, 0.0, 0.0, 0.0, 0.0, 0.0,...   \n2  [[0.0, 0.0, 0.0, 0.0, 0.0, 0.0, 0.0, 0.0, 0.0,...   \n3  [[0.0, 0.0, 0.0, 0.0, 0.0, 0.0, 0.0, 0.0, 0.0,...   \n4  [[0.0, 0.0, 0.0, 0.0, 0.0, 0.0, 0.0, 0.0, 0.0,...   \n\n                                          code_embed       sim  \n0  [[0.049218524, 0.046266314, 0.05542605, 0.0503...  0.685977  \n1  [[0.050279554, 0.048305128, 0.046424236, 0.054...  0.469626  \n2  [[0.049495775, 0.04716861, 0.055548936, 0.0603...  0.490250  \n3  [[0.04833452, 0.0510515, 0.056628924, 0.054732...  0.568199  \n4  [[0.05180261, 0.053425696, 0.05358086, 0.04882...  0.166293  ",
      "text/html": "<div>\n<style scoped>\n    .dataframe tbody tr th:only-of-type {\n        vertical-align: middle;\n    }\n\n    .dataframe tbody tr th {\n        vertical-align: top;\n    }\n\n    .dataframe thead th {\n        text-align: right;\n    }\n</style>\n<table border=\"1\" class=\"dataframe\">\n  <thead>\n    <tr style=\"text-align: right;\">\n      <th></th>\n      <th>docstring</th>\n      <th>code</th>\n      <th>relevance</th>\n      <th>repo</th>\n      <th>func_url</th>\n      <th>split</th>\n      <th>nl_embed</th>\n      <th>code_embed</th>\n      <th>sim</th>\n    </tr>\n  </thead>\n  <tbody>\n    <tr>\n      <th>0</th>\n      <td>Attempt to convert the specified value to epoc...</td>\n      <td>private static String coerceToEpoch(String s) ...</td>\n      <td>2</td>\n      <td>spring-projects/spring-boot</td>\n      <td>https://github.com/spring-projects/spring-boot...</td>\n      <td>train</td>\n      <td>[[0.0, 0.0, 0.0, 0.0, 0.0, 0.0, 0.0, 0.0, 0.0,...</td>\n      <td>[[0.049218524, 0.046266314, 0.05542605, 0.0503...</td>\n      <td>0.685977</td>\n    </tr>\n    <tr>\n      <th>1</th>\n      <td>Generate a server side cookie given the cookie...</td>\n      <td>private Cookie createCookie(String str) throws...</td>\n      <td>2</td>\n      <td>apache/spark</td>\n      <td>https://github.com/apache/spark/blob/25ee0474f...</td>\n      <td>train</td>\n      <td>[[0.0, 0.0, 0.0, 0.0, 0.0, 0.0, 0.0, 0.0, 0.0,...</td>\n      <td>[[0.050279554, 0.048305128, 0.046424236, 0.054...</td>\n      <td>0.469626</td>\n    </tr>\n    <tr>\n      <th>2</th>\n      <td>Generate httponly cookie from HS2 cookie\\n@par...</td>\n      <td>private static String getHttpOnlyCookieHeader(...</td>\n      <td>2</td>\n      <td>apache/spark</td>\n      <td>https://github.com/apache/spark/blob/25ee0474f...</td>\n      <td>train</td>\n      <td>[[0.0, 0.0, 0.0, 0.0, 0.0, 0.0, 0.0, 0.0, 0.0,...</td>\n      <td>[[0.049495775, 0.04716861, 0.055548936, 0.0603...</td>\n      <td>0.490250</td>\n    </tr>\n    <tr>\n      <th>3</th>\n      <td>Copies all files from source to target and set...</td>\n      <td>public static void copy(Path sourcePath, Path ...</td>\n      <td>3</td>\n      <td>apache/flink</td>\n      <td>https://github.com/apache/flink/blob/b62db93bf...</td>\n      <td>train</td>\n      <td>[[0.0, 0.0, 0.0, 0.0, 0.0, 0.0, 0.0, 0.0, 0.0,...</td>\n      <td>[[0.04833452, 0.0510515, 0.056628924, 0.054732...</td>\n      <td>0.568199</td>\n    </tr>\n    <tr>\n      <th>4</th>\n      <td>Saves the configuration info to the disk.</td>\n      <td>public synchronized void save() {\\n        if ...</td>\n      <td>3</td>\n      <td>jenkinsci/jenkins</td>\n      <td>https://github.com/jenkinsci/jenkins/blob/44c4...</td>\n      <td>train</td>\n      <td>[[0.0, 0.0, 0.0, 0.0, 0.0, 0.0, 0.0, 0.0, 0.0,...</td>\n      <td>[[0.05180261, 0.053425696, 0.05358086, 0.04882...</td>\n      <td>0.166293</td>\n    </tr>\n  </tbody>\n</table>\n</div>"
     },
     "execution_count": 9,
     "metadata": {},
     "output_type": "execute_result"
    }
   ],
   "source": [
    "sim_df = df.copy()\n",
    "\n",
    "sim_df[['nl_embed', 'code_embed', 'sim']] = df.progress_apply(lambda x: get_cosine_sim(x['docstring'], x['code'], tokenizer=bert_tokenizer, model=bert_model), axis=1, result_type='expand')\n",
    "sim_df.head()"
   ],
   "metadata": {
    "collapsed": false
   }
  },
  {
   "cell_type": "code",
   "execution_count": 10,
   "outputs": [],
   "source": [
    "sim_df.to_pickle('data/sim.pickle')"
   ],
   "metadata": {
    "collapsed": false
   }
  }
 ],
 "metadata": {
  "kernelspec": {
   "display_name": "Python 3",
   "language": "python",
   "name": "python3"
  },
  "language_info": {
   "codemirror_mode": {
    "name": "ipython",
    "version": 2
   },
   "file_extension": ".py",
   "mimetype": "text/x-python",
   "name": "python",
   "nbconvert_exporter": "python",
   "pygments_lexer": "ipython2",
   "version": "2.7.6"
  }
 },
 "nbformat": 4,
 "nbformat_minor": 0
}
