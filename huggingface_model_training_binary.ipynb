{
 "cells": [
  {
   "cell_type": "code",
   "execution_count": 45,
   "metadata": {
    "collapsed": true
   },
   "outputs": [
    {
     "name": "stderr",
     "output_type": "stream",
     "text": [
      "\u001B[34m\u001B[1mwandb\u001B[0m: \u001B[33mWARNING\u001B[0m If you're specifying your api key in code, ensure this code is not shared publicly.\n",
      "\u001B[34m\u001B[1mwandb\u001B[0m: \u001B[33mWARNING\u001B[0m Consider setting the WANDB_API_KEY environment variable, or running `wandb login` from the command line.\n",
      "\u001B[34m\u001B[1mwandb\u001B[0m: Appending key for api.wandb.ai to your netrc file: /Users/marcus/.netrc\n"
     ]
    }
   ],
   "source": [
    "import torch.cuda\n",
    "from transformers import AutoTokenizer, DataCollatorWithPadding, AutoModelForSequenceClassification, TrainingArguments, Trainer\n",
    "from datasets import Dataset, DatasetDict\n",
    "import evaluate\n",
    "import numpy as np\n",
    "import wandb\n",
    "import seaborn as sns\n",
    "from torch import nn\n",
    "from sklearn.model_selection import StratifiedKFold\n",
    "\n",
    "\n",
    "with open('secrets/wandb_api_key.txt') as f:\n",
    "    wandb.login(key=f.read())"
   ]
  },
  {
   "cell_type": "markdown",
   "source": [
    "### Train pre-trained model from hugging face\n",
    "#### Load Dataset"
   ],
   "metadata": {
    "collapsed": false
   }
  },
  {
   "cell_type": "code",
   "execution_count": 46,
   "outputs": [
    {
     "data": {
      "text/plain": "Dataset({\n    features: ['func_code_string', 'func_code_tokens', 'func_documentation_string', 'func_documentation_tokens', 'label', 'text'],\n    num_rows: 315\n})"
     },
     "execution_count": 46,
     "metadata": {},
     "output_type": "execute_result"
    }
   ],
   "source": [
    "ds = Dataset.load_from_disk('data/code_search_net_relevance.hf')\n",
    "ds"
   ],
   "metadata": {
    "collapsed": false
   }
  },
  {
   "cell_type": "markdown",
   "source": [
    "#### Convert groups to binary model"
   ],
   "metadata": {
    "collapsed": false
   }
  },
  {
   "cell_type": "code",
   "execution_count": 47,
   "outputs": [],
   "source": [
    "def convert_to_binary(data):\n",
    "    if data['label'] in [2, 3]:\n",
    "        data['label'] = 1\n",
    "    return data\n",
    "\n",
    "ds = ds.map(convert_to_binary)\n"
   ],
   "metadata": {
    "collapsed": false
   }
  },
  {
   "cell_type": "markdown",
   "source": [
    "#### Load tokenizer and preprocess"
   ],
   "metadata": {
    "collapsed": false
   }
  },
  {
   "cell_type": "code",
   "execution_count": 48,
   "outputs": [],
   "source": [
    "# PRETRAINED_MODEL = 'distilbert-base-uncased'\n",
    "PRETRAINED_MODEL = 'microsoft/codebert-base'"
   ],
   "metadata": {
    "collapsed": false
   }
  },
  {
   "cell_type": "code",
   "execution_count": 49,
   "outputs": [
    {
     "data": {
      "text/plain": "Dataset({\n    features: ['func_code_string', 'func_code_tokens', 'func_documentation_string', 'func_documentation_tokens', 'label', 'text', 'input_ids', 'attention_mask'],\n    num_rows: 315\n})"
     },
     "execution_count": 49,
     "metadata": {},
     "output_type": "execute_result"
    }
   ],
   "source": [
    "tokenizer = AutoTokenizer.from_pretrained(PRETRAINED_MODEL)\n",
    "\n",
    "def preprocess(data):\n",
    "    return tokenizer(data['text'], truncation=True, padding=True)\n",
    "\n",
    "data_tokens = ds.map(preprocess)\n",
    "data_tokens"
   ],
   "metadata": {
    "collapsed": false
   }
  },
  {
   "cell_type": "code",
   "execution_count": 50,
   "outputs": [
    {
     "data": {
      "text/plain": "Dataset({\n    features: ['label', 'text', 'input_ids', 'attention_mask'],\n    num_rows: 315\n})"
     },
     "execution_count": 50,
     "metadata": {},
     "output_type": "execute_result"
    }
   ],
   "source": [
    "# TODO maybe equalize both classes\n",
    "data_tokens = data_tokens.remove_columns(['func_code_string', 'func_code_tokens', 'func_documentation_string', 'func_documentation_tokens'])\n",
    "data_tokens"
   ],
   "metadata": {
    "collapsed": false
   }
  },
  {
   "cell_type": "code",
   "execution_count": 51,
   "outputs": [
    {
     "data": {
      "text/plain": "<Axes: xlabel='label', ylabel='count'>"
     },
     "execution_count": 51,
     "metadata": {},
     "output_type": "execute_result"
    },
    {
     "data": {
      "text/plain": "<Figure size 640x480 with 1 Axes>",
      "image/png": "[encoded data removed]"
     },
     "metadata": {},
     "output_type": "display_data"
    }
   ],
   "source": [
    "sns.countplot(data_tokens.to_pandas(), x='label')"
   ],
   "metadata": {
    "collapsed": false
   }
  },
  {
   "cell_type": "code",
   "execution_count": 52,
   "outputs": [],
   "source": [
    "data_collator = DataCollatorWithPadding(tokenizer=tokenizer)"
   ],
   "metadata": {
    "collapsed": false
   }
  },
  {
   "cell_type": "code",
   "execution_count": 53,
   "outputs": [
    {
     "data": {
      "text/plain": "'<s>Creates a {@link HtmlPage} from a given {@link String} that contains the HTML code for that page.\\n\\n@param string {@link String} that contains the HTML code\\n@return {@link HtmlPage} for this {@link String}[SEP]public static HtmlPage toHtmlPage(String string) {\\n        try {\\n            URL url = new URL(\"http://bitvunit.codescape.de/some_page.html\");\\n            return HTMLParser.parseHtml(new StringWebResponse(string, url), new WebClient().getCurrentWindow());\\n        } catch (IOException e) {\\n            throw new RuntimeException(\"Error creating HtmlPage from String.\", e);\\n        }\\n    }</s>'"
     },
     "execution_count": 53,
     "metadata": {},
     "output_type": "execute_result"
    }
   ],
   "source": [
    "tokenizer.decode(data_tokens['input_ids'][0])"
   ],
   "metadata": {
    "collapsed": false
   }
  },
  {
   "cell_type": "markdown",
   "source": [
    "#### Evaluate"
   ],
   "metadata": {
    "collapsed": false
   }
  },
  {
   "cell_type": "code",
   "execution_count": 54,
   "outputs": [],
   "source": [
    "f1 = evaluate.load('f1')\n",
    "accuracy = evaluate.load('accuracy')\n",
    "recall = evaluate.load('recall')\n",
    "precision = evaluate.load('precision')"
   ],
   "metadata": {
    "collapsed": false
   }
  },
  {
   "cell_type": "code",
   "execution_count": 55,
   "outputs": [],
   "source": [
    "def compute_metrics(eval_pred):\n",
    "    predictions, labels = eval_pred\n",
    "    predictions = np.argmax(predictions, axis=1)\n",
    "\n",
    "    accuracy_res = accuracy.compute(predictions=predictions, references=labels)\n",
    "    f1_macro_res = f1.compute(predictions=predictions, references=labels, average='macro')\n",
    "    f1_micro_res = f1.compute(predictions=predictions, references=labels, average='micro')\n",
    "    f1_weighted_res = f1.compute(predictions=predictions, references=labels, average='weighted')\n",
    "    recall_macro_res = recall.compute(predictions=predictions, references=labels, average='macro')\n",
    "    recall_micro_res = recall.compute(predictions=predictions, references=labels, average='micro')\n",
    "    recall_weighted_res = recall.compute(predictions=predictions, references=labels, average='weighted')\n",
    "    precision_macro_res = precision.compute(predictions=predictions, references=labels, average='macro')\n",
    "    precision_micro_res = precision.compute(predictions=predictions, references=labels, average='micro')\n",
    "    precision_weighted_res = precision.compute(predictions=predictions, references=labels, average='weighted')\n",
    "\n",
    "    return {'accuracy': accuracy_res,\n",
    "            'f1_macro': f1_macro_res, 'f1_micro': f1_micro_res, 'f1_weighted': f1_weighted_res,\n",
    "            'recall_macro': recall_macro_res, 'recall_micro': recall_micro_res, 'recall_weighted': recall_weighted_res,\n",
    "            'precision_macro': precision_macro_res, 'precision_micro': precision_micro_res, 'precision_weighted': precision_weighted_res,\n",
    "            }"
   ],
   "metadata": {
    "collapsed": false
   }
  },
  {
   "cell_type": "markdown",
   "source": [
    "#### Split train and test set"
   ],
   "metadata": {
    "collapsed": false
   }
  },
  {
   "cell_type": "code",
   "execution_count": 56,
   "outputs": [],
   "source": [
    "train_test = data_tokens.train_test_split(test_size=0.2)"
   ],
   "metadata": {
    "collapsed": false
   }
  },
  {
   "cell_type": "code",
   "execution_count": 57,
   "outputs": [
    {
     "data": {
      "text/plain": "<Axes: xlabel='label', ylabel='count'>"
     },
     "execution_count": 57,
     "metadata": {},
     "output_type": "execute_result"
    },
    {
     "data": {
      "text/plain": "<Figure size 640x480 with 1 Axes>",
      "image/png": "[encoded data removed]"
     },
     "metadata": {},
     "output_type": "display_data"
    }
   ],
   "source": [
    "sns.countplot(train_test['train'].to_pandas(), x='label')"
   ],
   "metadata": {
    "collapsed": false
   }
  },
  {
   "cell_type": "code",
   "execution_count": 58,
   "outputs": [
    {
     "data": {
      "text/plain": "<Axes: xlabel='label', ylabel='count'>"
     },
     "execution_count": 58,
     "metadata": {},
     "output_type": "execute_result"
    },
    {
     "data": {
      "text/plain": "<Figure size 640x480 with 1 Axes>",
      "image/png": "[encoded data removed]"
     },
     "metadata": {},
     "output_type": "display_data"
    }
   ],
   "source": [
    "sns.countplot(train_test['test'].to_pandas(), x='label')"
   ],
   "metadata": {
    "collapsed": false
   }
  },
  {
   "cell_type": "markdown",
   "source": [
    "#### Train"
   ],
   "metadata": {
    "collapsed": false
   }
  },
  {
   "cell_type": "code",
   "execution_count": 59,
   "outputs": [],
   "source": [
    "id2label = {0: 'irrelevant', 1: 'relevant'}\n",
    "label2id = {'irrelevant': 0, 'relevant': 1}"
   ],
   "metadata": {
    "collapsed": false
   }
  },
  {
   "cell_type": "markdown",
   "source": [
    "#### Define custom Trainer to adjust weights for unbalanced classes\n",
    "Adapted from: https://huggingface.co/docs/transformers/main_classes/trainer"
   ],
   "metadata": {
    "collapsed": false
   }
  },
  {
   "cell_type": "code",
   "execution_count": 60,
   "outputs": [
    {
     "data": {
      "text/plain": "[0.5777777777777777, 0.4222222222222223]"
     },
     "execution_count": 60,
     "metadata": {},
     "output_type": "execute_result"
    }
   ],
   "source": [
    "class_count = ds.to_pandas().groupby('label').count()['text'].to_list()\n",
    "total = sum(class_count)\n",
    "weights = [1 - (val / total) for val in class_count]\n",
    "weights"
   ],
   "metadata": {
    "collapsed": false
   }
  },
  {
   "cell_type": "code",
   "execution_count": 61,
   "outputs": [],
   "source": [
    "\n",
    "\n",
    "class CustomTrainer(Trainer):\n",
    "    def compute_loss(self, model, inputs, return_outputs=False):\n",
    "        labels = inputs.pop('labels')\n",
    "        outputs = model(**inputs)\n",
    "        logits = outputs.get('logits')\n",
    "        loss_fn = nn.CrossEntropyLoss(weight=torch.tensor(weights, device=model.device))\n",
    "        loss = loss_fn(logits.view(-1, self.model.config.num_labels), labels.view(-1))\n",
    "\n",
    "        return (loss, outputs) if return_outputs else loss"
   ],
   "metadata": {
    "collapsed": false
   }
  },
  {
   "cell_type": "code",
   "execution_count": 62,
   "outputs": [
    {
     "name": "stderr",
     "output_type": "stream",
     "text": [
      "Some weights of RobertaForSequenceClassification were not initialized from the model checkpoint at microsoft/codebert-base and are newly initialized: ['classifier.out_proj.weight', 'classifier.dense.weight', 'classifier.out_proj.bias', 'classifier.dense.bias']\n",
      "You should probably TRAIN this model on a down-stream task to be able to use it for predictions and inference.\n"
     ]
    }
   ],
   "source": [
    "device = \"cuda:0\" if torch.cuda.is_available() else \"cpu\"\n",
    "\n",
    "model = AutoModelForSequenceClassification.from_pretrained(PRETRAINED_MODEL, num_labels=2, id2label=id2label, label2id=label2id)\n",
    "model.to(device)\n",
    "\n",
    "\n",
    "training_arguments = TrainingArguments(\n",
    "    output_dir='m-messer/JavaDoc_Code_Relevance_Classifier',\n",
    "    learning_rate=2e-5,\n",
    "    per_device_train_batch_size=8,\n",
    "    per_device_eval_batch_size=8,\n",
    "    num_train_epochs=100,\n",
    "    weight_decay=0.01,\n",
    "    evaluation_strategy=\"epoch\",\n",
    "    save_strategy=\"epoch\",\n",
    "    load_best_model_at_end=True,\n",
    "    save_total_limit=5,\n",
    "    push_to_hub=False,\n",
    "    report_to=[\"wandb\"]\n",
    ")\n",
    "\n",
    "\n",
    "\n",
    "# trainer = Trainer(\n",
    "#     model=model,\n",
    "#     args=training_arguments,\n",
    "#     train_dataset=datasets[\"train\"],\n",
    "#     eval_dataset=datasets[\"valid\"],\n",
    "#     tokenizer=tokenizer,\n",
    "#     data_collator=data_collator,\n",
    "#     compute_metrics=compute_metrics,\n",
    "# )\n",
    "#\n",
    "# trainer.train()"
   ],
   "metadata": {
    "collapsed": false
   }
  },
  {
   "cell_type": "code",
   "execution_count": 66,
   "outputs": [
    {
     "data": {
      "text/plain": "(array([ 26,  27,  28,  29,  30,  31,  32,  33,  34,  35,  36,  37,  38,\n         39,  40,  41,  42,  43,  44,  45,  46,  47,  48,  49,  50,  51,\n         52,  53,  54,  55,  56,  57,  58,  59,  60,  61,  62,  63,  64,\n         65,  66,  67,  68,  69,  70,  71,  72,  73,  74,  75,  76,  77,\n         78,  79,  80,  81,  82,  83,  84,  85,  86,  87,  88,  89,  90,\n         91,  92,  93,  94,  95,  96,  97,  98,  99, 100, 101, 102, 103,\n        104, 105, 106, 107, 108, 109, 110, 111, 112, 113, 114, 115, 116,\n        117, 118, 119, 120, 121, 122, 123, 124, 125, 126, 127, 128, 129,\n        130, 131, 132, 133, 134, 135, 136, 137, 138, 139, 140, 141, 142,\n        143, 144, 145, 146, 147, 148, 149, 150, 151, 152, 153, 154, 155,\n        156, 157, 158, 159, 160, 161, 162, 163, 164, 165, 166, 167, 168,\n        169, 170, 171, 172, 173, 174, 175, 176, 177, 178, 179, 180, 181,\n        182, 183, 184, 185, 186, 187, 188, 189, 190, 191, 192, 193, 194,\n        195, 196, 197, 198, 199, 200, 201, 202, 203, 204, 205, 206, 207,\n        208, 209, 210, 211, 212, 213, 214, 215, 216, 217, 218, 219, 220,\n        221, 222, 223, 224, 225, 226, 227, 228, 229, 230, 231, 232, 233,\n        234, 235, 236, 237, 238, 239, 240, 241, 242, 243, 244, 245, 246,\n        247, 248, 249, 250, 251]),\n array([ 0,  1,  2,  3,  4,  5,  6,  7,  8,  9, 10, 11, 12, 13, 14, 15, 16,\n        17, 18, 19, 20, 21, 22, 23, 24, 25]))"
     },
     "execution_count": 66,
     "metadata": {},
     "output_type": "execute_result"
    }
   ],
   "source": [
    "folds = StratifiedKFold(n_splits=10)\n",
    "\n",
    "splits = folds.split(np.zeros(train_test['train'].num_rows), train_test['train']['label'])\n",
    "\n",
    "for train_idxs, val_idxs in splits:\n",
    "    train_data = train_test['train'].select(train_idxs)\n",
    "    validation_data = train_test['train'].select(val_idxs)\n",
    "\n",
    "    trainer = CustomTrainer(\n",
    "        model=model,\n",
    "        args=training_arguments,\n",
    "        train_dataset=train_data,\n",
    "        eval_dataset=validation_data,\n",
    "        tokenizer=tokenizer,\n",
    "        data_collator=data_collator,\n",
    "        compute_metrics=compute_metrics,\n",
    "    )\n",
    "\n",
    "    trainer.train()\n"
   ],
   "metadata": {
    "collapsed": false
   }
  },
  {
   "cell_type": "markdown",
   "source": [
    "### Evaluation"
   ],
   "metadata": {
    "collapsed": false
   }
  },
  {
   "cell_type": "code",
   "execution_count": 44,
   "outputs": [
    {
     "ename": "NameError",
     "evalue": "name 'model' is not defined",
     "output_type": "error",
     "traceback": [
      "\u001B[0;31m---------------------------------------------------------------------------\u001B[0m",
      "\u001B[0;31mNameError\u001B[0m                                 Traceback (most recent call last)",
      "Cell \u001B[0;32mIn[44], line 1\u001B[0m\n\u001B[0;32m----> 1\u001B[0m \u001B[43mmodel\u001B[49m\u001B[38;5;241m.\u001B[39meval()\n\u001B[1;32m      3\u001B[0m evaluator \u001B[38;5;241m=\u001B[39m evaluate\u001B[38;5;241m.\u001B[39mevaluator(\u001B[38;5;124m'\u001B[39m\u001B[38;5;124mtext-classification\u001B[39m\u001B[38;5;124m'\u001B[39m)\n\u001B[1;32m      5\u001B[0m eval_results \u001B[38;5;241m=\u001B[39m evaluator\u001B[38;5;241m.\u001B[39mcompute(\n\u001B[1;32m      6\u001B[0m     model_or_pipeline\u001B[38;5;241m=\u001B[39mmodel,\n\u001B[1;32m      7\u001B[0m     data\u001B[38;5;241m=\u001B[39mdatasets[\u001B[38;5;124m'\u001B[39m\u001B[38;5;124mtest\u001B[39m\u001B[38;5;124m'\u001B[39m],\n\u001B[0;32m   (...)\u001B[0m\n\u001B[1;32m     10\u001B[0m     compute_metric\u001B[38;5;241m=\u001B[39mcompute_metrics\n\u001B[1;32m     11\u001B[0m )\n",
      "\u001B[0;31mNameError\u001B[0m: name 'model' is not defined"
     ]
    }
   ],
   "source": [
    "model.eval()\n",
    "\n",
    "evaluator = evaluate.evaluator('text-classification')\n",
    "\n",
    "eval_results = evaluator.compute(\n",
    "    model_or_pipeline=model,\n",
    "    data=train_test['test'],\n",
    "    label_mapping=label2id,\n",
    "    tokenizer=tokenizer,\n",
    ")\n",
    "\n",
    "eval_results_formatted = {\"val/\" + key: item for key, item in eval_results.items()}\n",
    "\n",
    "wandb.log(eval_results_formatted)"
   ],
   "metadata": {
    "collapsed": false
   }
  }
 ],
 "metadata": {
  "kernelspec": {
   "display_name": "Python 3",
   "language": "python",
   "name": "python3"
  },
  "language_info": {
   "codemirror_mode": {
    "name": "ipython",
    "version": 2
   },
   "file_extension": ".py",
   "mimetype": "text/x-python",
   "name": "python",
   "nbconvert_exporter": "python",
   "pygments_lexer": "ipython2",
   "version": "2.7.6"
  }
 },
 "nbformat": 4,
 "nbformat_minor": 0
}
