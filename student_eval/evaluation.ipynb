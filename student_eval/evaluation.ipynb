{
 "cells": [
  {
   "cell_type": "code",
   "execution_count": 1,
   "metadata": {
    "collapsed": true
   },
   "outputs": [],
   "source": [
    "import pandas as pd\n",
    "from training import metrics\n",
    "from transformers import AutoModelForSequenceClassification, AutoTokenizer"
   ]
  },
  {
   "cell_type": "markdown",
   "source": [
    "# Evaluate Best Model Against Graded Student Submissions\n",
    "\n",
    "#### Load data and get in same form as training"
   ],
   "metadata": {
    "collapsed": false
   }
  },
  {
   "cell_type": "code",
   "execution_count": 2,
   "outputs": [
    {
     "data": {
      "text/plain": "                                            function  \\\n0  public void act(List<Animal> newkingfishers)\\n...   \n1  public void spreadDisease()\\n    {\\n     Field...   \n2  private void incrementAge()\\n    {\\n        ag...   \n3  private void incrementHunger()\\n    {\\n       ...   \n4  protected Location findFood()\\n    {\\n        ...   \n\n                                           docstring  label  \n0  This is what the kingfisher does most of the t...      2  \n1                                Spread the disease.      2  \n2  Increase the age. This could result in the kin...      2  \n3  Make this kingfisher more hungry. This could r...      2  \n4  Look for salmons adjacent to the current locat...      2  ",
      "text/html": "<div>\n<style scoped>\n    .dataframe tbody tr th:only-of-type {\n        vertical-align: middle;\n    }\n\n    .dataframe tbody tr th {\n        vertical-align: top;\n    }\n\n    .dataframe thead th {\n        text-align: right;\n    }\n</style>\n<table border=\"1\" class=\"dataframe\">\n  <thead>\n    <tr style=\"text-align: right;\">\n      <th></th>\n      <th>function</th>\n      <th>docstring</th>\n      <th>label</th>\n    </tr>\n  </thead>\n  <tbody>\n    <tr>\n      <th>0</th>\n      <td>public void act(List&lt;Animal&gt; newkingfishers)\\n...</td>\n      <td>This is what the kingfisher does most of the t...</td>\n      <td>2</td>\n    </tr>\n    <tr>\n      <th>1</th>\n      <td>public void spreadDisease()\\n    {\\n     Field...</td>\n      <td>Spread the disease.</td>\n      <td>2</td>\n    </tr>\n    <tr>\n      <th>2</th>\n      <td>private void incrementAge()\\n    {\\n        ag...</td>\n      <td>Increase the age. This could result in the kin...</td>\n      <td>2</td>\n    </tr>\n    <tr>\n      <th>3</th>\n      <td>private void incrementHunger()\\n    {\\n       ...</td>\n      <td>Make this kingfisher more hungry. This could r...</td>\n      <td>2</td>\n    </tr>\n    <tr>\n      <th>4</th>\n      <td>protected Location findFood()\\n    {\\n        ...</td>\n      <td>Look for salmons adjacent to the current locat...</td>\n      <td>2</td>\n    </tr>\n  </tbody>\n</table>\n</div>"
     },
     "execution_count": 2,
     "metadata": {},
     "output_type": "execute_result"
    }
   ],
   "source": [
    "df = pd.read_csv('../data/graded_docstring_code_pairs.csv', index_col=0)\n",
    "df = df.drop(columns=['file_name', 'id'])\n",
    "df.head()"
   ],
   "metadata": {
    "collapsed": false
   }
  },
  {
   "cell_type": "code",
   "execution_count": 8,
   "outputs": [
    {
     "data": {
      "text/plain": "                                            function  \\\n0  public void act(List<Animal> newkingfishers)\\n...   \n1  public void spreadDisease()\\n    {\\n     Field...   \n2  private void incrementAge()\\n    {\\n        ag...   \n3  private void incrementHunger()\\n    {\\n       ...   \n4  protected Location findFood()\\n    {\\n        ...   \n\n                                           docstring  label  \\\n0  This is what the kingfisher does most of the t...      2   \n1                                Spread the disease.      2   \n2  Increase the age. This could result in the kin...      2   \n3  Make this kingfisher more hungry. This could r...      2   \n4  Look for salmons adjacent to the current locat...      2   \n\n                                                text  \n0  This is what the kingfisher does most of the t...  \n1  Spread the disease.<CODESPLIT>public void spre...  \n2  Increase the age. This could result in the kin...  \n3  Make this kingfisher more hungry. This could r...  \n4  Look for salmons adjacent to the current locat...  ",
      "text/html": "<div>\n<style scoped>\n    .dataframe tbody tr th:only-of-type {\n        vertical-align: middle;\n    }\n\n    .dataframe tbody tr th {\n        vertical-align: top;\n    }\n\n    .dataframe thead th {\n        text-align: right;\n    }\n</style>\n<table border=\"1\" class=\"dataframe\">\n  <thead>\n    <tr style=\"text-align: right;\">\n      <th></th>\n      <th>function</th>\n      <th>docstring</th>\n      <th>label</th>\n      <th>text</th>\n    </tr>\n  </thead>\n  <tbody>\n    <tr>\n      <th>0</th>\n      <td>public void act(List&lt;Animal&gt; newkingfishers)\\n...</td>\n      <td>This is what the kingfisher does most of the t...</td>\n      <td>2</td>\n      <td>This is what the kingfisher does most of the t...</td>\n    </tr>\n    <tr>\n      <th>1</th>\n      <td>public void spreadDisease()\\n    {\\n     Field...</td>\n      <td>Spread the disease.</td>\n      <td>2</td>\n      <td>Spread the disease.&lt;CODESPLIT&gt;public void spre...</td>\n    </tr>\n    <tr>\n      <th>2</th>\n      <td>private void incrementAge()\\n    {\\n        ag...</td>\n      <td>Increase the age. This could result in the kin...</td>\n      <td>2</td>\n      <td>Increase the age. This could result in the kin...</td>\n    </tr>\n    <tr>\n      <th>3</th>\n      <td>private void incrementHunger()\\n    {\\n       ...</td>\n      <td>Make this kingfisher more hungry. This could r...</td>\n      <td>2</td>\n      <td>Make this kingfisher more hungry. This could r...</td>\n    </tr>\n    <tr>\n      <th>4</th>\n      <td>protected Location findFood()\\n    {\\n        ...</td>\n      <td>Look for salmons adjacent to the current locat...</td>\n      <td>2</td>\n      <td>Look for salmons adjacent to the current locat...</td>\n    </tr>\n  </tbody>\n</table>\n</div>"
     },
     "execution_count": 8,
     "metadata": {},
     "output_type": "execute_result"
    }
   ],
   "source": [
    "def format_str(string):\n",
    "    for char in ['\\r\\n', '\\r', '\\n']:\n",
    "        string = string.replace(char, ' ')\n",
    "    return string\n",
    "\n",
    "def concat_nl_and_code(data):\n",
    "    return format_str(data['docstring'] + '<CODESPLIT>' + data['function'])\n",
    "\n",
    "df['text'] = df.apply(lambda x: concat_nl_and_code(x), axis=1)\n",
    "df.head()"
   ],
   "metadata": {
    "collapsed": false
   }
  },
  {
   "cell_type": "markdown",
   "source": [
    "#### Load Model and setup evaluation"
   ],
   "metadata": {
    "collapsed": false
   }
  },
  {
   "cell_type": "code",
   "execution_count": null,
   "outputs": [],
   "source": [
    "#TODO Load model\n",
    "tokeninzer = AutoTokenizer.from_pretrained()\n",
    "model = AutoModelForSequenceClassification.from_pretrained()\n",
    "\n",
    "tokenized_data = df['text'].map(lambda string: tokeninzer(string, truncation=True, padding=True))\n",
    "\n",
    "\n",
    "model_prediction = model(tokenized_data)\n",
    "\n",
    "results = metrics.compute_metrics((model_prediction, list(df['label'])))\n",
    "results"
   ],
   "metadata": {
    "collapsed": false
   }
  },
  {
   "cell_type": "markdown",
   "source": [],
   "metadata": {
    "collapsed": false
   }
  }
 ],
 "metadata": {
  "kernelspec": {
   "display_name": "Python 3",
   "language": "python",
   "name": "python3"
  },
  "language_info": {
   "codemirror_mode": {
    "name": "ipython",
    "version": 2
   },
   "file_extension": ".py",
   "mimetype": "text/x-python",
   "name": "python",
   "nbconvert_exporter": "python",
   "pygments_lexer": "ipython2",
   "version": "2.7.6"
  }
 },
 "nbformat": 4,
 "nbformat_minor": 0
}
