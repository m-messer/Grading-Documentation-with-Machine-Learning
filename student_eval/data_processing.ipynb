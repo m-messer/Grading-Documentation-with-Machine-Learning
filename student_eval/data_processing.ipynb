{
 "cells": [
  {
   "cell_type": "code",
   "execution_count": 307,
   "metadata": {
    "collapsed": true
   },
   "outputs": [],
   "source": [
    "import numpy as np\n",
    "import pandas as pd\n",
    "import os\n",
    "from tqdm.notebook import tqdm\n",
    "\n",
    "import function_parser\n",
    "from function_parser.language_data import LANGUAGE_METADATA\n",
    "from function_parser.process import DataProcessor\n",
    "from tree_sitter import Language\n"
   ]
  },
  {
   "cell_type": "markdown",
   "source": [
    "# Process human graded data for evaluation\n",
    "### Load data\n",
    "\n",
    "Take the two batches and the two grades and concat them to one frame"
   ],
   "metadata": {
    "collapsed": false
   }
  },
  {
   "cell_type": "code",
   "execution_count": 23,
   "outputs": [
    {
     "data": {
      "text/plain": "    id  grade\n0  637   67.0\n1  164   73.0\n2  214   75.0\n3   94   85.0\n4  617    0.0",
      "text/html": "<div>\n<style scoped>\n    .dataframe tbody tr th:only-of-type {\n        vertical-align: middle;\n    }\n\n    .dataframe tbody tr th {\n        vertical-align: top;\n    }\n\n    .dataframe thead th {\n        text-align: right;\n    }\n</style>\n<table border=\"1\" class=\"dataframe\">\n  <thead>\n    <tr style=\"text-align: right;\">\n      <th></th>\n      <th>id</th>\n      <th>grade</th>\n    </tr>\n  </thead>\n  <tbody>\n    <tr>\n      <th>0</th>\n      <td>637</td>\n      <td>67.0</td>\n    </tr>\n    <tr>\n      <th>1</th>\n      <td>164</td>\n      <td>73.0</td>\n    </tr>\n    <tr>\n      <th>2</th>\n      <td>214</td>\n      <td>75.0</td>\n    </tr>\n    <tr>\n      <th>3</th>\n      <td>94</td>\n      <td>85.0</td>\n    </tr>\n    <tr>\n      <th>4</th>\n      <td>617</td>\n      <td>0.0</td>\n    </tr>\n  </tbody>\n</table>\n</div>"
     },
     "execution_count": 23,
     "metadata": {},
     "output_type": "execute_result"
    }
   ],
   "source": [
    "grader_1_batch_1_df = pd.read_csv('../data/student_grades/student_grades_01_01.csv', usecols=['Name', '5: Documentation (100.0 pts)'])\n",
    "grader_1_batch_2_df = pd.read_csv('../data/student_grades/student_grades_01_02.csv', usecols=['Name', '5: Documentation (100.0 pts)'])\n",
    "\n",
    "grader_2_batch_1_df = pd.read_csv('../data/student_grades/student_grades_02_01.csv', usecols=['Name', '5: Documentation (100.0 pts)'])\n",
    "grader_2_batch_2_df = pd.read_csv('../data/student_grades/student_grades_02_02.csv', usecols=['Name', '5: Documentation (100.0 pts)'])\n",
    "\n",
    "grades_df = pd.concat([grader_1_batch_1_df, grader_1_batch_2_df, grader_2_batch_1_df, grader_2_batch_2_df])\n",
    "grades_df.columns = ['id', 'grade']\n",
    "grades_df = grades_df.dropna()\n",
    "\n",
    "grades_df.head()"
   ],
   "metadata": {
    "collapsed": false
   }
  },
  {
   "cell_type": "markdown",
   "source": [
    "### Average grades between the two graders"
   ],
   "metadata": {
    "collapsed": false
   }
  },
  {
   "cell_type": "code",
   "execution_count": 281,
   "outputs": [
    {
     "data": {
      "text/plain": "     grade  label\nid               \n12    61.0    1.5\n17    71.0    2.5\n28    65.0    2.0\n39    65.0    2.0\n73    70.0    2.5\n83    75.0    3.0\n94    80.0    3.0\n120   64.0    2.0\n127   71.0    2.5\n128   69.0    2.5\n132   76.0    2.5\n136   74.0    3.0\n145   74.0    3.0\n151   74.0    3.0\n164   64.0    2.0\n214   69.0    2.5\n256   75.0    3.0\n260   85.0    3.0\n291   70.0    2.5\n319   80.0    3.0\n331   84.0    3.0\n362   75.0    3.0\n379   74.0    3.0\n380   65.0    2.0\n392   75.0    2.5\n396   79.0    3.0\n401   69.0    2.5\n421   60.0    1.5\n455   71.0    2.5\n488   85.0    3.0\n569   70.0    2.5\n570   74.0    3.0\n579   79.0    3.0\n597   74.0    3.0\n606   80.0    3.0\n617   42.5    1.5\n622   70.0    2.0\n637   59.5    1.5\n647   49.5    0.5\n702   71.0    2.5",
      "text/html": "<div>\n<style scoped>\n    .dataframe tbody tr th:only-of-type {\n        vertical-align: middle;\n    }\n\n    .dataframe tbody tr th {\n        vertical-align: top;\n    }\n\n    .dataframe thead th {\n        text-align: right;\n    }\n</style>\n<table border=\"1\" class=\"dataframe\">\n  <thead>\n    <tr style=\"text-align: right;\">\n      <th></th>\n      <th>grade</th>\n      <th>label</th>\n    </tr>\n    <tr>\n      <th>id</th>\n      <th></th>\n      <th></th>\n    </tr>\n  </thead>\n  <tbody>\n    <tr>\n      <th>12</th>\n      <td>61.0</td>\n      <td>1.5</td>\n    </tr>\n    <tr>\n      <th>17</th>\n      <td>71.0</td>\n      <td>2.5</td>\n    </tr>\n    <tr>\n      <th>28</th>\n      <td>65.0</td>\n      <td>2.0</td>\n    </tr>\n    <tr>\n      <th>39</th>\n      <td>65.0</td>\n      <td>2.0</td>\n    </tr>\n    <tr>\n      <th>73</th>\n      <td>70.0</td>\n      <td>2.5</td>\n    </tr>\n    <tr>\n      <th>83</th>\n      <td>75.0</td>\n      <td>3.0</td>\n    </tr>\n    <tr>\n      <th>94</th>\n      <td>80.0</td>\n      <td>3.0</td>\n    </tr>\n    <tr>\n      <th>120</th>\n      <td>64.0</td>\n      <td>2.0</td>\n    </tr>\n    <tr>\n      <th>127</th>\n      <td>71.0</td>\n      <td>2.5</td>\n    </tr>\n    <tr>\n      <th>128</th>\n      <td>69.0</td>\n      <td>2.5</td>\n    </tr>\n    <tr>\n      <th>132</th>\n      <td>76.0</td>\n      <td>2.5</td>\n    </tr>\n    <tr>\n      <th>136</th>\n      <td>74.0</td>\n      <td>3.0</td>\n    </tr>\n    <tr>\n      <th>145</th>\n      <td>74.0</td>\n      <td>3.0</td>\n    </tr>\n    <tr>\n      <th>151</th>\n      <td>74.0</td>\n      <td>3.0</td>\n    </tr>\n    <tr>\n      <th>164</th>\n      <td>64.0</td>\n      <td>2.0</td>\n    </tr>\n    <tr>\n      <th>214</th>\n      <td>69.0</td>\n      <td>2.5</td>\n    </tr>\n    <tr>\n      <th>256</th>\n      <td>75.0</td>\n      <td>3.0</td>\n    </tr>\n    <tr>\n      <th>260</th>\n      <td>85.0</td>\n      <td>3.0</td>\n    </tr>\n    <tr>\n      <th>291</th>\n      <td>70.0</td>\n      <td>2.5</td>\n    </tr>\n    <tr>\n      <th>319</th>\n      <td>80.0</td>\n      <td>3.0</td>\n    </tr>\n    <tr>\n      <th>331</th>\n      <td>84.0</td>\n      <td>3.0</td>\n    </tr>\n    <tr>\n      <th>362</th>\n      <td>75.0</td>\n      <td>3.0</td>\n    </tr>\n    <tr>\n      <th>379</th>\n      <td>74.0</td>\n      <td>3.0</td>\n    </tr>\n    <tr>\n      <th>380</th>\n      <td>65.0</td>\n      <td>2.0</td>\n    </tr>\n    <tr>\n      <th>392</th>\n      <td>75.0</td>\n      <td>2.5</td>\n    </tr>\n    <tr>\n      <th>396</th>\n      <td>79.0</td>\n      <td>3.0</td>\n    </tr>\n    <tr>\n      <th>401</th>\n      <td>69.0</td>\n      <td>2.5</td>\n    </tr>\n    <tr>\n      <th>421</th>\n      <td>60.0</td>\n      <td>1.5</td>\n    </tr>\n    <tr>\n      <th>455</th>\n      <td>71.0</td>\n      <td>2.5</td>\n    </tr>\n    <tr>\n      <th>488</th>\n      <td>85.0</td>\n      <td>3.0</td>\n    </tr>\n    <tr>\n      <th>569</th>\n      <td>70.0</td>\n      <td>2.5</td>\n    </tr>\n    <tr>\n      <th>570</th>\n      <td>74.0</td>\n      <td>3.0</td>\n    </tr>\n    <tr>\n      <th>579</th>\n      <td>79.0</td>\n      <td>3.0</td>\n    </tr>\n    <tr>\n      <th>597</th>\n      <td>74.0</td>\n      <td>3.0</td>\n    </tr>\n    <tr>\n      <th>606</th>\n      <td>80.0</td>\n      <td>3.0</td>\n    </tr>\n    <tr>\n      <th>617</th>\n      <td>42.5</td>\n      <td>1.5</td>\n    </tr>\n    <tr>\n      <th>622</th>\n      <td>70.0</td>\n      <td>2.0</td>\n    </tr>\n    <tr>\n      <th>637</th>\n      <td>59.5</td>\n      <td>1.5</td>\n    </tr>\n    <tr>\n      <th>647</th>\n      <td>49.5</td>\n      <td>0.5</td>\n    </tr>\n    <tr>\n      <th>702</th>\n      <td>71.0</td>\n      <td>2.5</td>\n    </tr>\n  </tbody>\n</table>\n</div>"
     },
     "execution_count": 281,
     "metadata": {},
     "output_type": "execute_result"
    }
   ],
   "source": [
    "grades_df = grades_df.groupby('id').mean()\n",
    "grades_df"
   ],
   "metadata": {
    "collapsed": false
   }
  },
  {
   "cell_type": "markdown",
   "source": [
    "### Convert to relevance classes"
   ],
   "metadata": {
    "collapsed": false
   }
  },
  {
   "cell_type": "code",
   "execution_count": 282,
   "outputs": [
    {
     "data": {
      "text/plain": "    grade  label\nid              \n12   61.0      2\n17   71.0      3\n28   65.0      2\n39   65.0      2\n73   70.0      3",
      "text/html": "<div>\n<style scoped>\n    .dataframe tbody tr th:only-of-type {\n        vertical-align: middle;\n    }\n\n    .dataframe tbody tr th {\n        vertical-align: top;\n    }\n\n    .dataframe thead th {\n        text-align: right;\n    }\n</style>\n<table border=\"1\" class=\"dataframe\">\n  <thead>\n    <tr style=\"text-align: right;\">\n      <th></th>\n      <th>grade</th>\n      <th>label</th>\n    </tr>\n    <tr>\n      <th>id</th>\n      <th></th>\n      <th></th>\n    </tr>\n  </thead>\n  <tbody>\n    <tr>\n      <th>12</th>\n      <td>61.0</td>\n      <td>2</td>\n    </tr>\n    <tr>\n      <th>17</th>\n      <td>71.0</td>\n      <td>3</td>\n    </tr>\n    <tr>\n      <th>28</th>\n      <td>65.0</td>\n      <td>2</td>\n    </tr>\n    <tr>\n      <th>39</th>\n      <td>65.0</td>\n      <td>2</td>\n    </tr>\n    <tr>\n      <th>73</th>\n      <td>70.0</td>\n      <td>3</td>\n    </tr>\n  </tbody>\n</table>\n</div>"
     },
     "execution_count": 282,
     "metadata": {},
     "output_type": "execute_result"
    }
   ],
   "source": [
    "def apply_bounds(grade):\n",
    "    if grade >= 70:\n",
    "        return 3\n",
    "    elif 70 > grade >= 60:\n",
    "        return 2\n",
    "    elif 60 > grade >= 50:\n",
    "        return 1\n",
    "    else:\n",
    "        return 0\n",
    "\n",
    "\n",
    "grades_df['label'] = grades_df['grade'].map(apply_bounds)\n",
    "grades_df.head()"
   ],
   "metadata": {
    "collapsed": false
   }
  },
  {
   "cell_type": "markdown",
   "source": [
    "# Get Code\n",
    "### Read code from files into Dataframe"
   ],
   "metadata": {
    "collapsed": false
   }
  },
  {
   "cell_type": "code",
   "execution_count": 232,
   "outputs": [
    {
     "data": {
      "text/plain": "Index(['dir', 'file_name', 'src'], dtype='object')"
     },
     "execution_count": 232,
     "metadata": {},
     "output_type": "execute_result"
    }
   ],
   "source": [
    "CODE_PATH = \"../data/student_assignments\"\n",
    "\n",
    "code_df = pd.DataFrame(columns=['dir', 'file_name', 'src'])\n",
    "code_df.columns"
   ],
   "metadata": {
    "collapsed": false
   }
  },
  {
   "cell_type": "code",
   "execution_count": 233,
   "outputs": [],
   "source": [
    "for root, _, files in os.walk(CODE_PATH):\n",
    "    for file in files:\n",
    "        if file.endswith(\".java\"):\n",
    "            with open(os.path.join(root, file), \"r\", encoding=\"ISO-8859-1\") as f:\n",
    "                source_code = f.read()\n",
    "\n",
    "            sub_path = \"/\".join(root.split('/')[:5])\n",
    "            new_row = pd.DataFrame({'dir': sub_path, 'file_name': file, 'src': source_code}, index=[0])\n",
    "            code_df = pd.concat([code_df, new_row], ignore_index=True)"
   ],
   "metadata": {
    "collapsed": false
   }
  },
  {
   "cell_type": "code",
   "execution_count": 234,
   "outputs": [
    {
     "data": {
      "text/plain": "                                               dir        file_name  \\\n0  ../data/student_assignments/18~19_Submission_28  Kingfisher.java   \n1  ../data/student_assignments/18~19_Submission_28      Rabbit.java   \n2  ../data/student_assignments/18~19_Submission_28  LandAnimal.java   \n3  ../data/student_assignments/18~19_Submission_28        Snow.java   \n4  ../data/student_assignments/18~19_Submission_28  Randomizer.java   \n\n                                                 src  \n0  import java.util.List;\\nimport java.util.Itera...  \n1  import java.util.List;\\nimport java.util.Rando...  \n2  import java.util.List;\\nimport java.util.Linke...  \n3  import java.awt.Color;\\nimport java.util.Rando...  \n4  import java.util.Random;\\n\\n/**\\n * Provide co...  ",
      "text/html": "<div>\n<style scoped>\n    .dataframe tbody tr th:only-of-type {\n        vertical-align: middle;\n    }\n\n    .dataframe tbody tr th {\n        vertical-align: top;\n    }\n\n    .dataframe thead th {\n        text-align: right;\n    }\n</style>\n<table border=\"1\" class=\"dataframe\">\n  <thead>\n    <tr style=\"text-align: right;\">\n      <th></th>\n      <th>dir</th>\n      <th>file_name</th>\n      <th>src</th>\n    </tr>\n  </thead>\n  <tbody>\n    <tr>\n      <th>0</th>\n      <td>../data/student_assignments/18~19_Submission_28</td>\n      <td>Kingfisher.java</td>\n      <td>import java.util.List;\\nimport java.util.Itera...</td>\n    </tr>\n    <tr>\n      <th>1</th>\n      <td>../data/student_assignments/18~19_Submission_28</td>\n      <td>Rabbit.java</td>\n      <td>import java.util.List;\\nimport java.util.Rando...</td>\n    </tr>\n    <tr>\n      <th>2</th>\n      <td>../data/student_assignments/18~19_Submission_28</td>\n      <td>LandAnimal.java</td>\n      <td>import java.util.List;\\nimport java.util.Linke...</td>\n    </tr>\n    <tr>\n      <th>3</th>\n      <td>../data/student_assignments/18~19_Submission_28</td>\n      <td>Snow.java</td>\n      <td>import java.awt.Color;\\nimport java.util.Rando...</td>\n    </tr>\n    <tr>\n      <th>4</th>\n      <td>../data/student_assignments/18~19_Submission_28</td>\n      <td>Randomizer.java</td>\n      <td>import java.util.Random;\\n\\n/**\\n * Provide co...</td>\n    </tr>\n  </tbody>\n</table>\n</div>"
     },
     "execution_count": 234,
     "metadata": {},
     "output_type": "execute_result"
    }
   ],
   "source": [
    "code_df.head()"
   ],
   "metadata": {
    "collapsed": false
   }
  },
  {
   "cell_type": "markdown",
   "source": [
    "Adapted from: https://github.com/ncoop57/function_parser\n",
    "\n",
    "If getting OS Error run the build_grammars command, which is part of the package"
   ],
   "metadata": {
    "collapsed": false
   }
  },
  {
   "cell_type": "code",
   "execution_count": 301,
   "outputs": [],
   "source": [
    "def get_submission_number(path):\n",
    "    submission_path = [path_part for path_part in path.split('/') if 'Submission' in path_part][0]\n",
    "    return int(submission_path.split('_')[2])\n",
    "\n",
    "def get_code_pairs(row):\n",
    "    file_path = os.path.join(row['dir'], row['file_name'])\n",
    "\n",
    "    defs = processor.process_single_file(file_path)\n",
    "\n",
    "    out_df = pd.DataFrame(defs)\n",
    "    out_df['id'] = get_submission_number(file_path)\n",
    "\n",
    "    return out_df"
   ],
   "metadata": {
    "collapsed": false
   }
  },
  {
   "cell_type": "code",
   "execution_count": 302,
   "outputs": [
    {
     "data": {
      "text/plain": "  0%|          | 0/915 [00:00<?, ?it/s]",
      "application/vnd.jupyter.widget-view+json": {
       "version_major": 2,
       "version_minor": 0,
       "model_id": "e21a7b267d3f4e798d4c13e9a7c0785f"
      }
     },
     "metadata": {},
     "output_type": "display_data"
    },
    {
     "data": {
      "text/plain": "                                            function  \\\n0  public void act(List<Animal> newkingfishers)\\n...   \n1  public void spreadDisease()\\n    {\\n     Field...   \n2  private void incrementAge()\\n    {\\n        ag...   \n3  private void incrementHunger()\\n    {\\n       ...   \n4  protected Location findFood()\\n    {\\n        ...   \n\n                                           docstring        file_name    id  \n0  This is what the kingfisher does most of the t...  Kingfisher.java  28.0  \n1                                Spread the disease.  Kingfisher.java  28.0  \n2  Increase the age. This could result in the kin...  Kingfisher.java  28.0  \n3  Make this kingfisher more hungry. This could r...  Kingfisher.java  28.0  \n4  Look for salmons adjacent to the current locat...  Kingfisher.java  28.0  ",
      "text/html": "<div>\n<style scoped>\n    .dataframe tbody tr th:only-of-type {\n        vertical-align: middle;\n    }\n\n    .dataframe tbody tr th {\n        vertical-align: top;\n    }\n\n    .dataframe thead th {\n        text-align: right;\n    }\n</style>\n<table border=\"1\" class=\"dataframe\">\n  <thead>\n    <tr style=\"text-align: right;\">\n      <th></th>\n      <th>function</th>\n      <th>docstring</th>\n      <th>file_name</th>\n      <th>id</th>\n    </tr>\n  </thead>\n  <tbody>\n    <tr>\n      <th>0</th>\n      <td>public void act(List&lt;Animal&gt; newkingfishers)\\n...</td>\n      <td>This is what the kingfisher does most of the t...</td>\n      <td>Kingfisher.java</td>\n      <td>28.0</td>\n    </tr>\n    <tr>\n      <th>1</th>\n      <td>public void spreadDisease()\\n    {\\n     Field...</td>\n      <td>Spread the disease.</td>\n      <td>Kingfisher.java</td>\n      <td>28.0</td>\n    </tr>\n    <tr>\n      <th>2</th>\n      <td>private void incrementAge()\\n    {\\n        ag...</td>\n      <td>Increase the age. This could result in the kin...</td>\n      <td>Kingfisher.java</td>\n      <td>28.0</td>\n    </tr>\n    <tr>\n      <th>3</th>\n      <td>private void incrementHunger()\\n    {\\n       ...</td>\n      <td>Make this kingfisher more hungry. This could r...</td>\n      <td>Kingfisher.java</td>\n      <td>28.0</td>\n    </tr>\n    <tr>\n      <th>4</th>\n      <td>protected Location findFood()\\n    {\\n        ...</td>\n      <td>Look for salmons adjacent to the current locat...</td>\n      <td>Kingfisher.java</td>\n      <td>28.0</td>\n    </tr>\n  </tbody>\n</table>\n</div>"
     },
     "execution_count": 302,
     "metadata": {},
     "output_type": "execute_result"
    }
   ],
   "source": [
    "language = 'java'\n",
    "\n",
    "DataProcessor.PARSER.set_language(\n",
    "    Language(os.path.join(function_parser.__path__[0], \"tree-sitter-languages.so\"), language)\n",
    ")\n",
    "\n",
    "processor = DataProcessor(\n",
    "    language=language, language_parser=LANGUAGE_METADATA[language][\"language_parser\"]\n",
    ")\n",
    "\n",
    "code_pairs_df = pd.DataFrame(columns=['function', 'docstring', 'file_name'])\n",
    "\n",
    "for index, row in tqdm(code_df.iterrows(), total=code_df.shape[0]):\n",
    "    code_pair_df = get_code_pairs(row)\n",
    "\n",
    "    if all([x in code_pair_df.columns for x in ['function', 'docstring', 'identifier']]):\n",
    "        code_pair_df['file_name'] = code_pair_df['identifier'] + 'java'\n",
    "        code_pairs_df = pd.concat([code_pairs_df, code_pair_df[['function', 'docstring', 'file_name', 'id']]])\n",
    "\n",
    "\n",
    "code_pairs_df.head()"
   ],
   "metadata": {
    "collapsed": false
   }
  },
  {
   "cell_type": "markdown",
   "source": [
    "#### Merge with labels\n",
    "All documentation/code pair from a project gets the same label, as documentation was graded for the project"
   ],
   "metadata": {
    "collapsed": false
   }
  },
  {
   "cell_type": "code",
   "execution_count": 310,
   "outputs": [
    {
     "data": {
      "text/plain": "                                            function  \\\n0  public void act(List<Animal> newkingfishers)\\n...   \n1  public void spreadDisease()\\n    {\\n     Field...   \n2  private void incrementAge()\\n    {\\n        ag...   \n3  private void incrementHunger()\\n    {\\n       ...   \n4  protected Location findFood()\\n    {\\n        ...   \n\n                                           docstring        file_name    id  \\\n0  This is what the kingfisher does most of the t...  Kingfisher.java  28.0   \n1                                Spread the disease.  Kingfisher.java  28.0   \n2  Increase the age. This could result in the kin...  Kingfisher.java  28.0   \n3  Make this kingfisher more hungry. This could r...  Kingfisher.java  28.0   \n4  Look for salmons adjacent to the current locat...  Kingfisher.java  28.0   \n\n   label  \n0      2  \n1      2  \n2      2  \n3      2  \n4      2  ",
      "text/html": "<div>\n<style scoped>\n    .dataframe tbody tr th:only-of-type {\n        vertical-align: middle;\n    }\n\n    .dataframe tbody tr th {\n        vertical-align: top;\n    }\n\n    .dataframe thead th {\n        text-align: right;\n    }\n</style>\n<table border=\"1\" class=\"dataframe\">\n  <thead>\n    <tr style=\"text-align: right;\">\n      <th></th>\n      <th>function</th>\n      <th>docstring</th>\n      <th>file_name</th>\n      <th>id</th>\n      <th>label</th>\n    </tr>\n  </thead>\n  <tbody>\n    <tr>\n      <th>0</th>\n      <td>public void act(List&lt;Animal&gt; newkingfishers)\\n...</td>\n      <td>This is what the kingfisher does most of the t...</td>\n      <td>Kingfisher.java</td>\n      <td>28.0</td>\n      <td>2</td>\n    </tr>\n    <tr>\n      <th>1</th>\n      <td>public void spreadDisease()\\n    {\\n     Field...</td>\n      <td>Spread the disease.</td>\n      <td>Kingfisher.java</td>\n      <td>28.0</td>\n      <td>2</td>\n    </tr>\n    <tr>\n      <th>2</th>\n      <td>private void incrementAge()\\n    {\\n        ag...</td>\n      <td>Increase the age. This could result in the kin...</td>\n      <td>Kingfisher.java</td>\n      <td>28.0</td>\n      <td>2</td>\n    </tr>\n    <tr>\n      <th>3</th>\n      <td>private void incrementHunger()\\n    {\\n       ...</td>\n      <td>Make this kingfisher more hungry. This could r...</td>\n      <td>Kingfisher.java</td>\n      <td>28.0</td>\n      <td>2</td>\n    </tr>\n    <tr>\n      <th>4</th>\n      <td>protected Location findFood()\\n    {\\n        ...</td>\n      <td>Look for salmons adjacent to the current locat...</td>\n      <td>Kingfisher.java</td>\n      <td>28.0</td>\n      <td>2</td>\n    </tr>\n  </tbody>\n</table>\n</div>"
     },
     "execution_count": 310,
     "metadata": {},
     "output_type": "execute_result"
    }
   ],
   "source": [
    "code_pairs_df['label'] = code_pairs_df['id'].map(grades_df['label'])\n",
    "code_pairs_df = code_pairs_df.replace('', np.nan)\n",
    "code_pairs_df = code_pairs_df.dropna()\n",
    "code_pairs_df.head()"
   ],
   "metadata": {
    "collapsed": false
   }
  },
  {
   "cell_type": "code",
   "execution_count": 313,
   "outputs": [
    {
     "data": {
      "text/plain": "label\n3    3846\n2    1343\n0     112\n1     112\nName: count, dtype: int64"
     },
     "execution_count": 313,
     "metadata": {},
     "output_type": "execute_result"
    }
   ],
   "source": [
    "code_pairs_df.label.value_counts()"
   ],
   "metadata": {
    "collapsed": false
   }
  },
  {
   "cell_type": "code",
   "execution_count": 315,
   "outputs": [],
   "source": [
    "code_pairs_df.to_csv('../data/graded_docstring_code_pairs.csv')"
   ],
   "metadata": {
    "collapsed": false
   }
  }
 ],
 "metadata": {
  "kernelspec": {
   "display_name": "Python 3",
   "language": "python",
   "name": "python3"
  },
  "language_info": {
   "codemirror_mode": {
    "name": "ipython",
    "version": 2
   },
   "file_extension": ".py",
   "mimetype": "text/x-python",
   "name": "python",
   "nbconvert_exporter": "python",
   "pygments_lexer": "ipython2",
   "version": "2.7.6"
  }
 },
 "nbformat": 4,
 "nbformat_minor": 0
}
