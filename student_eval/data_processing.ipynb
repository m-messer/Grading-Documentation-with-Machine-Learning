{
 "cells": [
  {
   "cell_type": "code",
   "execution_count": 1,
   "metadata": {
    "collapsed": true
   },
   "outputs": [],
   "source": [
    "import pandas as pd"
   ]
  },
  {
   "cell_type": "markdown",
   "source": [
    "# Process human graded data for evaluation\n",
    "### Load data\n",
    "\n",
    "Take the two batches and the two grades and concat them to one frame"
   ],
   "metadata": {
    "collapsed": false
   }
  },
  {
   "cell_type": "code",
   "execution_count": 3,
   "outputs": [
    {
     "data": {
      "text/plain": "    id  grade\n0  637   67.0\n1  164   73.0\n2  214   75.0\n3   94   85.0\n4  617    0.0",
      "text/html": "<div>\n<style scoped>\n    .dataframe tbody tr th:only-of-type {\n        vertical-align: middle;\n    }\n\n    .dataframe tbody tr th {\n        vertical-align: top;\n    }\n\n    .dataframe thead th {\n        text-align: right;\n    }\n</style>\n<table border=\"1\" class=\"dataframe\">\n  <thead>\n    <tr style=\"text-align: right;\">\n      <th></th>\n      <th>id</th>\n      <th>grade</th>\n    </tr>\n  </thead>\n  <tbody>\n    <tr>\n      <th>0</th>\n      <td>637</td>\n      <td>67.0</td>\n    </tr>\n    <tr>\n      <th>1</th>\n      <td>164</td>\n      <td>73.0</td>\n    </tr>\n    <tr>\n      <th>2</th>\n      <td>214</td>\n      <td>75.0</td>\n    </tr>\n    <tr>\n      <th>3</th>\n      <td>94</td>\n      <td>85.0</td>\n    </tr>\n    <tr>\n      <th>4</th>\n      <td>617</td>\n      <td>0.0</td>\n    </tr>\n  </tbody>\n</table>\n</div>"
     },
     "execution_count": 3,
     "metadata": {},
     "output_type": "execute_result"
    }
   ],
   "source": [
    "grader_1_batch_1_df = pd.read_csv('../data/student_grades/student_grades_01_01.csv', usecols=['Name', '5: Documentation (100.0 pts)'])\n",
    "grader_1_batch_2_df = pd.read_csv('../data/student_grades/student_grades_01_02.csv', usecols=['Name', '5: Documentation (100.0 pts)'])\n",
    "\n",
    "grader_2_batch_1_df = pd.read_csv('../data/student_grades/student_grades_02_01.csv', usecols=['Name', '5: Documentation (100.0 pts)'])\n",
    "grader_2_batch_2_df = pd.read_csv('../data/student_grades/student_grades_02_02.csv', usecols=['Name', '5: Documentation (100.0 pts)'])\n",
    "\n",
    "df = pd.concat([grader_1_batch_1_df, grader_1_batch_2_df, grader_2_batch_1_df, grader_2_batch_2_df])\n",
    "df.columns = ['id', 'grade']\n",
    "df = df.dropna()\n",
    "\n",
    "df.head()"
   ],
   "metadata": {
    "collapsed": false
   }
  },
  {
   "cell_type": "markdown",
   "source": [
    "### Average grades between the two graders"
   ],
   "metadata": {
    "collapsed": false
   }
  },
  {
   "cell_type": "code",
   "execution_count": 5,
   "outputs": [
    {
     "data": {
      "text/plain": "     grade\nid        \n12    61.0\n17    71.0\n28    65.0\n39    65.0\n73    70.0\n83    75.0\n94    80.0\n120   64.0\n127   71.0\n128   69.0\n132   76.0\n136   74.0\n145   74.0\n151   74.0\n164   64.0\n214   69.0\n256   75.0\n260   85.0\n291   70.0\n319   80.0\n331   84.0\n362   75.0\n379   74.0\n380   65.0\n392   75.0\n396   79.0\n401   69.0\n421   60.0\n455   71.0\n488   85.0\n569   70.0\n570   74.0\n579   79.0\n597   74.0\n606   80.0\n617   42.5\n622   70.0\n637   59.5\n647   49.5\n702   71.0",
      "text/html": "<div>\n<style scoped>\n    .dataframe tbody tr th:only-of-type {\n        vertical-align: middle;\n    }\n\n    .dataframe tbody tr th {\n        vertical-align: top;\n    }\n\n    .dataframe thead th {\n        text-align: right;\n    }\n</style>\n<table border=\"1\" class=\"dataframe\">\n  <thead>\n    <tr style=\"text-align: right;\">\n      <th></th>\n      <th>grade</th>\n    </tr>\n    <tr>\n      <th>id</th>\n      <th></th>\n    </tr>\n  </thead>\n  <tbody>\n    <tr>\n      <th>12</th>\n      <td>61.0</td>\n    </tr>\n    <tr>\n      <th>17</th>\n      <td>71.0</td>\n    </tr>\n    <tr>\n      <th>28</th>\n      <td>65.0</td>\n    </tr>\n    <tr>\n      <th>39</th>\n      <td>65.0</td>\n    </tr>\n    <tr>\n      <th>73</th>\n      <td>70.0</td>\n    </tr>\n    <tr>\n      <th>83</th>\n      <td>75.0</td>\n    </tr>\n    <tr>\n      <th>94</th>\n      <td>80.0</td>\n    </tr>\n    <tr>\n      <th>120</th>\n      <td>64.0</td>\n    </tr>\n    <tr>\n      <th>127</th>\n      <td>71.0</td>\n    </tr>\n    <tr>\n      <th>128</th>\n      <td>69.0</td>\n    </tr>\n    <tr>\n      <th>132</th>\n      <td>76.0</td>\n    </tr>\n    <tr>\n      <th>136</th>\n      <td>74.0</td>\n    </tr>\n    <tr>\n      <th>145</th>\n      <td>74.0</td>\n    </tr>\n    <tr>\n      <th>151</th>\n      <td>74.0</td>\n    </tr>\n    <tr>\n      <th>164</th>\n      <td>64.0</td>\n    </tr>\n    <tr>\n      <th>214</th>\n      <td>69.0</td>\n    </tr>\n    <tr>\n      <th>256</th>\n      <td>75.0</td>\n    </tr>\n    <tr>\n      <th>260</th>\n      <td>85.0</td>\n    </tr>\n    <tr>\n      <th>291</th>\n      <td>70.0</td>\n    </tr>\n    <tr>\n      <th>319</th>\n      <td>80.0</td>\n    </tr>\n    <tr>\n      <th>331</th>\n      <td>84.0</td>\n    </tr>\n    <tr>\n      <th>362</th>\n      <td>75.0</td>\n    </tr>\n    <tr>\n      <th>379</th>\n      <td>74.0</td>\n    </tr>\n    <tr>\n      <th>380</th>\n      <td>65.0</td>\n    </tr>\n    <tr>\n      <th>392</th>\n      <td>75.0</td>\n    </tr>\n    <tr>\n      <th>396</th>\n      <td>79.0</td>\n    </tr>\n    <tr>\n      <th>401</th>\n      <td>69.0</td>\n    </tr>\n    <tr>\n      <th>421</th>\n      <td>60.0</td>\n    </tr>\n    <tr>\n      <th>455</th>\n      <td>71.0</td>\n    </tr>\n    <tr>\n      <th>488</th>\n      <td>85.0</td>\n    </tr>\n    <tr>\n      <th>569</th>\n      <td>70.0</td>\n    </tr>\n    <tr>\n      <th>570</th>\n      <td>74.0</td>\n    </tr>\n    <tr>\n      <th>579</th>\n      <td>79.0</td>\n    </tr>\n    <tr>\n      <th>597</th>\n      <td>74.0</td>\n    </tr>\n    <tr>\n      <th>606</th>\n      <td>80.0</td>\n    </tr>\n    <tr>\n      <th>617</th>\n      <td>42.5</td>\n    </tr>\n    <tr>\n      <th>622</th>\n      <td>70.0</td>\n    </tr>\n    <tr>\n      <th>637</th>\n      <td>59.5</td>\n    </tr>\n    <tr>\n      <th>647</th>\n      <td>49.5</td>\n    </tr>\n    <tr>\n      <th>702</th>\n      <td>71.0</td>\n    </tr>\n  </tbody>\n</table>\n</div>"
     },
     "execution_count": 5,
     "metadata": {},
     "output_type": "execute_result"
    }
   ],
   "source": [
    "df.groupby('id').mean()"
   ],
   "metadata": {
    "collapsed": false
   }
  },
  {
   "cell_type": "markdown",
   "source": [
    "### Convert to relevance classes"
   ],
   "metadata": {
    "collapsed": false
   }
  },
  {
   "cell_type": "code",
   "execution_count": 6,
   "outputs": [
    {
     "data": {
      "text/plain": "    id  grade  label\n0  637   67.0      2\n1  164   73.0      3\n2  214   75.0      3\n3   94   85.0      3\n4  617    0.0      0",
      "text/html": "<div>\n<style scoped>\n    .dataframe tbody tr th:only-of-type {\n        vertical-align: middle;\n    }\n\n    .dataframe tbody tr th {\n        vertical-align: top;\n    }\n\n    .dataframe thead th {\n        text-align: right;\n    }\n</style>\n<table border=\"1\" class=\"dataframe\">\n  <thead>\n    <tr style=\"text-align: right;\">\n      <th></th>\n      <th>id</th>\n      <th>grade</th>\n      <th>label</th>\n    </tr>\n  </thead>\n  <tbody>\n    <tr>\n      <th>0</th>\n      <td>637</td>\n      <td>67.0</td>\n      <td>2</td>\n    </tr>\n    <tr>\n      <th>1</th>\n      <td>164</td>\n      <td>73.0</td>\n      <td>3</td>\n    </tr>\n    <tr>\n      <th>2</th>\n      <td>214</td>\n      <td>75.0</td>\n      <td>3</td>\n    </tr>\n    <tr>\n      <th>3</th>\n      <td>94</td>\n      <td>85.0</td>\n      <td>3</td>\n    </tr>\n    <tr>\n      <th>4</th>\n      <td>617</td>\n      <td>0.0</td>\n      <td>0</td>\n    </tr>\n  </tbody>\n</table>\n</div>"
     },
     "execution_count": 6,
     "metadata": {},
     "output_type": "execute_result"
    }
   ],
   "source": [
    "def apply_bounds(grade):\n",
    "    if grade >= 70:\n",
    "        return 3\n",
    "    elif 70 > grade >= 60:\n",
    "        return 2\n",
    "    elif 60 > grade >= 50:\n",
    "        return 1\n",
    "    else:\n",
    "        return 0\n",
    "\n",
    "\n",
    "df['label'] = df['grade'].map(apply_bounds)\n",
    "df.head()"
   ],
   "metadata": {
    "collapsed": false
   }
  }
 ],
 "metadata": {
  "kernelspec": {
   "display_name": "Python 3",
   "language": "python",
   "name": "python3"
  },
  "language_info": {
   "codemirror_mode": {
    "name": "ipython",
    "version": 2
   },
   "file_extension": ".py",
   "mimetype": "text/x-python",
   "name": "python",
   "nbconvert_exporter": "python",
   "pygments_lexer": "ipython2",
   "version": "2.7.6"
  }
 },
 "nbformat": 4,
 "nbformat_minor": 0
}
