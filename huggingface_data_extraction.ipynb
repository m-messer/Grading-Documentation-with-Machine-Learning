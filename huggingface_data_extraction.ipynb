{
 "cells": [
  {
   "cell_type": "code",
   "execution_count": 197,
   "metadata": {
    "collapsed": true
   },
   "outputs": [],
   "source": [
    "import pandas as pd\n",
    "from datasets import load_dataset\n",
    "from tqdm import tqdm\n",
    "\n",
    "tqdm.pandas()"
   ]
  },
  {
   "cell_type": "markdown",
   "source": [
    "### Load CodeNetSearch Dataset and Append Relevance Scores"
   ],
   "metadata": {
    "collapsed": false
   }
  },
  {
   "cell_type": "code",
   "execution_count": 198,
   "outputs": [
    {
     "data": {
      "text/plain": "    Language                                  Query  \\\n166     Java                    fuzzy match ranking   \n167     Java                          create cookie   \n168     Java              parse query string in url   \n169     Java                  convert int to string   \n170     Java  deducting the median from each column   \n\n                                             GitHubUrl  Relevance Notes  \n166  https://github.com/spotbugs/spotbugs/blob/f636...          0   NaN  \n167  https://github.com/apache/spark/blob/25ee0474f...          2   NaN  \n168  https://github.com/tanhaichao/leopard-lang/blo...          0   NaN  \n169  https://github.com/hankcs/HanLP/blob/a538d0722...          0   NaN  \n170  https://github.com/datacleaner/AnalyzerBeans/b...          0   NaN  ",
      "text/html": "<div>\n<style scoped>\n    .dataframe tbody tr th:only-of-type {\n        vertical-align: middle;\n    }\n\n    .dataframe tbody tr th {\n        vertical-align: top;\n    }\n\n    .dataframe thead th {\n        text-align: right;\n    }\n</style>\n<table border=\"1\" class=\"dataframe\">\n  <thead>\n    <tr style=\"text-align: right;\">\n      <th></th>\n      <th>Language</th>\n      <th>Query</th>\n      <th>GitHubUrl</th>\n      <th>Relevance</th>\n      <th>Notes</th>\n    </tr>\n  </thead>\n  <tbody>\n    <tr>\n      <th>166</th>\n      <td>Java</td>\n      <td>fuzzy match ranking</td>\n      <td>https://github.com/spotbugs/spotbugs/blob/f636...</td>\n      <td>0</td>\n      <td>NaN</td>\n    </tr>\n    <tr>\n      <th>167</th>\n      <td>Java</td>\n      <td>create cookie</td>\n      <td>https://github.com/apache/spark/blob/25ee0474f...</td>\n      <td>2</td>\n      <td>NaN</td>\n    </tr>\n    <tr>\n      <th>168</th>\n      <td>Java</td>\n      <td>parse query string in url</td>\n      <td>https://github.com/tanhaichao/leopard-lang/blo...</td>\n      <td>0</td>\n      <td>NaN</td>\n    </tr>\n    <tr>\n      <th>169</th>\n      <td>Java</td>\n      <td>convert int to string</td>\n      <td>https://github.com/hankcs/HanLP/blob/a538d0722...</td>\n      <td>0</td>\n      <td>NaN</td>\n    </tr>\n    <tr>\n      <th>170</th>\n      <td>Java</td>\n      <td>deducting the median from each column</td>\n      <td>https://github.com/datacleaner/AnalyzerBeans/b...</td>\n      <td>0</td>\n      <td>NaN</td>\n    </tr>\n  </tbody>\n</table>\n</div>"
     },
     "execution_count": 198,
     "metadata": {},
     "output_type": "execute_result"
    }
   ],
   "source": [
    "relevance_df = pd.read_csv('data/annotationStore.csv')\n",
    "relevance_df = relevance_df[relevance_df['Language'] == 'Java']\n",
    "relevance_df.head()"
   ],
   "metadata": {
    "collapsed": false
   }
  },
  {
   "cell_type": "code",
   "execution_count": 199,
   "outputs": [
    {
     "data": {
      "text/plain": "Dataset({\n    features: ['repository_name', 'func_path_in_repository', 'func_name', 'whole_func_string', 'language', 'func_code_string', 'func_code_tokens', 'func_documentation_string', 'func_documentation_tokens', 'split_name', 'func_code_url'],\n    num_rows: 4545\n})"
     },
     "execution_count": 199,
     "metadata": {},
     "output_type": "execute_result"
    }
   ],
   "source": [
    "# ds_train = load_dataset(\"code_search_net\", \"java\", split='train+test+validation')\n",
    "ds_train = load_dataset(\"code_search_net\", \"java\", split='train[:1%]')\n",
    "ds_train"
   ],
   "metadata": {
    "collapsed": false
   }
  },
  {
   "cell_type": "code",
   "execution_count": 200,
   "outputs": [],
   "source": [
    "def get_relevance(repo_url):\n",
    "    row = relevance_df[relevance_df['GitHubUrl'] == repo_url]\n",
    "\n",
    "    if not row.empty:\n",
    "        return row.Relevance.iloc[0]\n",
    "\n",
    "    return None\n",
    "\n",
    "# Used to check of docstring is written in a different language other than English.\n",
    "def is_ascii(s):\n",
    "    return all(ord(c) < 128 for c in s)"
   ],
   "metadata": {
    "collapsed": false
   }
  },
  {
   "cell_type": "code",
   "execution_count": 201,
   "outputs": [
    {
     "data": {
      "text/plain": "2"
     },
     "execution_count": 201,
     "metadata": {},
     "output_type": "execute_result"
    }
   ],
   "source": [
    "get_relevance('https://github.com/spring-projects/spring-boot/blob/0b27f7c70e164b2b1a96477f1d9c1acba56790c1/spring-boot-project/spring-boot/src/main/java/org/springframework/boot/info/GitProperties.java#L106-L118')"
   ],
   "metadata": {
    "collapsed": false
   }
  },
  {
   "cell_type": "code",
   "execution_count": 202,
   "outputs": [
    {
     "name": "stderr",
     "output_type": "stream",
     "text": [
      "4545it [00:00, 4867.99it/s]\n"
     ]
    }
   ],
   "source": [
    "relevance_list = []\n",
    "\n",
    "for i, row in tqdm(enumerate(iter(ds_train))):\n",
    "    try:\n",
    "        if not is_ascii(row['func_documentation_string']):\n",
    "            relevance_list.append(None)\n",
    "            continue\n",
    "    except StopIteration:\n",
    "        break\n",
    "\n",
    "    score = get_relevance(row['func_code_url'])\n",
    "    relevance_list.append(score)\n",
    "\n",
    "assert len(relevance_list) == len(ds_train)\n",
    "assert any(relevance_list) is not None"
   ],
   "metadata": {
    "collapsed": false
   }
  },
  {
   "cell_type": "code",
   "execution_count": 209,
   "outputs": [
    {
     "name": "stdout",
     "output_type": "stream",
     "text": [
      "3\n"
     ]
    }
   ],
   "source": [
    "for a in relevance_list:\n",
    "    if a is not None:\n",
    "        print(a)"
   ],
   "metadata": {
    "collapsed": false
   }
  },
  {
   "cell_type": "code",
   "execution_count": 203,
   "outputs": [
    {
     "data": {
      "text/plain": "Dataset({\n    features: ['repository_name', 'func_path_in_repository', 'func_name', 'whole_func_string', 'language', 'func_code_string', 'func_code_tokens', 'func_documentation_string', 'func_documentation_tokens', 'split_name', 'func_code_url', 'relevance'],\n    num_rows: 4545\n})"
     },
     "execution_count": 203,
     "metadata": {},
     "output_type": "execute_result"
    }
   ],
   "source": [
    "ds_train = ds_train.add_column(\"relevance\", relevance_list)\n",
    "ds_train"
   ],
   "metadata": {
    "collapsed": false
   }
  },
  {
   "cell_type": "code",
   "execution_count": 204,
   "outputs": [
    {
     "data": {
      "text/plain": "Dataset({\n    features: ['func_code_string', 'func_code_tokens', 'func_documentation_string', 'func_documentation_tokens', 'relevance'],\n    num_rows: 4545\n})"
     },
     "execution_count": 204,
     "metadata": {},
     "output_type": "execute_result"
    }
   ],
   "source": [
    "ds_train = ds_train.remove_columns(['repository_name', 'func_path_in_repository', 'func_name', 'whole_func_string', 'language', 'func_code_url', 'split_name'])\n",
    "ds_train"
   ],
   "metadata": {
    "collapsed": false
   }
  },
  {
   "cell_type": "code",
   "execution_count": 210,
   "outputs": [
    {
     "data": {
      "text/plain": "Filter:   0%|          | 0/4545 [00:00<?, ? examples/s]",
      "application/vnd.jupyter.widget-view+json": {
       "version_major": 2,
       "version_minor": 0,
       "model_id": "3cd43578cefe4133a283380a7d2b0ec4"
      }
     },
     "metadata": {},
     "output_type": "display_data"
    },
    {
     "data": {
      "text/plain": "Dataset({\n    features: ['func_code_string', 'func_code_tokens', 'func_documentation_string', 'func_documentation_tokens', 'relevance'],\n    num_rows: 1\n})"
     },
     "execution_count": 210,
     "metadata": {},
     "output_type": "execute_result"
    }
   ],
   "source": [
    "ds_train_filtered = ds_train.filter(lambda scored: scored['relevance'] is not None)\n",
    "ds_train_filtered"
   ],
   "metadata": {
    "collapsed": false
   }
  },
  {
   "cell_type": "code",
   "execution_count": 206,
   "outputs": [
    {
     "data": {
      "text/plain": "Saving the dataset (0/1 shards): 0 examples [00:00, ? examples/s]",
      "application/vnd.jupyter.widget-view+json": {
       "version_major": 2,
       "version_minor": 0,
       "model_id": "e2c832c367b0490c827b234556511bd6"
      }
     },
     "metadata": {},
     "output_type": "display_data"
    }
   ],
   "source": [
    "ds_train_filtered.save_to_disk(\"data/code_search_net_relevance.hf\")"
   ],
   "metadata": {
    "collapsed": false
   }
  }
 ],
 "metadata": {
  "kernelspec": {
   "display_name": "Python 3",
   "language": "python",
   "name": "python3"
  },
  "language_info": {
   "codemirror_mode": {
    "name": "ipython",
    "version": 2
   },
   "file_extension": ".py",
   "mimetype": "text/x-python",
   "name": "python",
   "nbconvert_exporter": "python",
   "pygments_lexer": "ipython2",
   "version": "2.7.6"
  }
 },
 "nbformat": 4,
 "nbformat_minor": 0
}
