{
 "cells": [
  {
   "cell_type": "code",
   "execution_count": 41,
   "metadata": {
    "collapsed": true
   },
   "outputs": [],
   "source": [
    "import pandas as pd\n",
    "from datasets import load_dataset\n",
    "from tqdm import tqdm\n",
    "\n",
    "tqdm.pandas()"
   ]
  },
  {
   "cell_type": "markdown",
   "source": [
    "### Load CodeNetSearch Dataset and Append Relevance Scores"
   ],
   "metadata": {
    "collapsed": false
   }
  },
  {
   "cell_type": "code",
   "execution_count": 42,
   "outputs": [
    {
     "data": {
      "text/plain": "    Language                                  Query  \\\n166     Java                    fuzzy match ranking   \n167     Java                          create cookie   \n168     Java              parse query string in url   \n169     Java                  convert int to string   \n170     Java  deducting the median from each column   \n\n                                             GitHubUrl  Relevance Notes  \n166  https://github.com/spotbugs/spotbugs/blob/f636...          0   NaN  \n167  https://github.com/apache/spark/blob/25ee0474f...          2   NaN  \n168  https://github.com/tanhaichao/leopard-lang/blo...          0   NaN  \n169  https://github.com/hankcs/HanLP/blob/a538d0722...          0   NaN  \n170  https://github.com/datacleaner/AnalyzerBeans/b...          0   NaN  ",
      "text/html": "<div>\n<style scoped>\n    .dataframe tbody tr th:only-of-type {\n        vertical-align: middle;\n    }\n\n    .dataframe tbody tr th {\n        vertical-align: top;\n    }\n\n    .dataframe thead th {\n        text-align: right;\n    }\n</style>\n<table border=\"1\" class=\"dataframe\">\n  <thead>\n    <tr style=\"text-align: right;\">\n      <th></th>\n      <th>Language</th>\n      <th>Query</th>\n      <th>GitHubUrl</th>\n      <th>Relevance</th>\n      <th>Notes</th>\n    </tr>\n  </thead>\n  <tbody>\n    <tr>\n      <th>166</th>\n      <td>Java</td>\n      <td>fuzzy match ranking</td>\n      <td>https://github.com/spotbugs/spotbugs/blob/f636...</td>\n      <td>0</td>\n      <td>NaN</td>\n    </tr>\n    <tr>\n      <th>167</th>\n      <td>Java</td>\n      <td>create cookie</td>\n      <td>https://github.com/apache/spark/blob/25ee0474f...</td>\n      <td>2</td>\n      <td>NaN</td>\n    </tr>\n    <tr>\n      <th>168</th>\n      <td>Java</td>\n      <td>parse query string in url</td>\n      <td>https://github.com/tanhaichao/leopard-lang/blo...</td>\n      <td>0</td>\n      <td>NaN</td>\n    </tr>\n    <tr>\n      <th>169</th>\n      <td>Java</td>\n      <td>convert int to string</td>\n      <td>https://github.com/hankcs/HanLP/blob/a538d0722...</td>\n      <td>0</td>\n      <td>NaN</td>\n    </tr>\n    <tr>\n      <th>170</th>\n      <td>Java</td>\n      <td>deducting the median from each column</td>\n      <td>https://github.com/datacleaner/AnalyzerBeans/b...</td>\n      <td>0</td>\n      <td>NaN</td>\n    </tr>\n  </tbody>\n</table>\n</div>"
     },
     "execution_count": 42,
     "metadata": {},
     "output_type": "execute_result"
    }
   ],
   "source": [
    "relevance_df = pd.read_csv('data/annotationStore.csv')\n",
    "relevance_df = relevance_df[relevance_df['Language'] == 'Java']\n",
    "relevance_df.head()"
   ],
   "metadata": {
    "collapsed": false
   }
  },
  {
   "cell_type": "code",
   "execution_count": 43,
   "outputs": [
    {
     "data": {
      "text/plain": "Dataset({\n    features: ['repository_name', 'func_path_in_repository', 'func_name', 'whole_func_string', 'language', 'func_code_string', 'func_code_tokens', 'func_documentation_string', 'func_documentation_tokens', 'split_name', 'func_code_url'],\n    num_rows: 4545\n})"
     },
     "execution_count": 43,
     "metadata": {},
     "output_type": "execute_result"
    }
   ],
   "source": [
    "# ds_train = load_dataset(\"code_search_net\", \"java\", split='train+test+validation')\n",
    "ds_train = load_dataset(\"code_search_net\", \"java\", split='train[:1%]')\n",
    "ds_train"
   ],
   "metadata": {
    "collapsed": false
   }
  },
  {
   "cell_type": "code",
   "execution_count": 44,
   "outputs": [],
   "source": [
    "def get_relevance(repo_url):\n",
    "    row = relevance_df[relevance_df['GitHubUrl'] == repo_url]\n",
    "\n",
    "    if not row.empty:\n",
    "        return row.Relevance.iloc[0]\n",
    "\n",
    "    return None\n",
    "\n",
    "# Used to check of docstring is written in a different language other than English.\n",
    "def is_ascii(s):\n",
    "    return all(ord(c) < 128 for c in s)"
   ],
   "metadata": {
    "collapsed": false
   }
  },
  {
   "cell_type": "code",
   "execution_count": 45,
   "outputs": [
    {
     "data": {
      "text/plain": "2"
     },
     "execution_count": 45,
     "metadata": {},
     "output_type": "execute_result"
    }
   ],
   "source": [
    "get_relevance('https://github.com/spring-projects/spring-boot/blob/0b27f7c70e164b2b1a96477f1d9c1acba56790c1/spring-boot-project/spring-boot/src/main/java/org/springframework/boot/info/GitProperties.java#L106-L118')"
   ],
   "metadata": {
    "collapsed": false
   }
  },
  {
   "cell_type": "code",
   "execution_count": 46,
   "outputs": [
    {
     "name": "stderr",
     "output_type": "stream",
     "text": [
      "4545it [00:01, 4420.05it/s]\n"
     ]
    }
   ],
   "source": [
    "relevance_list = []\n",
    "\n",
    "for i, row in tqdm(enumerate(iter(ds_train))):\n",
    "    try:\n",
    "        if not is_ascii(row['func_documentation_string']):\n",
    "            relevance_list.append(None)\n",
    "            continue\n",
    "    except StopIteration:\n",
    "        break\n",
    "\n",
    "    score = get_relevance(row['func_code_url'])\n",
    "    relevance_list.append(score)\n",
    "\n",
    "assert len(relevance_list) == len(ds_train)\n",
    "assert any(relevance_list) is not None"
   ],
   "metadata": {
    "collapsed": false
   }
  },
  {
   "cell_type": "code",
   "execution_count": 47,
   "outputs": [
    {
     "name": "stdout",
     "output_type": "stream",
     "text": [
      "3\n"
     ]
    }
   ],
   "source": [
    "for a in relevance_list:\n",
    "    if a is not None:\n",
    "        print(a)"
   ],
   "metadata": {
    "collapsed": false
   }
  },
  {
   "cell_type": "code",
   "execution_count": 48,
   "outputs": [
    {
     "data": {
      "text/plain": "Dataset({\n    features: ['repository_name', 'func_path_in_repository', 'func_name', 'whole_func_string', 'language', 'func_code_string', 'func_code_tokens', 'func_documentation_string', 'func_documentation_tokens', 'split_name', 'func_code_url', 'label'],\n    num_rows: 4545\n})"
     },
     "execution_count": 48,
     "metadata": {},
     "output_type": "execute_result"
    }
   ],
   "source": [
    "ds_train = ds_train.add_column(\"label\", relevance_list)\n",
    "ds_train"
   ],
   "metadata": {
    "collapsed": false
   }
  },
  {
   "cell_type": "code",
   "execution_count": 49,
   "outputs": [
    {
     "data": {
      "text/plain": "Dataset({\n    features: ['func_code_string', 'func_code_tokens', 'func_documentation_string', 'func_documentation_tokens', 'label'],\n    num_rows: 4545\n})"
     },
     "execution_count": 49,
     "metadata": {},
     "output_type": "execute_result"
    }
   ],
   "source": [
    "ds_train = ds_train.remove_columns(['repository_name', 'func_path_in_repository', 'func_name', 'whole_func_string', 'language', 'func_code_url', 'split_name'])\n",
    "ds_train"
   ],
   "metadata": {
    "collapsed": false
   }
  },
  {
   "cell_type": "code",
   "execution_count": 50,
   "outputs": [
    {
     "data": {
      "text/plain": "Dataset({\n    features: ['func_code_string', 'func_code_tokens', 'func_documentation_string', 'func_documentation_tokens', 'label'],\n    num_rows: 1\n})"
     },
     "execution_count": 50,
     "metadata": {},
     "output_type": "execute_result"
    }
   ],
   "source": [
    "ds_train_filtered = ds_train.filter(lambda scored: scored['label'] is not None)\n",
    "ds_train_filtered"
   ],
   "metadata": {
    "collapsed": false
   }
  },
  {
   "cell_type": "code",
   "execution_count": 53,
   "outputs": [],
   "source": [
    "# Taken from CodeBERT Preprocessing steps\n",
    "\n",
    "def format_str(string):\n",
    "    for char in ['\\r\\n', '\\r', '\\n']:\n",
    "        string = string.replace(char, ' ')\n",
    "    return string"
   ],
   "metadata": {
    "collapsed": false
   }
  },
  {
   "cell_type": "code",
   "execution_count": 54,
   "outputs": [
    {
     "data": {
      "text/plain": "Map:   0%|          | 0/1 [00:00<?, ? examples/s]",
      "application/vnd.jupyter.widget-view+json": {
       "version_major": 2,
       "version_minor": 0,
       "model_id": "8eebf41e3e7545f8bf9902e8a0b70538"
      }
     },
     "metadata": {},
     "output_type": "display_data"
    },
    {
     "data": {
      "text/plain": "Dataset({\n    features: ['func_code_string', 'func_code_tokens', 'func_documentation_string', 'func_documentation_tokens', 'label', 'text'],\n    num_rows: 1\n})"
     },
     "execution_count": 54,
     "metadata": {},
     "output_type": "execute_result"
    }
   ],
   "source": [
    "def concat_nl_and_code(data):\n",
    "    data['text'] = format_str(data['func_documentation_string'] + '<CODESPLIT>' + data['func_code_string'])\n",
    "\n",
    "    return data\n",
    "\n",
    "ds_train_filtered = ds_train_filtered.map(concat_nl_and_code)\n",
    "ds_train_filtered"
   ],
   "metadata": {
    "collapsed": false
   }
  },
  {
   "cell_type": "code",
   "execution_count": 55,
   "outputs": [
    {
     "data": {
      "text/plain": "{'func_code_string': 'protected static Number stringToNumber(final String val) throws NumberFormatException {\\n        char initial = val.charAt(0);\\n        if ((initial >= \\'0\\' && initial <= \\'9\\') || initial == \\'-\\') {\\n            // decimal representation\\n            if (isDecimalNotation(val)) {\\n                // quick dirty way to see if we need a BigDecimal instead of a Double\\n                // this only handles some cases of overflow or underflow\\n                if (val.length()>14) {\\n                    return new BigDecimal(val);\\n                }\\n                final Double d = Double.valueOf(val);\\n                if (d.isInfinite() || d.isNaN()) {\\n                    // if we can\\'t parse it as a double, go up to BigDecimal\\n                    // this is probably due to underflow like 4.32e-678\\n                    // or overflow like 4.65e5324. The size of the string is small\\n                    // but can\\'t be held in a Double.\\n                    return new BigDecimal(val);\\n                }\\n                return d;\\n            }\\n            // integer representation.\\n            // This will narrow any values to the smallest reasonable Object representation\\n            // (Integer, Long, or BigInteger)\\n            \\n            // string version\\n            // The compare string length method reduces GC,\\n            // but leads to smaller integers being placed in larger wrappers even though not\\n            // needed. i.e. 1,000,000,000 -> Long even though it\\'s an Integer\\n            // 1,000,000,000,000,000,000 -> BigInteger even though it\\'s a Long\\n            //if(val.length()<=9){\\n            //    return Integer.valueOf(val);\\n            //}\\n            //if(val.length()<=18){\\n            //    return Long.valueOf(val);\\n            //}\\n            //return new BigInteger(val);\\n            \\n            // BigInteger version: We use a similar bitLenth compare as\\n            // BigInteger#intValueExact uses. Increases GC, but objects hold\\n            // only what they need. i.e. Less runtime overhead if the value is\\n            // long lived. Which is the better tradeoff? This is closer to what\\'s\\n            // in stringToValue.\\n            BigInteger bi = new BigInteger(val);\\n            if(bi.bitLength()<=31){\\n                return Integer.valueOf(bi.intValue());\\n            }\\n            if(bi.bitLength()<=63){\\n                return Long.valueOf(bi.longValue());\\n            }\\n            return bi;\\n        }\\n        throw new NumberFormatException(\"val [\"+val+\"] is not a valid number.\");\\n    }',\n 'func_code_tokens': ['protected',\n  'static',\n  'Number',\n  'stringToNumber',\n  '(',\n  'final',\n  'String',\n  'val',\n  ')',\n  'throws',\n  'NumberFormatException',\n  '{',\n  'char',\n  'initial',\n  '=',\n  'val',\n  '.',\n  'charAt',\n  '(',\n  '0',\n  ')',\n  ';',\n  'if',\n  '(',\n  '(',\n  'initial',\n  '>=',\n  \"'\",\n  \"'\",\n  '&&',\n  'initial',\n  '<=',\n  \"'\",\n  \"'\",\n  ')',\n  '||',\n  'initial',\n  '==',\n  \"'\",\n  \"'\",\n  ')',\n  '{',\n  '// decimal representation',\n  'if',\n  '(',\n  'isDecimalNotation',\n  '(',\n  'val',\n  ')',\n  ')',\n  '{',\n  '// quick dirty way to see if we need a BigDecimal instead of a Double',\n  '// this only handles some cases of overflow or underflow',\n  'if',\n  '(',\n  'val',\n  '.',\n  'length',\n  '(',\n  ')',\n  '>',\n  '14',\n  ')',\n  '{',\n  'return',\n  'new',\n  'BigDecimal',\n  '(',\n  'val',\n  ')',\n  ';',\n  '}',\n  'final',\n  'Double',\n  'd',\n  '=',\n  'Double',\n  '.',\n  'valueOf',\n  '(',\n  'val',\n  ')',\n  ';',\n  'if',\n  '(',\n  'd',\n  '.',\n  'isInfinite',\n  '(',\n  ')',\n  '||',\n  'd',\n  '.',\n  'isNaN',\n  '(',\n  ')',\n  ')',\n  '{',\n  \"// if we can't parse it as a double, go up to BigDecimal\",\n  '// this is probably due to underflow like 4.32e-678',\n  '// or overflow like 4.65e5324. The size of the string is small',\n  \"// but can't be held in a Double.\",\n  'return',\n  'new',\n  'BigDecimal',\n  '(',\n  'val',\n  ')',\n  ';',\n  '}',\n  'return',\n  'd',\n  ';',\n  '}',\n  '// integer representation.',\n  '// This will narrow any values to the smallest reasonable Object representation',\n  '// (Integer, Long, or BigInteger)',\n  '// string version',\n  '// The compare string length method reduces GC,',\n  '// but leads to smaller integers being placed in larger wrappers even though not',\n  \"// needed. i.e. 1,000,000,000 -> Long even though it's an Integer\",\n  \"// 1,000,000,000,000,000,000 -> BigInteger even though it's a Long\",\n  '//if(val.length()<=9){',\n  '//    return Integer.valueOf(val);',\n  '//}',\n  '//if(val.length()<=18){',\n  '//    return Long.valueOf(val);',\n  '//}',\n  '//return new BigInteger(val);',\n  '// BigInteger version: We use a similar bitLenth compare as',\n  '// BigInteger#intValueExact uses. Increases GC, but objects hold',\n  '// only what they need. i.e. Less runtime overhead if the value is',\n  \"// long lived. Which is the better tradeoff? This is closer to what's\",\n  '// in stringToValue.',\n  'BigInteger',\n  'bi',\n  '=',\n  'new',\n  'BigInteger',\n  '(',\n  'val',\n  ')',\n  ';',\n  'if',\n  '(',\n  'bi',\n  '.',\n  'bitLength',\n  '(',\n  ')',\n  '<=',\n  '31',\n  ')',\n  '{',\n  'return',\n  'Integer',\n  '.',\n  'valueOf',\n  '(',\n  'bi',\n  '.',\n  'intValue',\n  '(',\n  ')',\n  ')',\n  ';',\n  '}',\n  'if',\n  '(',\n  'bi',\n  '.',\n  'bitLength',\n  '(',\n  ')',\n  '<=',\n  '63',\n  ')',\n  '{',\n  'return',\n  'Long',\n  '.',\n  'valueOf',\n  '(',\n  'bi',\n  '.',\n  'longValue',\n  '(',\n  ')',\n  ')',\n  ';',\n  '}',\n  'return',\n  'bi',\n  ';',\n  '}',\n  'throw',\n  'new',\n  'NumberFormatException',\n  '(',\n  '\"val [\"',\n  '+',\n  'val',\n  '+',\n  '\"] is not a valid number.\"',\n  ')',\n  ';',\n  '}'],\n 'func_documentation_string': 'Converts a string to a number using the narrowest possible type. Possible\\nreturns for this function are BigDecimal, Double, BigInteger, Long, and Integer.\\nWhen a Double is returned, it should always be a valid Double and not NaN or +-infinity.\\n\\n@param val value to convert\\n@return Number representation of the value.\\n@throws NumberFormatException thrown if the value is not a valid number. A public\\ncaller should catch this and wrap it in a {@link JSONException} if applicable.',\n 'func_documentation_tokens': ['Converts',\n  'a',\n  'string',\n  'to',\n  'a',\n  'number',\n  'using',\n  'the',\n  'narrowest',\n  'possible',\n  'type',\n  '.',\n  'Possible',\n  'returns',\n  'for',\n  'this',\n  'function',\n  'are',\n  'BigDecimal',\n  'Double',\n  'BigInteger',\n  'Long',\n  'and',\n  'Integer',\n  '.',\n  'When',\n  'a',\n  'Double',\n  'is',\n  'returned',\n  'it',\n  'should',\n  'always',\n  'be',\n  'a',\n  'valid',\n  'Double',\n  'and',\n  'not',\n  'NaN',\n  'or',\n  '+',\n  '-',\n  'infinity',\n  '.'],\n 'label': 3,\n 'text': 'Converts a string to a number using the narrowest possible type. Possible returns for this function are BigDecimal, Double, BigInteger, Long, and Integer. When a Double is returned, it should always be a valid Double and not NaN or +-infinity.  @param val value to convert @return Number representation of the value. @throws NumberFormatException thrown if the value is not a valid number. A public caller should catch this and wrap it in a {@link JSONException} if applicable.<CODESPLIT>protected static Number stringToNumber(final String val) throws NumberFormatException {         char initial = val.charAt(0);         if ((initial >= \\'0\\' && initial <= \\'9\\') || initial == \\'-\\') {             // decimal representation             if (isDecimalNotation(val)) {                 // quick dirty way to see if we need a BigDecimal instead of a Double                 // this only handles some cases of overflow or underflow                 if (val.length()>14) {                     return new BigDecimal(val);                 }                 final Double d = Double.valueOf(val);                 if (d.isInfinite() || d.isNaN()) {                     // if we can\\'t parse it as a double, go up to BigDecimal                     // this is probably due to underflow like 4.32e-678                     // or overflow like 4.65e5324. The size of the string is small                     // but can\\'t be held in a Double.                     return new BigDecimal(val);                 }                 return d;             }             // integer representation.             // This will narrow any values to the smallest reasonable Object representation             // (Integer, Long, or BigInteger)                          // string version             // The compare string length method reduces GC,             // but leads to smaller integers being placed in larger wrappers even though not             // needed. i.e. 1,000,000,000 -> Long even though it\\'s an Integer             // 1,000,000,000,000,000,000 -> BigInteger even though it\\'s a Long             //if(val.length()<=9){             //    return Integer.valueOf(val);             //}             //if(val.length()<=18){             //    return Long.valueOf(val);             //}             //return new BigInteger(val);                          // BigInteger version: We use a similar bitLenth compare as             // BigInteger#intValueExact uses. Increases GC, but objects hold             // only what they need. i.e. Less runtime overhead if the value is             // long lived. Which is the better tradeoff? This is closer to what\\'s             // in stringToValue.             BigInteger bi = new BigInteger(val);             if(bi.bitLength()<=31){                 return Integer.valueOf(bi.intValue());             }             if(bi.bitLength()<=63){                 return Long.valueOf(bi.longValue());             }             return bi;         }         throw new NumberFormatException(\"val [\"+val+\"] is not a valid number.\");     }'}"
     },
     "execution_count": 55,
     "metadata": {},
     "output_type": "execute_result"
    }
   ],
   "source": [
    "ds_train_filtered[0]"
   ],
   "metadata": {
    "collapsed": false
   }
  },
  {
   "cell_type": "code",
   "execution_count": null,
   "outputs": [],
   "source": [
    "ds_train_filtered.save_to_disk(\"data/code_search_net_relevance.hf\")"
   ],
   "metadata": {
    "collapsed": false
   }
  }
 ],
 "metadata": {
  "kernelspec": {
   "display_name": "Python 3",
   "language": "python",
   "name": "python3"
  },
  "language_info": {
   "codemirror_mode": {
    "name": "ipython",
    "version": 2
   },
   "file_extension": ".py",
   "mimetype": "text/x-python",
   "name": "python",
   "nbconvert_exporter": "python",
   "pygments_lexer": "ipython2",
   "version": "2.7.6"
  }
 },
 "nbformat": 4,
 "nbformat_minor": 0
}
