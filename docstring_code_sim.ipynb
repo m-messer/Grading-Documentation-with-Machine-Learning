{
 "cells": [
  {
   "cell_type": "code",
   "execution_count": 20,
   "metadata": {
    "collapsed": true
   },
   "outputs": [],
   "source": [
    "import pandas as pd\n",
    "from huggingface_hub import login\n",
    "from datasets import load_dataset\n",
    "from transformers import RobertaTokenizer, RobertaModel\n",
    "import torch.nn as nn\n",
    "import torch.nn.functional as F\n",
    "import torch\n",
    "import re\n",
    "import seaborn as sns"
   ]
  },
  {
   "cell_type": "markdown",
   "source": [
    "# JavaDoc-Code Similarity\n",
    "### Login to Huggingface"
   ],
   "metadata": {
    "collapsed": false
   }
  },
  {
   "cell_type": "code",
   "execution_count": 2,
   "outputs": [
    {
     "name": "stdout",
     "output_type": "stream",
     "text": [
      "Token will not been saved to git credential helper. Pass `add_to_git_credential=True` if you want to set the git credential as well.\n",
      "Token is valid (permission: write).\n",
      "Your token has been saved to /Users/marcus/.cache/huggingface/token\n",
      "Login successful\n"
     ]
    }
   ],
   "source": [
    "with open('secrets/hugging_face_key.txt') as f:\n",
    "    login(f.read())"
   ],
   "metadata": {
    "collapsed": false
   }
  },
  {
   "cell_type": "markdown",
   "source": [
    "### Load dataset"
   ],
   "metadata": {
    "collapsed": false
   }
  },
  {
   "cell_type": "code",
   "execution_count": 3,
   "outputs": [
    {
     "data": {
      "text/plain": "Downloading readme: 0.00B [00:00, ?B/s]",
      "application/vnd.jupyter.widget-view+json": {
       "version_major": 2,
       "version_minor": 0,
       "model_id": "a5dc568e02de4773b692bef60862e567"
      }
     },
     "metadata": {},
     "output_type": "display_data"
    }
   ],
   "source": [
    "ds = load_dataset(\"bigcode/starcoderdata\", data_dir=\"java\", split=\"train\", streaming=True)\n",
    "ds_filtered = ds.filter(lambda s: s['max_stars_count'] > 1000)\n",
    "\n",
    "ds_filtered.column_names"
   ],
   "metadata": {
    "collapsed": false
   }
  },
  {
   "cell_type": "code",
   "execution_count": 6,
   "outputs": [
    {
     "name": "stdout",
     "output_type": "stream",
     "text": [
      "dict_keys(['max_stars_repo_path', 'max_stars_repo_name', 'max_stars_count', 'id', 'content'])\n",
      "/*\n",
      " * Copyright 2020-2021 the original author or authors.\n",
      " *\n",
      " * Licensed under the Apache License, Version 2.0 (the \"License\");\n",
      " * you may not use this file except in compliance with the License.\n",
      " * You may obtain a copy of the License at\n",
      " *\n",
      " *      https://www.apache.org/licenses/LICENSE-2.0\n",
      " *\n",
      " * Unless required by applicable law or agreed to in writing, software\n",
      " * distributed under the License is distributed on an \"AS IS\" BASIS,\n",
      " * WITHOUT WARRANTIES OR CONDITIONS OF ANY KIND, either express or implied.\n",
      " * See the License for the specific language governing permissions and\n",
      " * limitations under the License.\n",
      " */\n",
      "package org.springframework.security.oauth2.core.http.converter;\n",
      "\n",
      "import java.net.URL;\n",
      "import java.util.Collection;\n",
      "import java.util.HashMap;\n",
      "import java.util.Map;\n",
      "\n",
      "import org.springframework.core.ParameterizedTypeReference;\n",
      "import org.springframework.core.convert.TypeDescriptor;\n",
      "import org.springframework.core.convert.converter.Converter;\n",
      "import org.springframework.http.HttpInputMessage;\n",
      "import org.springframework.http.HttpOutputMessage;\n",
      "import org.springframework.http.MediaType;\n",
      "import org.springframework.http.converter.AbstractHttpMessageConverter;\n",
      "import org.springframework.http.converter.GenericHttpMessageConverter;\n",
      "import org.springframework.http.converter.HttpMessageConverter;\n",
      "import org.springframework.http.converter.HttpMessageNotReadableException;\n",
      "import org.springframework.http.converter.HttpMessageNotWritableException;\n",
      "import org.springframework.security.oauth2.core.OAuth2AuthorizationServerMetadata;\n",
      "import org.springframework.security.oauth2.core.OAuth2AuthorizationServerMetadataClaimNames;\n",
      "import org.springframework.security.oauth2.core.converter.ClaimConversionService;\n",
      "import org.springframework.security.oauth2.core.converter.ClaimTypeConverter;\n",
      "import org.springframework.util.Assert;\n",
      "\n",
      "/**\n",
      " * A {@link HttpMessageConverter} for an {@link OAuth2AuthorizationServerMetadata OAuth 2.0 Authorization Server Metadata Response}.\n",
      " *\n",
      " * @author <NAME>\n",
      " * @since 0.1.1\n",
      " * @see AbstractHttpMessageConverter\n",
      " * @see OAuth2AuthorizationServerMetadata\n",
      " */\n",
      "public class OAuth2AuthorizationServerMetadataHttpMessageConverter\n",
      "\t\textends AbstractHttpMessageConverter<OAuth2AuthorizationServerMetadata> {\n",
      "\n",
      "\tprivate static final ParameterizedTypeReference<Map<String, Object>> STRING_OBJECT_MAP =\n",
      "\t\t\tnew ParameterizedTypeReference<Map<String, Object>>() {};\n",
      "\n",
      "\tprivate final GenericHttpMessageConverter<Object> jsonMessageConverter = HttpMessageConverters.getJsonMessageConverter();\n",
      "\n",
      "\tprivate Converter<Map<String, Object>, OAuth2AuthorizationServerMetadata> authorizationServerMetadataConverter = new OAuth2AuthorizationServerMetadataConverter();\n",
      "\tprivate Converter<OAuth2AuthorizationServerMetadata, Map<String, Object>> authorizationServerMetadataParametersConverter = OAuth2AuthorizationServerMetadata::getClaims;\n",
      "\n",
      "\tpublic OAuth2AuthorizationServerMetadataHttpMessageConverter() {\n",
      "\t\tsuper(MediaType.APPLICATION_JSON, new MediaType(\"application\", \"*+json\"));\n",
      "\t}\n",
      "\n",
      "\t@Override\n",
      "\tprotected boolean supports(Class<?> clazz) {\n",
      "\t\treturn OAuth2AuthorizationServerMetadata.class.isAssignableFrom(clazz);\n",
      "\t}\n",
      "\n",
      "\t@Override\n",
      "\t@SuppressWarnings(\"unchecked\")\n",
      "\tprotected OAuth2AuthorizationServerMetadata readInternal(Class<? extends OAuth2AuthorizationServerMetadata> clazz, HttpInputMessage inputMessage)\n",
      "\t\t\tthrows HttpMessageNotReadableException {\n",
      "\t\ttry {\n",
      "\t\t\tMap<String, Object> authorizationServerMetadataParameters =\n",
      "\t\t\t\t\t(Map<String, Object>) this.jsonMessageConverter.read(STRING_OBJECT_MAP.getType(), null, inputMessage);\n",
      "\t\t\treturn this.authorizationServerMetadataConverter.convert(authorizationServerMetadataParameters);\n",
      "\t\t} catch (Exception ex) {\n",
      "\t\t\tthrow new HttpMessageNotReadableException(\n",
      "\t\t\t\t\t\"An error occurred reading the OAuth 2.0 Authorization Server Metadata: \" + ex.getMessage(), ex, inputMessage);\n",
      "\t\t}\n",
      "\t}\n",
      "\n",
      "\t@Override\n",
      "\tprotected void writeInternal(OAuth2AuthorizationServerMetadata authorizationServerMetadata, HttpOutputMessage outputMessage)\n",
      "\t\t\tthrows HttpMessageNotWritableException {\n",
      "\t\ttry {\n",
      "\t\t\tMap<String, Object> authorizationServerMetadataResponseParameters =\n",
      "\t\t\t\t\tthis.authorizationServerMetadataParametersConverter.convert(authorizationServerMetadata);\n",
      "\t\t\tthis.jsonMessageConverter.write(\n",
      "\t\t\t\t\tauthorizationServerMetadataResponseParameters,\n",
      "\t\t\t\t\tSTRING_OBJECT_MAP.getType(),\n",
      "\t\t\t\t\tMediaType.APPLICATION_JSON,\n",
      "\t\t\t\t\toutputMessage\n",
      "\t\t\t);\n",
      "\t\t} catch (Exception ex) {\n",
      "\t\t\tthrow new HttpMessageNotWritableException(\n",
      "\t\t\t\t\t\"An error occurred writing the OAuth 2.0 Authorization Server Metadata: \" + ex.getMessage(), ex);\n",
      "\t\t}\n",
      "\t}\n",
      "\n",
      "\t/**\n",
      "\t * Sets the {@link Converter} used for converting the OAuth 2.0 Authorization Server Metadata\n",
      "\t * parameters to an {@link OAuth2AuthorizationServerMetadata}.\n",
      "\t *\n",
      "\t * @param authorizationServerMetadataConverter the {@link Converter} used for converting to\n",
      "\t * an {@link OAuth2AuthorizationServerMetadata}.\n",
      "\t */\n",
      "\tpublic final void setAuthorizationServerMetadataConverter(Converter<Map<String, Object>, OAuth2AuthorizationServerMetadata> authorizationServerMetadataConverter) {\n",
      "\t\tAssert.notNull(authorizationServerMetadataConverter, \"authorizationServerMetadataConverter cannot be null\");\n",
      "\t\tthis.authorizationServerMetadataConverter = authorizationServerMetadataConverter;\n",
      "\t}\n",
      "\n",
      "\t/**\n",
      "\t * Sets the {@link Converter} used for converting the {@link OAuth2AuthorizationServerMetadata} to a\n",
      "\t * {@code Map} representation of the OAuth 2.0 Authorization Server Metadata.\n",
      "\t *\n",
      "\t * @param authorizationServerMetadataParametersConverter the {@link Converter} used for converting to a\n",
      "\t * {@code Map} representation of the OAuth 2.0 Authorization Server Metadata.\n",
      "\t */\n",
      "\tpublic final void setAuthorizationServerMetadataParametersConverter(Converter<OAuth2AuthorizationServerMetadata, Map<String, Object>> authorizationServerMetadataParametersConverter) {\n",
      "\t\tAssert.notNull(authorizationServerMetadataParametersConverter, \"authorizationServerMetadataParametersConverter cannot be null\");\n",
      "\t\tthis.authorizationServerMetadataParametersConverter = authorizationServerMetadataParametersConverter;\n",
      "\t}\n",
      "\n",
      "\tprivate static final class OAuth2AuthorizationServerMetadataConverter implements Converter<Map<String, Object>, OAuth2AuthorizationServerMetadata> {\n",
      "\t\tprivate static final ClaimConversionService CLAIM_CONVERSION_SERVICE = ClaimConversionService.getSharedInstance();\n",
      "\t\tprivate static final TypeDescriptor OBJECT_TYPE_DESCRIPTOR = TypeDescriptor.valueOf(Object.class);\n",
      "\t\tprivate static final TypeDescriptor STRING_TYPE_DESCRIPTOR = TypeDescriptor.valueOf(String.class);\n",
      "\t\tprivate static final TypeDescriptor URL_TYPE_DESCRIPTOR = TypeDescriptor.valueOf(URL.class);\n",
      "\t\tprivate final ClaimTypeConverter claimTypeConverter;\n",
      "\n",
      "\t\tprivate OAuth2AuthorizationServerMetadataConverter() {\n",
      "\t\t\tConverter<Object, ?> collectionStringConverter = getConverter(\n",
      "\t\t\t\t\tTypeDescriptor.collection(Collection.class, STRING_TYPE_DESCRIPTOR));\n",
      "\t\t\tConverter<Object, ?> urlConverter = getConverter(URL_TYPE_DESCRIPTOR);\n",
      "\n",
      "\t\t\tMap<String, Converter<Object, ?>> claimConverters = new HashMap<>();\n",
      "\t\t\tclaimConverters.put(OAuth2AuthorizationServerMetadataClaimNames.ISSUER, urlConverter);\n",
      "\t\t\tclaimConverters.put(OAuth2AuthorizationServerMetadataClaimNames.AUTHORIZATION_ENDPOINT, urlConverter);\n",
      "\t\t\tclaimConverters.put(OAuth2AuthorizationServerMetadataClaimNames.TOKEN_ENDPOINT, urlConverter);\n",
      "\t\t\tclaimConverters.put(OAuth2AuthorizationServerMetadataClaimNames.TOKEN_ENDPOINT_AUTH_METHODS_SUPPORTED, collectionStringConverter);\n",
      "\t\t\tclaimConverters.put(OAuth2AuthorizationServerMetadataClaimNames.JWKS_URI, urlConverter);\n",
      "\t\t\tclaimConverters.put(OAuth2AuthorizationServerMetadataClaimNames.SCOPES_SUPPORTED, collectionStringConverter);\n",
      "\t\t\tclaimConverters.put(OAuth2AuthorizationServerMetadataClaimNames.RESPONSE_TYPES_SUPPORTED, collectionStringConverter);\n",
      "\t\t\tclaimConverters.put(OAuth2AuthorizationServerMetadataClaimNames.GRANT_TYPES_SUPPORTED, collectionStringConverter);\n",
      "\t\t\tclaimConverters.put(OAuth2AuthorizationServerMetadataClaimNames.REVOCATION_ENDPOINT, urlConverter);\n",
      "\t\t\tclaimConverters.put(OAuth2AuthorizationServerMetadataClaimNames.REVOCATION_ENDPOINT_AUTH_METHODS_SUPPORTED, collectionStringConverter);\n",
      "\t\t\tclaimConverters.put(OAuth2AuthorizationServerMetadataClaimNames.INTROSPECTION_ENDPOINT, urlConverter);\n",
      "\t\t\tclaimConverters.put(OAuth2AuthorizationServerMetadataClaimNames.INTROSPECTION_ENDPOINT_AUTH_METHODS_SUPPORTED, collectionStringConverter);\n",
      "\t\t\tclaimConverters.put(OAuth2AuthorizationServerMetadataClaimNames.CODE_CHALLENGE_METHODS_SUPPORTED, collectionStringConverter);\n",
      "\t\t\tthis.claimTypeConverter = new ClaimTypeConverter(claimConverters);\n",
      "\t\t}\n",
      "\n",
      "\t\t@Override\n",
      "\t\tpublic OAuth2AuthorizationServerMetadata convert(Map<String, Object> source) {\n",
      "\t\t\tMap<String, Object> parsedClaims = this.claimTypeConverter.convert(source);\n",
      "\t\t\treturn OAuth2AuthorizationServerMetadata.withClaims(parsedClaims).build();\n",
      "\t\t}\n",
      "\n",
      "\t\tprivate static Converter<Object, ?> getConverter(TypeDescriptor targetDescriptor) {\n",
      "\t\t\treturn (source) -> CLAIM_CONVERSION_SERVICE.convert(source, OBJECT_TYPE_DESCRIPTOR, targetDescriptor);\n",
      "\t\t}\n",
      "\t}\n",
      "\n",
      "}\n",
      "\n",
      "dict_keys(['max_stars_repo_path', 'max_stars_repo_name', 'max_stars_count', 'id', 'content'])\n",
      "/*\n",
      " * Copyright 2020-2021 the original author or authors.\n",
      " *\n",
      " * Licensed under the Apache License, Version 2.0 (the \"License\");\n",
      " * you may not use this file except in compliance with the License.\n",
      " * You may obtain a copy of the License at\n",
      " *\n",
      " *      https://www.apache.org/licenses/LICENSE-2.0\n",
      " *\n",
      " * Unless required by applicable law or agreed to in writing, software\n",
      " * distributed under the License is distributed on an \"AS IS\" BASIS,\n",
      " * WITHOUT WARRANTIES OR CONDITIONS OF ANY KIND, either express or implied.\n",
      " * See the License for the specific language governing permissions and\n",
      " * limitations under the License.\n",
      " */\n",
      "package org.springframework.security.oauth2.core.http.converter;\n",
      "\n",
      "import java.net.URL;\n",
      "import java.util.Collection;\n",
      "import java.util.HashMap;\n",
      "import java.util.Map;\n",
      "\n",
      "import org.springframework.core.ParameterizedTypeReference;\n",
      "import org.springframework.core.convert.TypeDescriptor;\n",
      "import org.springframework.core.convert.converter.Converter;\n",
      "import org.springframework.http.HttpInputMessage;\n",
      "import org.springframework.http.HttpOutputMessage;\n",
      "import org.springframework.http.MediaType;\n",
      "import org.springframework.http.converter.AbstractHttpMessageConverter;\n",
      "import org.springframework.http.converter.GenericHttpMessageConverter;\n",
      "import org.springframework.http.converter.HttpMessageConverter;\n",
      "import org.springframework.http.converter.HttpMessageNotReadableException;\n",
      "import org.springframework.http.converter.HttpMessageNotWritableException;\n",
      "import org.springframework.security.oauth2.core.OAuth2AuthorizationServerMetadata;\n",
      "import org.springframework.security.oauth2.core.OAuth2AuthorizationServerMetadataClaimNames;\n",
      "import org.springframework.security.oauth2.core.converter.ClaimConversionService;\n",
      "import org.springframework.security.oauth2.core.converter.ClaimTypeConverter;\n",
      "import org.springframework.util.Assert;\n",
      "\n",
      "/**\n",
      " * A {@link HttpMessageConverter} for an {@link OAuth2AuthorizationServerMetadata OAuth 2.0 Authorization Server Metadata Response}.\n",
      " *\n",
      " * @author <NAME>\n",
      " * @since 0.1.1\n",
      " * @see AbstractHttpMessageConverter\n",
      " * @see OAuth2AuthorizationServerMetadata\n",
      " */\n",
      "public class OAuth2AuthorizationServerMetadataHttpMessageConverter\n",
      "\t\textends AbstractHttpMessageConverter<OAuth2AuthorizationServerMetadata> {\n",
      "\n",
      "\tprivate static final ParameterizedTypeReference<Map<String, Object>> STRING_OBJECT_MAP =\n",
      "\t\t\tnew ParameterizedTypeReference<Map<String, Object>>() {};\n",
      "\n",
      "\tprivate final GenericHttpMessageConverter<Object> jsonMessageConverter = HttpMessageConverters.getJsonMessageConverter();\n",
      "\n",
      "\tprivate Converter<Map<String, Object>, OAuth2AuthorizationServerMetadata> authorizationServerMetadataConverter = new OAuth2AuthorizationServerMetadataConverter();\n",
      "\tprivate Converter<OAuth2AuthorizationServerMetadata, Map<String, Object>> authorizationServerMetadataParametersConverter = OAuth2AuthorizationServerMetadata::getClaims;\n",
      "\n",
      "\tpublic OAuth2AuthorizationServerMetadataHttpMessageConverter() {\n",
      "\t\tsuper(MediaType.APPLICATION_JSON, new MediaType(\"application\", \"*+json\"));\n",
      "\t}\n",
      "\n",
      "\t@Override\n",
      "\tprotected boolean supports(Class<?> clazz) {\n",
      "\t\treturn OAuth2AuthorizationServerMetadata.class.isAssignableFrom(clazz);\n",
      "\t}\n",
      "\n",
      "\t@Override\n",
      "\t@SuppressWarnings(\"unchecked\")\n",
      "\tprotected OAuth2AuthorizationServerMetadata readInternal(Class<? extends OAuth2AuthorizationServerMetadata> clazz, HttpInputMessage inputMessage)\n",
      "\t\t\tthrows HttpMessageNotReadableException {\n",
      "\t\ttry {\n",
      "\t\t\tMap<String, Object> authorizationServerMetadataParameters =\n",
      "\t\t\t\t\t(Map<String, Object>) this.jsonMessageConverter.read(STRING_OBJECT_MAP.getType(), null, inputMessage);\n",
      "\t\t\treturn this.authorizationServerMetadataConverter.convert(authorizationServerMetadataParameters);\n",
      "\t\t} catch (Exception ex) {\n",
      "\t\t\tthrow new HttpMessageNotReadableException(\n",
      "\t\t\t\t\t\"An error occurred reading the OAuth 2.0 Authorization Server Metadata: \" + ex.getMessage(), ex, inputMessage);\n",
      "\t\t}\n",
      "\t}\n",
      "\n",
      "\t@Override\n",
      "\tprotected void writeInternal(OAuth2AuthorizationServerMetadata authorizationServerMetadata, HttpOutputMessage outputMessage)\n",
      "\t\t\tthrows HttpMessageNotWritableException {\n",
      "\t\ttry {\n",
      "\t\t\tMap<String, Object> authorizationServerMetadataResponseParameters =\n",
      "\t\t\t\t\tthis.authorizationServerMetadataParametersConverter.convert(authorizationServerMetadata);\n",
      "\t\t\tthis.jsonMessageConverter.write(\n",
      "\t\t\t\t\tauthorizationServerMetadataResponseParameters,\n",
      "\t\t\t\t\tSTRING_OBJECT_MAP.getType(),\n",
      "\t\t\t\t\tMediaType.APPLICATION_JSON,\n",
      "\t\t\t\t\toutputMessage\n",
      "\t\t\t);\n",
      "\t\t} catch (Exception ex) {\n",
      "\t\t\tthrow new HttpMessageNotWritableException(\n",
      "\t\t\t\t\t\"An error occurred writing the OAuth 2.0 Authorization Server Metadata: \" + ex.getMessage(), ex);\n",
      "\t\t}\n",
      "\t}\n",
      "\n",
      "\t/**\n",
      "\t * Sets the {@link Converter} used for converting the OAuth 2.0 Authorization Server Metadata\n",
      "\t * parameters to an {@link OAuth2AuthorizationServerMetadata}.\n",
      "\t *\n",
      "\t * @param authorizationServerMetadataConverter the {@link Converter} used for converting to\n",
      "\t * an {@link OAuth2AuthorizationServerMetadata}.\n",
      "\t */\n",
      "\tpublic final void setAuthorizationServerMetadataConverter(Converter<Map<String, Object>, OAuth2AuthorizationServerMetadata> authorizationServerMetadataConverter) {\n",
      "\t\tAssert.notNull(authorizationServerMetadataConverter, \"authorizationServerMetadataConverter cannot be null\");\n",
      "\t\tthis.authorizationServerMetadataConverter = authorizationServerMetadataConverter;\n",
      "\t}\n",
      "\n",
      "\t/**\n",
      "\t * Sets the {@link Converter} used for converting the {@link OAuth2AuthorizationServerMetadata} to a\n",
      "\t * {@code Map} representation of the OAuth 2.0 Authorization Server Metadata.\n",
      "\t *\n",
      "\t * @param authorizationServerMetadataParametersConverter the {@link Converter} used for converting to a\n",
      "\t * {@code Map} representation of the OAuth 2.0 Authorization Server Metadata.\n",
      "\t */\n",
      "\tpublic final void setAuthorizationServerMetadataParametersConverter(Converter<OAuth2AuthorizationServerMetadata, Map<String, Object>> authorizationServerMetadataParametersConverter) {\n",
      "\t\tAssert.notNull(authorizationServerMetadataParametersConverter, \"authorizationServerMetadataParametersConverter cannot be null\");\n",
      "\t\tthis.authorizationServerMetadataParametersConverter = authorizationServerMetadataParametersConverter;\n",
      "\t}\n",
      "\n",
      "\tprivate static final class OAuth2AuthorizationServerMetadataConverter implements Converter<Map<String, Object>, OAuth2AuthorizationServerMetadata> {\n",
      "\t\tprivate static final ClaimConversionService CLAIM_CONVERSION_SERVICE = ClaimConversionService.getSharedInstance();\n",
      "\t\tprivate static final TypeDescriptor OBJECT_TYPE_DESCRIPTOR = TypeDescriptor.valueOf(Object.class);\n",
      "\t\tprivate static final TypeDescriptor STRING_TYPE_DESCRIPTOR = TypeDescriptor.valueOf(String.class);\n",
      "\t\tprivate static final TypeDescriptor URL_TYPE_DESCRIPTOR = TypeDescriptor.valueOf(URL.class);\n",
      "\t\tprivate final ClaimTypeConverter claimTypeConverter;\n",
      "\n",
      "\t\tprivate OAuth2AuthorizationServerMetadataConverter() {\n",
      "\t\t\tConverter<Object, ?> collectionStringConverter = getConverter(\n",
      "\t\t\t\t\tTypeDescriptor.collection(Collection.class, STRING_TYPE_DESCRIPTOR));\n",
      "\t\t\tConverter<Object, ?> urlConverter = getConverter(URL_TYPE_DESCRIPTOR);\n",
      "\n",
      "\t\t\tMap<String, Converter<Object, ?>> claimConverters = new HashMap<>();\n",
      "\t\t\tclaimConverters.put(OAuth2AuthorizationServerMetadataClaimNames.ISSUER, urlConverter);\n",
      "\t\t\tclaimConverters.put(OAuth2AuthorizationServerMetadataClaimNames.AUTHORIZATION_ENDPOINT, urlConverter);\n",
      "\t\t\tclaimConverters.put(OAuth2AuthorizationServerMetadataClaimNames.TOKEN_ENDPOINT, urlConverter);\n",
      "\t\t\tclaimConverters.put(OAuth2AuthorizationServerMetadataClaimNames.TOKEN_ENDPOINT_AUTH_METHODS_SUPPORTED, collectionStringConverter);\n",
      "\t\t\tclaimConverters.put(OAuth2AuthorizationServerMetadataClaimNames.JWKS_URI, urlConverter);\n",
      "\t\t\tclaimConverters.put(OAuth2AuthorizationServerMetadataClaimNames.SCOPES_SUPPORTED, collectionStringConverter);\n",
      "\t\t\tclaimConverters.put(OAuth2AuthorizationServerMetadataClaimNames.RESPONSE_TYPES_SUPPORTED, collectionStringConverter);\n",
      "\t\t\tclaimConverters.put(OAuth2AuthorizationServerMetadataClaimNames.GRANT_TYPES_SUPPORTED, collectionStringConverter);\n",
      "\t\t\tclaimConverters.put(OAuth2AuthorizationServerMetadataClaimNames.REVOCATION_ENDPOINT, urlConverter);\n",
      "\t\t\tclaimConverters.put(OAuth2AuthorizationServerMetadataClaimNames.REVOCATION_ENDPOINT_AUTH_METHODS_SUPPORTED, collectionStringConverter);\n",
      "\t\t\tclaimConverters.put(OAuth2AuthorizationServerMetadataClaimNames.INTROSPECTION_ENDPOINT, urlConverter);\n",
      "\t\t\tclaimConverters.put(OAuth2AuthorizationServerMetadataClaimNames.INTROSPECTION_ENDPOINT_AUTH_METHODS_SUPPORTED, collectionStringConverter);\n",
      "\t\t\tclaimConverters.put(OAuth2AuthorizationServerMetadataClaimNames.CODE_CHALLENGE_METHODS_SUPPORTED, collectionStringConverter);\n",
      "\t\t\tthis.claimTypeConverter = new ClaimTypeConverter(claimConverters);\n",
      "\t\t}\n",
      "\n",
      "\t\t@Override\n",
      "\t\tpublic OAuth2AuthorizationServerMetadata convert(Map<String, Object> source) {\n",
      "\t\t\tMap<String, Object> parsedClaims = this.claimTypeConverter.convert(source);\n",
      "\t\t\treturn OAuth2AuthorizationServerMetadata.withClaims(parsedClaims).build();\n",
      "\t\t}\n",
      "\n",
      "\t\tprivate static Converter<Object, ?> getConverter(TypeDescriptor targetDescriptor) {\n",
      "\t\t\treturn (source) -> CLAIM_CONVERSION_SERVICE.convert(source, OBJECT_TYPE_DESCRIPTOR, targetDescriptor);\n",
      "\t\t}\n",
      "\t}\n",
      "\n",
      "}\n",
      "\n"
     ]
    }
   ],
   "source": [
    "row = next(iter(ds_filtered))\n",
    "print(row.keys())\n",
    "print(row['content'])"
   ],
   "metadata": {
    "collapsed": false
   }
  },
  {
   "cell_type": "markdown",
   "source": [
    "### Preprocess data"
   ],
   "metadata": {
    "collapsed": false
   }
  },
  {
   "cell_type": "code",
   "execution_count": 7,
   "outputs": [],
   "source": [
    "def preprocess(row):\n",
    "    # Remove licence, imports and packages\n",
    "    preproc_row = re.split(r'import [A-Za-z.]*;', row['content'])\n",
    "\n",
    "    if len(preproc_row) >= 1:\n",
    "        content = preproc_row[len(preproc_row) - 1]\n",
    "\n",
    "        # Remove JavaDoc tags and compiler annotations\n",
    "        # content = re.sub(r'\\{?@.*', '<annotation>', content)\n",
    "\n",
    "        class_level = re.split(r'\\*/', content, 1)\n",
    "\n",
    "        if len(class_level) > 1:\n",
    "            function_level = re.split(r'/\\*\\*', class_level[1].strip()[:-1])\n",
    "        else:\n",
    "            function_level = re.split(r'/\\*\\*', class_level[0].strip()[:-1])\n",
    "\n",
    "        docstrings = []\n",
    "        codes = []\n",
    "\n",
    "        for func in function_level:\n",
    "            doc_code = func.split('*/')\n",
    "\n",
    "            if len(doc_code) <= 1:\n",
    "                continue\n",
    "\n",
    "            docstring = doc_code[0].replace('*', '').strip()\n",
    "            docstrings.append(docstring)\n",
    "\n",
    "            code = doc_code[1].strip()\n",
    "            codes.append(code)\n",
    "\n",
    "        return pd.DataFrame({\"docstring\": docstrings, \"code\": codes, 'stars': row['max_stars_count'], 'repo': row['max_stars_repo_name']})"
   ],
   "metadata": {
    "collapsed": false
   }
  },
  {
   "cell_type": "code",
   "execution_count": 8,
   "outputs": [
    {
     "name": "stdout",
     "output_type": "stream",
     "text": [
      "Sets the {@link Converter} used for converting the OAuth 2.0 Authorization Server Metadata\n",
      "\t  parameters to an {@link OAuth2AuthorizationServerMetadata}.\n",
      "\t \n",
      "\t  @param authorizationServerMetadataConverter the {@link Converter} used for converting to\n",
      "\t  an {@link OAuth2AuthorizationServerMetadata}. : public final void setAuthorizationServerMetadataConverter(Converter<Map<String, Object>, OAuth2AuthorizationServerMetadata> authorizationServerMetadataConverter) {\n",
      "\t\tAssert.notNull(authorizationServerMetadataConverter, \"authorizationServerMetadataConverter cannot be null\");\n",
      "\t\tthis.authorizationServerMetadataConverter = authorizationServerMetadataConverter;\n",
      "\t}\n"
     ]
    }
   ],
   "source": [
    "test = preprocess(row)\n",
    "\n",
    "if test.size != 0:\n",
    "    print(test['docstring'][0], \":\", test['code'][0])\n",
    "else:\n",
    "    print(\"No Docstring/Code pairs\")"
   ],
   "metadata": {
    "collapsed": false
   }
  },
  {
   "cell_type": "markdown",
   "source": [
    "### Process Data"
   ],
   "metadata": {
    "collapsed": false
   }
  },
  {
   "cell_type": "code",
   "execution_count": 9,
   "outputs": [],
   "source": [
    "# Used to check of docstring is written in a different language other than English.\n",
    "def is_ascii(s):\n",
    "    return all(ord(c) < 128 for c in s)"
   ],
   "metadata": {
    "collapsed": false
   }
  },
  {
   "cell_type": "code",
   "execution_count": 10,
   "outputs": [
    {
     "data": {
      "text/plain": "                                           docstring  \\\n0  Sets the {@link Converter} used for converting...   \n1  Sets the {@link Converter} used for converting...   \n2  Returns the ClassName object referenced by a c...   \n3  Create a ClassName object via its internal typ...   \n4  Returns the type string of this class, as stor...   \n\n                                                code  stars  \\\n0  public final void setAuthorizationServerMetada...   2210   \n1  public final void setAuthorizationServerMetada...   2210   \n2  public static ClassName getClassName(String cl...   1056   \n3  private ClassName(String type) {\\n        this...   1056   \n4  public String getType() {\\n        return type...   1056   \n\n                                        repo  \n0  chegekinuthia/spring-authorization-server  \n1  chegekinuthia/spring-authorization-server  \n2                            timfel/netbeans  \n3                            timfel/netbeans  \n4                            timfel/netbeans  ",
      "text/html": "<div>\n<style scoped>\n    .dataframe tbody tr th:only-of-type {\n        vertical-align: middle;\n    }\n\n    .dataframe tbody tr th {\n        vertical-align: top;\n    }\n\n    .dataframe thead th {\n        text-align: right;\n    }\n</style>\n<table border=\"1\" class=\"dataframe\">\n  <thead>\n    <tr style=\"text-align: right;\">\n      <th></th>\n      <th>docstring</th>\n      <th>code</th>\n      <th>stars</th>\n      <th>repo</th>\n    </tr>\n  </thead>\n  <tbody>\n    <tr>\n      <th>0</th>\n      <td>Sets the {@link Converter} used for converting...</td>\n      <td>public final void setAuthorizationServerMetada...</td>\n      <td>2210</td>\n      <td>chegekinuthia/spring-authorization-server</td>\n    </tr>\n    <tr>\n      <th>1</th>\n      <td>Sets the {@link Converter} used for converting...</td>\n      <td>public final void setAuthorizationServerMetada...</td>\n      <td>2210</td>\n      <td>chegekinuthia/spring-authorization-server</td>\n    </tr>\n    <tr>\n      <th>2</th>\n      <td>Returns the ClassName object referenced by a c...</td>\n      <td>public static ClassName getClassName(String cl...</td>\n      <td>1056</td>\n      <td>timfel/netbeans</td>\n    </tr>\n    <tr>\n      <th>3</th>\n      <td>Create a ClassName object via its internal typ...</td>\n      <td>private ClassName(String type) {\\n        this...</td>\n      <td>1056</td>\n      <td>timfel/netbeans</td>\n    </tr>\n    <tr>\n      <th>4</th>\n      <td>Returns the type string of this class, as stor...</td>\n      <td>public String getType() {\\n        return type...</td>\n      <td>1056</td>\n      <td>timfel/netbeans</td>\n    </tr>\n  </tbody>\n</table>\n</div>"
     },
     "execution_count": 10,
     "metadata": {},
     "output_type": "execute_result"
    }
   ],
   "source": [
    "NUMBER_OF_CLASSES = 100\n",
    "\n",
    "df = pd.DataFrame()\n",
    "\n",
    "for i, row in enumerate(iter(ds_filtered)):\n",
    "    if not is_ascii(row['content']):\n",
    "        continue\n",
    "\n",
    "    proc_df = preprocess(row)\n",
    "    df = pd.concat([df, proc_df], ignore_index=True)\n",
    "\n",
    "    if i == NUMBER_OF_CLASSES:\n",
    "        break\n",
    "\n",
    "df.head()"
   ],
   "metadata": {
    "collapsed": false
   }
  },
  {
   "cell_type": "code",
   "execution_count": 11,
   "outputs": [],
   "source": [
    "df.to_csv('data/processed.csv')"
   ],
   "metadata": {
    "collapsed": false
   }
  },
  {
   "cell_type": "markdown",
   "source": [
    "### Calculate cosine sim"
   ],
   "metadata": {
    "collapsed": false
   }
  },
  {
   "cell_type": "code",
   "execution_count": 12,
   "outputs": [],
   "source": [
    "MAX_TENSOR_SIZE = 514\n",
    "\n",
    "def get_average_embeddings(natural_language, code, tokenizer, model):\n",
    "    nl_tokens = tokenizer.tokenize(natural_language)\n",
    "    code_tokens = tokenizer.tokenize(code)\n",
    "\n",
    "    if len(nl_tokens) > MAX_TENSOR_SIZE or len(code_tokens) > MAX_TENSOR_SIZE:\n",
    "        return None, None\n",
    "\n",
    "    nl_tokens_ids = tokenizer.convert_tokens_to_ids(nl_tokens)\n",
    "    code_token_ids = tokenizer.convert_tokens_to_ids(code_tokens)\n",
    "\n",
    "    nl_embeddings = model(torch.tensor(nl_tokens_ids)[None, :])[0]\n",
    "    code_embeddings = model(torch.tensor(code_token_ids)[None, :])[0]\n",
    "\n",
    "\n",
    "    if nl_embeddings.size()[1] < code_embeddings.size()[1]:\n",
    "        nl_embeddings = F.pad(nl_embeddings, (0, 0, code_embeddings.size()[1] - nl_embeddings.size()[1], 0))\n",
    "    elif code_embeddings.size()[1] < nl_embeddings.size()[1]:\n",
    "        code_embeddings = F.pad(code_embeddings, (0, 0, nl_embeddings.size()[1] - code_embeddings.size()[1], 0))\n",
    "\n",
    "\n",
    "    nl_agg = torch.mean(nl_embeddings, 2)\n",
    "    code_agg = torch.mean(code_embeddings, 2)\n",
    "\n",
    "    return nl_agg, code_agg"
   ],
   "metadata": {
    "collapsed": false
   }
  },
  {
   "cell_type": "code",
   "execution_count": 13,
   "outputs": [],
   "source": [
    "def get_cosine_sim(natural_language, code, tokenizer, model):\n",
    "\n",
    "    nl_agg, code_agg = get_average_embeddings(natural_language, code, tokenizer, model)\n",
    "\n",
    "    if nl_agg is None or code_agg is None:\n",
    "        return None\n",
    "\n",
    "    cos = nn.CosineSimilarity(dim=1)\n",
    "\n",
    "    return cos(nl_agg, code_agg).item()"
   ],
   "metadata": {
    "collapsed": false
   }
  },
  {
   "cell_type": "markdown",
   "source": [
    "#### Load Model"
   ],
   "metadata": {
    "collapsed": false
   }
  },
  {
   "cell_type": "code",
   "execution_count": 14,
   "outputs": [
    {
     "name": "stdout",
     "output_type": "stream",
     "text": [
      "\n"
     ]
    }
   ],
   "source": [
    "device = torch.device(\"cuda\" if torch.cuda.is_available() else \"cpu\")\n",
    "bert_tokenizer = RobertaTokenizer.from_pretrained(\"microsoft/codebert-base\")\n",
    "bert_model = RobertaModel.from_pretrained(\"microsoft/codebert-base\")\n",
    "bert_model.to(device)\n",
    "\n",
    "print()"
   ],
   "metadata": {
    "collapsed": false
   }
  },
  {
   "cell_type": "code",
   "execution_count": 15,
   "outputs": [
    {
     "data": {
      "text/plain": "                                           docstring  \\\n0  Sets the {@link Converter} used for converting...   \n1  Sets the {@link Converter} used for converting...   \n2  Returns the ClassName object referenced by a c...   \n3  Create a ClassName object via its internal typ...   \n4  Returns the type string of this class, as stor...   \n\n                                                code  stars  \\\n0  public final void setAuthorizationServerMetada...   2210   \n1  public final void setAuthorizationServerMetada...   2210   \n2  public static ClassName getClassName(String cl...   1056   \n3  private ClassName(String type) {\\n        this...   1056   \n4  public String getType() {\\n        return type...   1056   \n\n                                        repo       sim  \n0  chegekinuthia/spring-authorization-server  0.912524  \n1  chegekinuthia/spring-authorization-server       NaN  \n2                            timfel/netbeans       NaN  \n3                            timfel/netbeans  0.703959  \n4                            timfel/netbeans  0.569791  ",
      "text/html": "<div>\n<style scoped>\n    .dataframe tbody tr th:only-of-type {\n        vertical-align: middle;\n    }\n\n    .dataframe tbody tr th {\n        vertical-align: top;\n    }\n\n    .dataframe thead th {\n        text-align: right;\n    }\n</style>\n<table border=\"1\" class=\"dataframe\">\n  <thead>\n    <tr style=\"text-align: right;\">\n      <th></th>\n      <th>docstring</th>\n      <th>code</th>\n      <th>stars</th>\n      <th>repo</th>\n      <th>sim</th>\n    </tr>\n  </thead>\n  <tbody>\n    <tr>\n      <th>0</th>\n      <td>Sets the {@link Converter} used for converting...</td>\n      <td>public final void setAuthorizationServerMetada...</td>\n      <td>2210</td>\n      <td>chegekinuthia/spring-authorization-server</td>\n      <td>0.912524</td>\n    </tr>\n    <tr>\n      <th>1</th>\n      <td>Sets the {@link Converter} used for converting...</td>\n      <td>public final void setAuthorizationServerMetada...</td>\n      <td>2210</td>\n      <td>chegekinuthia/spring-authorization-server</td>\n      <td>NaN</td>\n    </tr>\n    <tr>\n      <th>2</th>\n      <td>Returns the ClassName object referenced by a c...</td>\n      <td>public static ClassName getClassName(String cl...</td>\n      <td>1056</td>\n      <td>timfel/netbeans</td>\n      <td>NaN</td>\n    </tr>\n    <tr>\n      <th>3</th>\n      <td>Create a ClassName object via its internal typ...</td>\n      <td>private ClassName(String type) {\\n        this...</td>\n      <td>1056</td>\n      <td>timfel/netbeans</td>\n      <td>0.703959</td>\n    </tr>\n    <tr>\n      <th>4</th>\n      <td>Returns the type string of this class, as stor...</td>\n      <td>public String getType() {\\n        return type...</td>\n      <td>1056</td>\n      <td>timfel/netbeans</td>\n      <td>0.569791</td>\n    </tr>\n  </tbody>\n</table>\n</div>"
     },
     "execution_count": 15,
     "metadata": {},
     "output_type": "execute_result"
    }
   ],
   "source": [
    "results_df = df.copy(deep=True)\n",
    "\n",
    "results_df['sim'] = df.apply(lambda x: get_cosine_sim(x['docstring'], x['code'], tokenizer=bert_tokenizer, model=bert_model), axis=1)\n",
    "results_df.head()"
   ],
   "metadata": {
    "collapsed": false
   }
  },
  {
   "cell_type": "markdown",
   "source": [
    "### Analysis on data"
   ],
   "metadata": {
    "collapsed": false
   }
  },
  {
   "cell_type": "code",
   "execution_count": 18,
   "outputs": [
    {
     "name": "stdout",
     "output_type": "stream",
     "text": [
      "Total number of docstring/code pairs 1210\n",
      "Number of failed embeddings:  31\n",
      "Average docstring length:  145.3305785123967\n",
      "Average code length: 766.5702479338843\n",
      "Average sim score: 0.6756840025856031\n",
      "Average number of max stars 3879.8429752066118\n"
     ]
    }
   ],
   "source": [
    "print(\"Total number of docstring/code pairs\", results_df.size)\n",
    "print(\"Number of failed embeddings: \", results_df.sim.isna().sum())\n",
    "print(\"Average docstring length: \", results_df.docstring.apply(len).mean())\n",
    "print(\"Average code length:\", results_df.code.apply(len).mean())\n",
    "print(\"Average sim score:\", results_df.sim.mean())\n",
    "print(\"Average number of max stars\", results_df.stars.mean())"
   ],
   "metadata": {
    "collapsed": false
   }
  },
  {
   "cell_type": "code",
   "execution_count": 17,
   "outputs": [],
   "source": [
    "results_df.loc[results_df.sim.notnull()].reset_index(drop=True).to_csv('data/sim.csv')"
   ],
   "metadata": {
    "collapsed": false
   }
  }
 ],
 "metadata": {
  "kernelspec": {
   "display_name": "Python 3",
   "language": "python",
   "name": "python3"
  },
  "language_info": {
   "codemirror_mode": {
    "name": "ipython",
    "version": 2
   },
   "file_extension": ".py",
   "mimetype": "text/x-python",
   "name": "python",
   "nbconvert_exporter": "python",
   "pygments_lexer": "ipython2",
   "version": "2.7.6"
  }
 },
 "nbformat": 4,
 "nbformat_minor": 0
}
