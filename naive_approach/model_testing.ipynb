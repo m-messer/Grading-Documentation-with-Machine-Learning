{
 "cells": [
  {
   "cell_type": "code",
   "execution_count": 1,
   "metadata": {
    "collapsed": true
   },
   "outputs": [],
   "source": [
    "import pandas as pd\n",
    "import torch\n",
    "from torch.utils.data import Dataset, DataLoader\n",
    "from sklearn.metrics import confusion_matrix, classification_report\n",
    "import seaborn as sns\n",
    "from torch import nn"
   ]
  },
  {
   "cell_type": "markdown",
   "source": [
    "# Test Model\n",
    "\n",
    "### Get Test Data and Model"
   ],
   "metadata": {
    "collapsed": false
   }
  },
  {
   "cell_type": "code",
   "execution_count": 2,
   "outputs": [],
   "source": [
    "# MAKE SURE THESE ARE UP TO DATE WITH THE CLASS DEFINED IN model_training.ipynb\n",
    "\n",
    "class RelevanceDataset(Dataset):\n",
    "    def __init__(self, X_data, y_data):\n",
    "        self.X_data = torch.tensor(X_data.reset_index(drop=True).embeddings)\n",
    "        self.y_data = torch.tensor(y_data.reset_index(drop=True).relevance).long()\n",
    "\n",
    "    def __getitem__(self, item):\n",
    "        return self.X_data[item], self.y_data[item]\n",
    "\n",
    "    def __len__(self):\n",
    "        return len(self.X_data)\n",
    "\n",
    "\n",
    "class Classifier(nn.Module):\n",
    "    def __init__(self, num_features, hidden_layer_size, kernel_size, pool_size, num_class):\n",
    "        super(Classifier, self).__init__()\n",
    "\n",
    "        self.conv1 = nn.Conv1d(num_features, hidden_layer_size, kernel_size)\n",
    "        self.conv2 = nn.Conv1d(hidden_layer_size, hidden_layer_size, kernel_size)\n",
    "        self.fc1 = nn.Linear(48384, 48384)\n",
    "        self.fc_out = nn.Linear(48384, num_class)\n",
    "\n",
    "        self.pool = nn.MaxPool1d(pool_size)\n",
    "        self.flatten = nn.Flatten()\n",
    "        self.relu = nn.ReLU()\n",
    "        self.dropout = nn.Dropout()\n",
    "\n",
    "    def forward(self, x):\n",
    "        x = self.conv1(x)\n",
    "        x = self.pool(x)\n",
    "\n",
    "        x = self.conv2(x)\n",
    "        x = self.pool(x)\n",
    "\n",
    "        x = self.flatten(x)\n",
    "\n",
    "        x = self.fc1(x)\n",
    "        x = self.relu(x)\n",
    "        x = self.dropout(x)\n",
    "\n",
    "        x = self.fc_out(x)\n",
    "\n",
    "        return x\n",
    "\n",
    "EPOCHS = 150\n",
    "BATCH_SIZE = 16\n",
    "LEARNING_RATE = 0.0007\n",
    "\n",
    "KERNEL_SIZE = 5\n",
    "POOL_SIZE = 2\n",
    "HIDDEN_LAYER_SIZE = 256\n",
    "\n",
    "NUM_FEATURES = 400\n",
    "NUM_CLASSES = 4"
   ],
   "metadata": {
    "collapsed": false
   }
  },
  {
   "cell_type": "code",
   "execution_count": 3,
   "outputs": [
    {
     "data": {
      "text/plain": "<All keys matched successfully>"
     },
     "execution_count": 3,
     "metadata": {},
     "output_type": "execute_result"
    }
   ],
   "source": [
    "test_dataset = torch.load('data/test_dataset_2023-09-20 02:18:07.515410.pt')\n",
    "test_loader = DataLoader(dataset=test_dataset, batch_size=1)\n",
    "\n",
    "model = Classifier(num_features=NUM_FEATURES, hidden_layer_size=HIDDEN_LAYER_SIZE, kernel_size=KERNEL_SIZE, num_class=NUM_CLASSES, pool_size=POOL_SIZE)\n",
    "model.load_state_dict(torch.load('models/model_v1_2023-09-20 02:18:00.950980.pt'))"
   ],
   "metadata": {
    "collapsed": false
   }
  },
  {
   "cell_type": "markdown",
   "source": [
    "#### Conduct Test"
   ],
   "metadata": {
    "collapsed": false
   }
  },
  {
   "cell_type": "code",
   "execution_count": 4,
   "outputs": [
    {
     "name": "stdout",
     "output_type": "stream",
     "text": [
      "cpu\n"
     ]
    }
   ],
   "source": [
    "device = torch.device(\"cuda:0\" if torch.cuda.is_available() else \"cpu\")\n",
    "print(device)"
   ],
   "metadata": {
    "collapsed": false
   }
  },
  {
   "cell_type": "code",
   "execution_count": 5,
   "outputs": [],
   "source": [
    "y_pred_list = []\n",
    "\n",
    "with torch.no_grad():\n",
    "    model.eval()\n",
    "\n",
    "    for X_batch, _, in test_loader:\n",
    "        X_batch = X_batch.to(device)\n",
    "\n",
    "        y_test_pred = model(X_batch)\n",
    "\n",
    "        _, y_pred_tags = torch.max(y_test_pred, dim=1)\n",
    "        y_pred_list.append((y_pred_tags.cpu().numpy()))\n",
    "\n",
    "y_pred_list = [a.squeeze().tolist() for a in y_pred_list]"
   ],
   "metadata": {
    "collapsed": false
   }
  },
  {
   "cell_type": "markdown",
   "source": [
    "#### Confusion Matrix and Classifcation Report"
   ],
   "metadata": {
    "collapsed": false
   }
  },
  {
   "cell_type": "code",
   "execution_count": 6,
   "outputs": [
    {
     "data": {
      "text/plain": "[0,\n 1,\n 2,\n 3,\n 3,\n 1,\n 0,\n 0,\n 0,\n 0,\n 0,\n 0,\n 2,\n 3,\n 0,\n 3,\n 0,\n 0,\n 0,\n 2,\n 0,\n 3,\n 0,\n 0,\n 0,\n 0,\n 1,\n 3,\n 1,\n 0,\n 1,\n 2,\n 3,\n 3,\n 1,\n 0,\n 0,\n 0,\n 1,\n 2,\n 3,\n 1,\n 1,\n 2,\n 1,\n 0,\n 0,\n 3,\n 2,\n 1,\n 1,\n 0,\n 0,\n 2,\n 1,\n 0,\n 1,\n 3,\n 3,\n 3,\n 0,\n 2,\n 0]"
     },
     "execution_count": 6,
     "metadata": {},
     "output_type": "execute_result"
    }
   ],
   "source": [
    "y_test = [d[1].item() for d in test_dataset]\n",
    "y_test"
   ],
   "metadata": {
    "collapsed": false
   }
  },
  {
   "cell_type": "code",
   "execution_count": 10,
   "outputs": [
    {
     "data": {
      "text/plain": "[Text(0.5, 23.52222222222222, 'y Test'),\n Text(50.722222222222214, 0.5, 'y Pred')]"
     },
     "execution_count": 10,
     "metadata": {},
     "output_type": "execute_result"
    },
    {
     "data": {
      "text/plain": "<Figure size 640x480 with 2 Axes>",
      "image/png": "[encoded data removed]"
     },
     "metadata": {},
     "output_type": "display_data"
    }
   ],
   "source": [
    "0Rcm_df = pd.DataFrame(confusion_matrix(y_test, y_pred_list))\n",
    "\n",
    "ax = sns.heatmap(cm_df, annot=True)\n",
    "ax.set(xlabel='y Test', ylabel='y Pred')"
   ],
   "metadata": {
    "collapsed": false
   }
  },
  {
   "cell_type": "code",
   "execution_count": 8,
   "outputs": [
    {
     "name": "stdout",
     "output_type": "stream",
     "text": [
      "              precision    recall  f1-score   support\n",
      "\n",
      "           0       0.43      0.85      0.57        27\n",
      "           1       0.40      0.14      0.21        14\n",
      "           2       0.50      0.11      0.18         9\n",
      "           3       0.00      0.00      0.00        13\n",
      "\n",
      "    accuracy                           0.41        63\n",
      "   macro avg       0.33      0.28      0.24        63\n",
      "weighted avg       0.34      0.41      0.32        63\n",
      "\n"
     ]
    }
   ],
   "source": [
    "print(classification_report(y_test, y_pred_list, zero_division=0))"
   ],
   "metadata": {
    "collapsed": false
   }
  }
 ],
 "metadata": {
  "kernelspec": {
   "display_name": "Python 3",
   "language": "python",
   "name": "python3"
  },
  "language_info": {
   "codemirror_mode": {
    "name": "ipython",
    "version": 2
   },
   "file_extension": ".py",
   "mimetype": "text/x-python",
   "name": "python",
   "nbconvert_exporter": "python",
   "pygments_lexer": "ipython2",
   "version": "2.7.6"
  }
 },
 "nbformat": 4,
 "nbformat_minor": 0
}
