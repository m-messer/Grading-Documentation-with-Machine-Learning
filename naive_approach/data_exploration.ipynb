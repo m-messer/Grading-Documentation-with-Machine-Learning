{
 "cells": [
  {
   "cell_type": "code",
   "execution_count": 3,
   "metadata": {
    "collapsed": true
   },
   "outputs": [],
   "source": [
    "import pandas as pd\n",
    "import seaborn as sns"
   ]
  },
  {
   "cell_type": "markdown",
   "source": [
    "# Explore the processed  data\n",
    "### Load Data"
   ],
   "metadata": {
    "collapsed": false
   }
  },
  {
   "cell_type": "code",
   "execution_count": 5,
   "outputs": [
    {
     "data": {
      "text/plain": "                                           docstring  \\\n0  Attempt to convert the specified value to epoc...   \n1  Generate a server side cookie given the cookie...   \n2  Generate httponly cookie from HS2 cookie\\n@par...   \n3  Copies all files from source to target and set...   \n4          Saves the configuration info to the disk.   \n\n                                                code  relevance  \\\n0  private static String coerceToEpoch(String s) ...          2   \n1  private Cookie createCookie(String str) throws...          2   \n2  private static String getHttpOnlyCookieHeader(...          2   \n3  public static void copy(Path sourcePath, Path ...          3   \n4  public synchronized void save() {\\n        if ...          3   \n\n                          repo  \\\n0  spring-projects/spring-boot   \n1                 apache/spark   \n2                 apache/spark   \n3                 apache/flink   \n4            jenkinsci/jenkins   \n\n                                            func_url  \n0  https://github.com/spring-projects/spring-boot...  \n1  https://github.com/apache/spark/blob/25ee0474f...  \n2  https://github.com/apache/spark/blob/25ee0474f...  \n3  https://github.com/apache/flink/blob/b62db93bf...  \n4  https://github.com/jenkinsci/jenkins/blob/44c4...  ",
      "text/html": "<div>\n<style scoped>\n    .dataframe tbody tr th:only-of-type {\n        vertical-align: middle;\n    }\n\n    .dataframe tbody tr th {\n        vertical-align: top;\n    }\n\n    .dataframe thead th {\n        text-align: right;\n    }\n</style>\n<table border=\"1\" class=\"dataframe\">\n  <thead>\n    <tr style=\"text-align: right;\">\n      <th></th>\n      <th>docstring</th>\n      <th>code</th>\n      <th>relevance</th>\n      <th>repo</th>\n      <th>func_url</th>\n    </tr>\n  </thead>\n  <tbody>\n    <tr>\n      <th>0</th>\n      <td>Attempt to convert the specified value to epoc...</td>\n      <td>private static String coerceToEpoch(String s) ...</td>\n      <td>2</td>\n      <td>spring-projects/spring-boot</td>\n      <td>https://github.com/spring-projects/spring-boot...</td>\n    </tr>\n    <tr>\n      <th>1</th>\n      <td>Generate a server side cookie given the cookie...</td>\n      <td>private Cookie createCookie(String str) throws...</td>\n      <td>2</td>\n      <td>apache/spark</td>\n      <td>https://github.com/apache/spark/blob/25ee0474f...</td>\n    </tr>\n    <tr>\n      <th>2</th>\n      <td>Generate httponly cookie from HS2 cookie\\n@par...</td>\n      <td>private static String getHttpOnlyCookieHeader(...</td>\n      <td>2</td>\n      <td>apache/spark</td>\n      <td>https://github.com/apache/spark/blob/25ee0474f...</td>\n    </tr>\n    <tr>\n      <th>3</th>\n      <td>Copies all files from source to target and set...</td>\n      <td>public static void copy(Path sourcePath, Path ...</td>\n      <td>3</td>\n      <td>apache/flink</td>\n      <td>https://github.com/apache/flink/blob/b62db93bf...</td>\n    </tr>\n    <tr>\n      <th>4</th>\n      <td>Saves the configuration info to the disk.</td>\n      <td>public synchronized void save() {\\n        if ...</td>\n      <td>3</td>\n      <td>jenkinsci/jenkins</td>\n      <td>https://github.com/jenkinsci/jenkins/blob/44c4...</td>\n    </tr>\n  </tbody>\n</table>\n</div>"
     },
     "execution_count": 5,
     "metadata": {},
     "output_type": "execute_result"
    }
   ],
   "source": [
    "df = pd.read_csv('data/processed.csv', index_col=0)\n",
    "df.head()"
   ],
   "metadata": {
    "collapsed": false
   }
  },
  {
   "cell_type": "code",
   "execution_count": 14,
   "outputs": [
    {
     "data": {
      "text/plain": "<Axes: xlabel='relevance', ylabel='count'>"
     },
     "execution_count": 14,
     "metadata": {},
     "output_type": "execute_result"
    },
    {
     "data": {
      "text/plain": "<Figure size 640x480 with 1 Axes>",
      "image/png": "[encoded data removed]"
     },
     "metadata": {},
     "output_type": "display_data"
    }
   ],
   "source": [
    "sns.barplot(df.relevance.value_counts().reset_index().sort_values('relevance'), x='relevance', y='count')"
   ],
   "metadata": {
    "collapsed": false
   }
  }
 ],
 "metadata": {
  "kernelspec": {
   "display_name": "Python 3",
   "language": "python",
   "name": "python3"
  },
  "language_info": {
   "codemirror_mode": {
    "name": "ipython",
    "version": 2
   },
   "file_extension": ".py",
   "mimetype": "text/x-python",
   "name": "python",
   "nbconvert_exporter": "python",
   "pygments_lexer": "ipython2",
   "version": "2.7.6"
  }
 },
 "nbformat": 4,
 "nbformat_minor": 0
}
