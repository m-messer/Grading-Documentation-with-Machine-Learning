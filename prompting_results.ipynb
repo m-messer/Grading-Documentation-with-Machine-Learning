{
 "cells": [
  {
   "cell_type": "code",
   "execution_count": 1,
   "metadata": {
    "collapsed": true
   },
   "outputs": [],
   "source": [
    "import pandas as pd\n",
    "from training.metrics import compute_metrics_cot\n",
    "from data_processing.data_processor import get_label_info"
   ]
  },
  {
   "cell_type": "markdown",
   "source": [
    "# Chain of Thought Analysis\n",
    "#### Load data and calculate metrics"
   ],
   "metadata": {
    "collapsed": false
   }
  },
  {
   "cell_type": "code",
   "execution_count": 2,
   "outputs": [
    {
     "data": {
      "text/plain": "              time  epochs  number_of_examples  \\\n0  20240201-193752      50                   3   \n1  20240201-193752      50                   3   \n2  20240201-193752      50                   3   \n3  20240201-193752      50                   3   \n4  20240201-193752      50                   3   \n\n                                            messages  \\\n0  [{'role': 'system', 'content': 'You will be pr...   \n1  [{'role': 'system', 'content': 'You will be pr...   \n2  [{'role': 'system', 'content': 'You will be pr...   \n3  [{'role': 'system', 'content': 'You will be pr...   \n4  [{'role': 'system', 'content': 'You will be pr...   \n\n                                            response       label  \n0                                 Partially relevant    relevant  \n1             The description is partially relevant.  irrelevant  \n2  Partially relevant. The code snippet shows a m...  irrelevant  \n3  Partially relevant. The source code appears to...  irrelevant  \n4  Partially relevant. The source code does invol...  irrelevant  ",
      "text/html": "<div>\n<style scoped>\n    .dataframe tbody tr th:only-of-type {\n        vertical-align: middle;\n    }\n\n    .dataframe tbody tr th {\n        vertical-align: top;\n    }\n\n    .dataframe thead th {\n        text-align: right;\n    }\n</style>\n<table border=\"1\" class=\"dataframe\">\n  <thead>\n    <tr style=\"text-align: right;\">\n      <th></th>\n      <th>time</th>\n      <th>epochs</th>\n      <th>number_of_examples</th>\n      <th>messages</th>\n      <th>response</th>\n      <th>label</th>\n    </tr>\n  </thead>\n  <tbody>\n    <tr>\n      <th>0</th>\n      <td>20240201-193752</td>\n      <td>50</td>\n      <td>3</td>\n      <td>[{'role': 'system', 'content': 'You will be pr...</td>\n      <td>Partially relevant</td>\n      <td>relevant</td>\n    </tr>\n    <tr>\n      <th>1</th>\n      <td>20240201-193752</td>\n      <td>50</td>\n      <td>3</td>\n      <td>[{'role': 'system', 'content': 'You will be pr...</td>\n      <td>The description is partially relevant.</td>\n      <td>irrelevant</td>\n    </tr>\n    <tr>\n      <th>2</th>\n      <td>20240201-193752</td>\n      <td>50</td>\n      <td>3</td>\n      <td>[{'role': 'system', 'content': 'You will be pr...</td>\n      <td>Partially relevant. The code snippet shows a m...</td>\n      <td>irrelevant</td>\n    </tr>\n    <tr>\n      <th>3</th>\n      <td>20240201-193752</td>\n      <td>50</td>\n      <td>3</td>\n      <td>[{'role': 'system', 'content': 'You will be pr...</td>\n      <td>Partially relevant. The source code appears to...</td>\n      <td>irrelevant</td>\n    </tr>\n    <tr>\n      <th>4</th>\n      <td>20240201-193752</td>\n      <td>50</td>\n      <td>3</td>\n      <td>[{'role': 'system', 'content': 'You will be pr...</td>\n      <td>Partially relevant. The source code does invol...</td>\n      <td>irrelevant</td>\n    </tr>\n  </tbody>\n</table>\n</div>"
     },
     "execution_count": 2,
     "metadata": {},
     "output_type": "execute_result"
    }
   ],
   "source": [
    "df = pd.read_csv('data/cot_results.csv')\n",
    "df.head()"
   ],
   "metadata": {
    "collapsed": false
   }
  },
  {
   "cell_type": "code",
   "execution_count": 3,
   "outputs": [
    {
     "name": "stdout",
     "output_type": "stream",
     "text": [
      "MESSAGE TO LONG COUNT:  200\n"
     ]
    }
   ],
   "source": [
    "print('MESSAGE TO LONG COUNT: ',  df.response.isna().count())\n",
    "df = df.dropna()"
   ],
   "metadata": {
    "collapsed": false
   }
  },
  {
   "cell_type": "code",
   "execution_count": 23,
   "outputs": [
    {
     "data": {
      "text/plain": "              time  epochs  number_of_examples  \\\n0  20240201-193752      50                   3   \n1  20240201-193752      50                   3   \n2  20240201-193752      50                   3   \n3  20240201-193752      50                   3   \n4  20240201-193752      50                   3   \n\n                                            messages  \\\n0  [{'role': 'system', 'content': 'You will be pr...   \n1  [{'role': 'system', 'content': 'You will be pr...   \n2  [{'role': 'system', 'content': 'You will be pr...   \n3  [{'role': 'system', 'content': 'You will be pr...   \n4  [{'role': 'system', 'content': 'You will be pr...   \n\n                                            response       label  response_no  \\\n0                                 Partially relevant    relevant            2   \n1             The description is partially relevant.  irrelevant            2   \n2  Partially relevant. The code snippet shows a m...  irrelevant            2   \n3  Partially relevant. The source code appears to...  irrelevant            2   \n4  Partially relevant. The source code does invol...  irrelevant            2   \n\n   label_no  \n0         3  \n1         0  \n2         0  \n3         0  \n4         0  ",
      "text/html": "<div>\n<style scoped>\n    .dataframe tbody tr th:only-of-type {\n        vertical-align: middle;\n    }\n\n    .dataframe tbody tr th {\n        vertical-align: top;\n    }\n\n    .dataframe thead th {\n        text-align: right;\n    }\n</style>\n<table border=\"1\" class=\"dataframe\">\n  <thead>\n    <tr style=\"text-align: right;\">\n      <th></th>\n      <th>time</th>\n      <th>epochs</th>\n      <th>number_of_examples</th>\n      <th>messages</th>\n      <th>response</th>\n      <th>label</th>\n      <th>response_no</th>\n      <th>label_no</th>\n    </tr>\n  </thead>\n  <tbody>\n    <tr>\n      <th>0</th>\n      <td>20240201-193752</td>\n      <td>50</td>\n      <td>3</td>\n      <td>[{'role': 'system', 'content': 'You will be pr...</td>\n      <td>Partially relevant</td>\n      <td>relevant</td>\n      <td>2</td>\n      <td>3</td>\n    </tr>\n    <tr>\n      <th>1</th>\n      <td>20240201-193752</td>\n      <td>50</td>\n      <td>3</td>\n      <td>[{'role': 'system', 'content': 'You will be pr...</td>\n      <td>The description is partially relevant.</td>\n      <td>irrelevant</td>\n      <td>2</td>\n      <td>0</td>\n    </tr>\n    <tr>\n      <th>2</th>\n      <td>20240201-193752</td>\n      <td>50</td>\n      <td>3</td>\n      <td>[{'role': 'system', 'content': 'You will be pr...</td>\n      <td>Partially relevant. The code snippet shows a m...</td>\n      <td>irrelevant</td>\n      <td>2</td>\n      <td>0</td>\n    </tr>\n    <tr>\n      <th>3</th>\n      <td>20240201-193752</td>\n      <td>50</td>\n      <td>3</td>\n      <td>[{'role': 'system', 'content': 'You will be pr...</td>\n      <td>Partially relevant. The source code appears to...</td>\n      <td>irrelevant</td>\n      <td>2</td>\n      <td>0</td>\n    </tr>\n    <tr>\n      <th>4</th>\n      <td>20240201-193752</td>\n      <td>50</td>\n      <td>3</td>\n      <td>[{'role': 'system', 'content': 'You will be pr...</td>\n      <td>Partially relevant. The source code does invol...</td>\n      <td>irrelevant</td>\n      <td>2</td>\n      <td>0</td>\n    </tr>\n  </tbody>\n</table>\n</div>"
     },
     "execution_count": 23,
     "metadata": {},
     "output_type": "execute_result"
    }
   ],
   "source": [
    "_, labels2ids, _ = get_label_info(binary=False)\n",
    "\n",
    "def convert_to_ids(text):\n",
    "    if 'partially irrelevant' in text.lower():\n",
    "        return labels2ids['partially irrelevant']\n",
    "    elif 'partially relevant' in text.lower():\n",
    "        return labels2ids['partially relevant']\n",
    "    elif 'irrelevant' in text.lower():\n",
    "        return labels2ids['irrelevant']\n",
    "    else:\n",
    "        return labels2ids['relevant']\n",
    "\n",
    "df['response_no'] = df['response'].map(convert_to_ids)\n",
    "df['label_no'] = df['label'].map(convert_to_ids)\n",
    "df.head()"
   ],
   "metadata": {
    "collapsed": false
   }
  },
  {
   "cell_type": "code",
   "execution_count": 24,
   "outputs": [],
   "source": [
    "df_e3 = df[df['number_of_examples'] == 3]\n",
    "df_e5 = df[df['number_of_examples'] == 5]\n",
    "df_e10 = df[df['number_of_examples'] == 10]\n",
    "df_e20 = df[df['number_of_examples'] == 20]"
   ],
   "metadata": {
    "collapsed": false
   }
  },
  {
   "cell_type": "code",
   "execution_count": 25,
   "outputs": [
    {
     "name": "stdout",
     "output_type": "stream",
     "text": [
      "RESULTS: Number of Examples: 3\n"
     ]
    },
    {
     "data": {
      "text/plain": "{'accuracy': 0.24,\n 'f1_macro': 0.1783088235294118,\n 'f1_micro': 0.24,\n 'f1_weighted': 0.19691176470588234,\n 'recall_macro': 0.2167748917748918,\n 'recall_micro': 0.24,\n 'recall_weighted': 0.24,\n 'precision_macro': 0.3608108108108108,\n 'precision_micro': 0.24,\n 'precision_weighted': 0.4121081081081081}"
     },
     "execution_count": 25,
     "metadata": {},
     "output_type": "execute_result"
    }
   ],
   "source": [
    "print(\"RESULTS: Number of Examples: 3\")\n",
    "compute_metrics_cot(list(df_e3['response_no']), list(df_e3['label_no']))"
   ],
   "metadata": {
    "collapsed": false
   }
  },
  {
   "cell_type": "code",
   "execution_count": 26,
   "outputs": [
    {
     "name": "stdout",
     "output_type": "stream",
     "text": [
      "RESULTS: Number of Examples: 5\n"
     ]
    },
    {
     "data": {
      "text/plain": "{'accuracy': 0.3,\n 'f1_macro': 0.22093223254213967,\n 'f1_micro': 0.3,\n 'f1_weighted': 0.28699002407980734,\n 'recall_macro': 0.2845238095238095,\n 'recall_micro': 0.3,\n 'recall_weighted': 0.3,\n 'precision_macro': 0.313508064516129,\n 'precision_micro': 0.3,\n 'precision_weighted': 0.4180645161290322}"
     },
     "execution_count": 26,
     "metadata": {},
     "output_type": "execute_result"
    }
   ],
   "source": [
    "print(\"RESULTS: Number of Examples: 5\")\n",
    "compute_metrics_cot(list(df_e5['response_no']), list(df_e5['label_no']))"
   ],
   "metadata": {
    "collapsed": false
   }
  },
  {
   "cell_type": "code",
   "execution_count": 27,
   "outputs": [
    {
     "name": "stdout",
     "output_type": "stream",
     "text": [
      "RESULTS: Number of Examples: 10\n"
     ]
    },
    {
     "name": "stderr",
     "output_type": "stream",
     "text": [
      "/Users/marcus/workspace/Programming/JavaDoc_Code_Similarity/venv/lib/python3.11/site-packages/sklearn/metrics/_classification.py:1469: UndefinedMetricWarning: Precision is ill-defined and being set to 0.0 in labels with no predicted samples. Use `zero_division` parameter to control this behavior.\n",
      "  _warn_prf(average, modifier, msg_start, len(result))\n",
      "/Users/marcus/workspace/Programming/JavaDoc_Code_Similarity/venv/lib/python3.11/site-packages/sklearn/metrics/_classification.py:1469: UndefinedMetricWarning: Precision is ill-defined and being set to 0.0 in labels with no predicted samples. Use `zero_division` parameter to control this behavior.\n",
      "  _warn_prf(average, modifier, msg_start, len(result))\n"
     ]
    },
    {
     "data": {
      "text/plain": "{'accuracy': 0.3877551020408163,\n 'f1_macro': 0.23344155844155842,\n 'f1_micro': 0.3877551020408163,\n 'f1_weighted': 0.3181553140736814,\n 'recall_macro': 0.29886363636363633,\n 'recall_micro': 0.3877551020408163,\n 'recall_weighted': 0.3877551020408163,\n 'precision_macro': 0.19791666666666666,\n 'precision_micro': 0.3877551020408163,\n 'precision_weighted': 0.27721088435374147}"
     },
     "execution_count": 27,
     "metadata": {},
     "output_type": "execute_result"
    }
   ],
   "source": [
    "print(\"RESULTS: Number of Examples: 10\")\n",
    "compute_metrics_cot(list(df_e10['response_no']), list(df_e10['label_no']))"
   ],
   "metadata": {
    "collapsed": false
   }
  },
  {
   "cell_type": "code",
   "execution_count": 28,
   "outputs": [
    {
     "name": "stdout",
     "output_type": "stream",
     "text": [
      "RESULTS: Number of Examples: 20\n"
     ]
    },
    {
     "data": {
      "text/plain": "{'accuracy': 0.23076923076923078,\n 'f1_macro': 0.16666666666666669,\n 'f1_micro': 0.23076923076923078,\n 'f1_weighted': 0.158974358974359,\n 'recall_macro': 0.24285714285714285,\n 'recall_micro': 0.23076923076923078,\n 'recall_weighted': 0.23076923076923078,\n 'precision_macro': 0.12692307692307692,\n 'precision_micro': 0.23076923076923078,\n 'precision_weighted': 0.121301775147929}"
     },
     "execution_count": 28,
     "metadata": {},
     "output_type": "execute_result"
    }
   ],
   "source": [
    "print(\"RESULTS: Number of Examples: 20\")\n",
    "compute_metrics_cot(list(df_e20['response_no']), list(df_e20['label_no']))"
   ],
   "metadata": {
    "collapsed": false
   }
  }
 ],
 "metadata": {
  "kernelspec": {
   "display_name": "Python 3",
   "language": "python",
   "name": "python3"
  },
  "language_info": {
   "codemirror_mode": {
    "name": "ipython",
    "version": 2
   },
   "file_extension": ".py",
   "mimetype": "text/x-python",
   "name": "python",
   "nbconvert_exporter": "python",
   "pygments_lexer": "ipython2",
   "version": "2.7.6"
  }
 },
 "nbformat": 4,
 "nbformat_minor": 0
}
