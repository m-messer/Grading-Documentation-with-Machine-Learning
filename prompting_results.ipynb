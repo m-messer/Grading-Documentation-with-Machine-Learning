{
 "cells": [
  {
   "cell_type": "code",
   "execution_count": 9,
   "metadata": {
    "collapsed": true
   },
   "outputs": [],
   "source": [
    "import pandas as pd\n",
    "from metrics import compute_metrics_prompting\n",
    "from data_processing.data_processor import get_label_info"
   ]
  },
  {
   "cell_type": "markdown",
   "source": [
    "# Standard Prompting Analysis"
   ],
   "metadata": {
    "collapsed": false
   }
  },
  {
   "cell_type": "code",
   "execution_count": 10,
   "outputs": [
    {
     "data": {
      "text/plain": "              time  epochs                                           messages  \\\n0  20240201-215401      50  [{'role': 'system', 'content': 'You will be pr...   \n1  20240201-215401      50  [{'role': 'system', 'content': 'You will be pr...   \n2  20240201-215401      50  [{'role': 'system', 'content': 'You will be pr...   \n3  20240201-215401      50  [{'role': 'system', 'content': 'You will be pr...   \n4  20240201-215401      50  [{'role': 'system', 'content': 'You will be pr...   \n\n             response                   label  \n0  Partially relevant  ['partially relevant']  \n1  Partially relevant          ['irrelevant']  \n2            Relevant  ['partially relevant']  \n3  Partially relevant          ['irrelevant']  \n4          Irrelevant            ['relevant']  ",
      "text/html": "<div>\n<style scoped>\n    .dataframe tbody tr th:only-of-type {\n        vertical-align: middle;\n    }\n\n    .dataframe tbody tr th {\n        vertical-align: top;\n    }\n\n    .dataframe thead th {\n        text-align: right;\n    }\n</style>\n<table border=\"1\" class=\"dataframe\">\n  <thead>\n    <tr style=\"text-align: right;\">\n      <th></th>\n      <th>time</th>\n      <th>epochs</th>\n      <th>messages</th>\n      <th>response</th>\n      <th>label</th>\n    </tr>\n  </thead>\n  <tbody>\n    <tr>\n      <th>0</th>\n      <td>20240201-215401</td>\n      <td>50</td>\n      <td>[{'role': 'system', 'content': 'You will be pr...</td>\n      <td>Partially relevant</td>\n      <td>['partially relevant']</td>\n    </tr>\n    <tr>\n      <th>1</th>\n      <td>20240201-215401</td>\n      <td>50</td>\n      <td>[{'role': 'system', 'content': 'You will be pr...</td>\n      <td>Partially relevant</td>\n      <td>['irrelevant']</td>\n    </tr>\n    <tr>\n      <th>2</th>\n      <td>20240201-215401</td>\n      <td>50</td>\n      <td>[{'role': 'system', 'content': 'You will be pr...</td>\n      <td>Relevant</td>\n      <td>['partially relevant']</td>\n    </tr>\n    <tr>\n      <th>3</th>\n      <td>20240201-215401</td>\n      <td>50</td>\n      <td>[{'role': 'system', 'content': 'You will be pr...</td>\n      <td>Partially relevant</td>\n      <td>['irrelevant']</td>\n    </tr>\n    <tr>\n      <th>4</th>\n      <td>20240201-215401</td>\n      <td>50</td>\n      <td>[{'role': 'system', 'content': 'You will be pr...</td>\n      <td>Irrelevant</td>\n      <td>['relevant']</td>\n    </tr>\n  </tbody>\n</table>\n</div>"
     },
     "execution_count": 10,
     "metadata": {},
     "output_type": "execute_result"
    }
   ],
   "source": [
    "df = pd.read_csv('data/standard_prompting_results.csv')\n",
    "df.head()"
   ],
   "metadata": {
    "collapsed": false
   }
  },
  {
   "cell_type": "code",
   "execution_count": 22,
   "outputs": [],
   "source": [
    "df = df.dropna()"
   ],
   "metadata": {
    "collapsed": false
   }
  },
  {
   "cell_type": "code",
   "execution_count": 12,
   "outputs": [
    {
     "data": {
      "text/plain": "              time  epochs                                           messages  \\\n0  20240201-215401      50  [{'role': 'system', 'content': 'You will be pr...   \n1  20240201-215401      50  [{'role': 'system', 'content': 'You will be pr...   \n2  20240201-215401      50  [{'role': 'system', 'content': 'You will be pr...   \n3  20240201-215401      50  [{'role': 'system', 'content': 'You will be pr...   \n4  20240201-215401      50  [{'role': 'system', 'content': 'You will be pr...   \n\n             response                   label  response_no  label_no  \n0  Partially relevant  ['partially relevant']            2         2  \n1  Partially relevant          ['irrelevant']            2         0  \n2            Relevant  ['partially relevant']            3         2  \n3  Partially relevant          ['irrelevant']            2         0  \n4          Irrelevant            ['relevant']            0         3  ",
      "text/html": "<div>\n<style scoped>\n    .dataframe tbody tr th:only-of-type {\n        vertical-align: middle;\n    }\n\n    .dataframe tbody tr th {\n        vertical-align: top;\n    }\n\n    .dataframe thead th {\n        text-align: right;\n    }\n</style>\n<table border=\"1\" class=\"dataframe\">\n  <thead>\n    <tr style=\"text-align: right;\">\n      <th></th>\n      <th>time</th>\n      <th>epochs</th>\n      <th>messages</th>\n      <th>response</th>\n      <th>label</th>\n      <th>response_no</th>\n      <th>label_no</th>\n    </tr>\n  </thead>\n  <tbody>\n    <tr>\n      <th>0</th>\n      <td>20240201-215401</td>\n      <td>50</td>\n      <td>[{'role': 'system', 'content': 'You will be pr...</td>\n      <td>Partially relevant</td>\n      <td>['partially relevant']</td>\n      <td>2</td>\n      <td>2</td>\n    </tr>\n    <tr>\n      <th>1</th>\n      <td>20240201-215401</td>\n      <td>50</td>\n      <td>[{'role': 'system', 'content': 'You will be pr...</td>\n      <td>Partially relevant</td>\n      <td>['irrelevant']</td>\n      <td>2</td>\n      <td>0</td>\n    </tr>\n    <tr>\n      <th>2</th>\n      <td>20240201-215401</td>\n      <td>50</td>\n      <td>[{'role': 'system', 'content': 'You will be pr...</td>\n      <td>Relevant</td>\n      <td>['partially relevant']</td>\n      <td>3</td>\n      <td>2</td>\n    </tr>\n    <tr>\n      <th>3</th>\n      <td>20240201-215401</td>\n      <td>50</td>\n      <td>[{'role': 'system', 'content': 'You will be pr...</td>\n      <td>Partially relevant</td>\n      <td>['irrelevant']</td>\n      <td>2</td>\n      <td>0</td>\n    </tr>\n    <tr>\n      <th>4</th>\n      <td>20240201-215401</td>\n      <td>50</td>\n      <td>[{'role': 'system', 'content': 'You will be pr...</td>\n      <td>Irrelevant</td>\n      <td>['relevant']</td>\n      <td>0</td>\n      <td>3</td>\n    </tr>\n  </tbody>\n</table>\n</div>"
     },
     "execution_count": 12,
     "metadata": {},
     "output_type": "execute_result"
    }
   ],
   "source": [
    "_, labels2ids, _ = get_label_info(binary=False)\n",
    "\n",
    "def convert_to_ids(text):\n",
    "    if 'partially irrelevant' in text.lower():\n",
    "        return labels2ids['partially irrelevant']\n",
    "    elif 'partially relevant' in text.lower():\n",
    "        return labels2ids['partially relevant']\n",
    "    elif 'irrelevant' in text.lower():\n",
    "        return labels2ids['irrelevant']\n",
    "    else:\n",
    "        return labels2ids['relevant']\n",
    "\n",
    "df['response_no'] = df['response'].map(convert_to_ids)\n",
    "df['label_no'] = df['label'].map(convert_to_ids)\n",
    "df.head()"
   ],
   "metadata": {
    "collapsed": false
   }
  },
  {
   "cell_type": "code",
   "execution_count": 13,
   "outputs": [
    {
     "data": {
      "text/plain": "{'accuracy': 0.34,\n 'f1_macro': 0.26459229835595277,\n 'f1_micro': 0.34,\n 'f1_weighted': 0.2835882158225753,\n 'recall_macro': 0.3062091503267974,\n 'recall_micro': 0.34,\n 'recall_weighted': 0.34,\n 'precision_macro': 0.34305555555555556,\n 'precision_micro': 0.34,\n 'precision_weighted': 0.3758888888888889}"
     },
     "execution_count": 13,
     "metadata": {},
     "output_type": "execute_result"
    }
   ],
   "source": [
    "compute_metrics_prompting(list(df['response_no']), list(df['label_no']))"
   ],
   "metadata": {
    "collapsed": false
   }
  },
  {
   "cell_type": "markdown",
   "source": [
    "# Chain of Thought Analysis\n",
    "#### Load data and calculate metrics"
   ],
   "metadata": {
    "collapsed": false
   }
  },
  {
   "cell_type": "code",
   "execution_count": 14,
   "outputs": [
    {
     "data": {
      "text/plain": "              time  epochs  number_of_examples  \\\n0  20240201-215511      50                   3   \n1  20240201-215511      50                   3   \n2  20240201-215511      50                   3   \n3  20240201-215511      50                   3   \n4  20240201-215511      50                   3   \n\n                                            messages  \\\n0  [{'role': 'system', 'content': 'You will be pr...   \n1  [{'role': 'system', 'content': 'You will be pr...   \n2  [{'role': 'system', 'content': 'You will be pr...   \n3  [{'role': 'system', 'content': 'You will be pr...   \n4  [{'role': 'system', 'content': 'You will be pr...   \n\n                                            response                 label  \n0  The description is partially relevant. The sou...  partially irrelevant  \n1  Partially relevant. Although the code performs...            irrelevant  \n2  The description is partially relevant. The sou...            irrelevant  \n3  Partially irrelevant. The source code is gener...  partially irrelevant  \n4                                 partially relevant              relevant  ",
      "text/html": "<div>\n<style scoped>\n    .dataframe tbody tr th:only-of-type {\n        vertical-align: middle;\n    }\n\n    .dataframe tbody tr th {\n        vertical-align: top;\n    }\n\n    .dataframe thead th {\n        text-align: right;\n    }\n</style>\n<table border=\"1\" class=\"dataframe\">\n  <thead>\n    <tr style=\"text-align: right;\">\n      <th></th>\n      <th>time</th>\n      <th>epochs</th>\n      <th>number_of_examples</th>\n      <th>messages</th>\n      <th>response</th>\n      <th>label</th>\n    </tr>\n  </thead>\n  <tbody>\n    <tr>\n      <th>0</th>\n      <td>20240201-215511</td>\n      <td>50</td>\n      <td>3</td>\n      <td>[{'role': 'system', 'content': 'You will be pr...</td>\n      <td>The description is partially relevant. The sou...</td>\n      <td>partially irrelevant</td>\n    </tr>\n    <tr>\n      <th>1</th>\n      <td>20240201-215511</td>\n      <td>50</td>\n      <td>3</td>\n      <td>[{'role': 'system', 'content': 'You will be pr...</td>\n      <td>Partially relevant. Although the code performs...</td>\n      <td>irrelevant</td>\n    </tr>\n    <tr>\n      <th>2</th>\n      <td>20240201-215511</td>\n      <td>50</td>\n      <td>3</td>\n      <td>[{'role': 'system', 'content': 'You will be pr...</td>\n      <td>The description is partially relevant. The sou...</td>\n      <td>irrelevant</td>\n    </tr>\n    <tr>\n      <th>3</th>\n      <td>20240201-215511</td>\n      <td>50</td>\n      <td>3</td>\n      <td>[{'role': 'system', 'content': 'You will be pr...</td>\n      <td>Partially irrelevant. The source code is gener...</td>\n      <td>partially irrelevant</td>\n    </tr>\n    <tr>\n      <th>4</th>\n      <td>20240201-215511</td>\n      <td>50</td>\n      <td>3</td>\n      <td>[{'role': 'system', 'content': 'You will be pr...</td>\n      <td>partially relevant</td>\n      <td>relevant</td>\n    </tr>\n  </tbody>\n</table>\n</div>"
     },
     "execution_count": 14,
     "metadata": {},
     "output_type": "execute_result"
    }
   ],
   "source": [
    "df = pd.read_csv('data/cot_results.csv')\n",
    "df.head()"
   ],
   "metadata": {
    "collapsed": false
   }
  },
  {
   "cell_type": "code",
   "execution_count": 23,
   "outputs": [],
   "source": [
    "df = df.dropna()"
   ],
   "metadata": {
    "collapsed": false
   }
  },
  {
   "cell_type": "code",
   "execution_count": 16,
   "outputs": [
    {
     "data": {
      "text/plain": "              time  epochs  number_of_examples  \\\n0  20240201-215511      50                   3   \n1  20240201-215511      50                   3   \n2  20240201-215511      50                   3   \n3  20240201-215511      50                   3   \n4  20240201-215511      50                   3   \n\n                                            messages  \\\n0  [{'role': 'system', 'content': 'You will be pr...   \n1  [{'role': 'system', 'content': 'You will be pr...   \n2  [{'role': 'system', 'content': 'You will be pr...   \n3  [{'role': 'system', 'content': 'You will be pr...   \n4  [{'role': 'system', 'content': 'You will be pr...   \n\n                                            response                 label  \\\n0  The description is partially relevant. The sou...  partially irrelevant   \n1  Partially relevant. Although the code performs...            irrelevant   \n2  The description is partially relevant. The sou...            irrelevant   \n3  Partially irrelevant. The source code is gener...  partially irrelevant   \n4                                 partially relevant              relevant   \n\n   response_no  label_no  \n0            2         1  \n1            2         0  \n2            2         0  \n3            1         1  \n4            2         3  ",
      "text/html": "<div>\n<style scoped>\n    .dataframe tbody tr th:only-of-type {\n        vertical-align: middle;\n    }\n\n    .dataframe tbody tr th {\n        vertical-align: top;\n    }\n\n    .dataframe thead th {\n        text-align: right;\n    }\n</style>\n<table border=\"1\" class=\"dataframe\">\n  <thead>\n    <tr style=\"text-align: right;\">\n      <th></th>\n      <th>time</th>\n      <th>epochs</th>\n      <th>number_of_examples</th>\n      <th>messages</th>\n      <th>response</th>\n      <th>label</th>\n      <th>response_no</th>\n      <th>label_no</th>\n    </tr>\n  </thead>\n  <tbody>\n    <tr>\n      <th>0</th>\n      <td>20240201-215511</td>\n      <td>50</td>\n      <td>3</td>\n      <td>[{'role': 'system', 'content': 'You will be pr...</td>\n      <td>The description is partially relevant. The sou...</td>\n      <td>partially irrelevant</td>\n      <td>2</td>\n      <td>1</td>\n    </tr>\n    <tr>\n      <th>1</th>\n      <td>20240201-215511</td>\n      <td>50</td>\n      <td>3</td>\n      <td>[{'role': 'system', 'content': 'You will be pr...</td>\n      <td>Partially relevant. Although the code performs...</td>\n      <td>irrelevant</td>\n      <td>2</td>\n      <td>0</td>\n    </tr>\n    <tr>\n      <th>2</th>\n      <td>20240201-215511</td>\n      <td>50</td>\n      <td>3</td>\n      <td>[{'role': 'system', 'content': 'You will be pr...</td>\n      <td>The description is partially relevant. The sou...</td>\n      <td>irrelevant</td>\n      <td>2</td>\n      <td>0</td>\n    </tr>\n    <tr>\n      <th>3</th>\n      <td>20240201-215511</td>\n      <td>50</td>\n      <td>3</td>\n      <td>[{'role': 'system', 'content': 'You will be pr...</td>\n      <td>Partially irrelevant. The source code is gener...</td>\n      <td>partially irrelevant</td>\n      <td>1</td>\n      <td>1</td>\n    </tr>\n    <tr>\n      <th>4</th>\n      <td>20240201-215511</td>\n      <td>50</td>\n      <td>3</td>\n      <td>[{'role': 'system', 'content': 'You will be pr...</td>\n      <td>partially relevant</td>\n      <td>relevant</td>\n      <td>2</td>\n      <td>3</td>\n    </tr>\n  </tbody>\n</table>\n</div>"
     },
     "execution_count": 16,
     "metadata": {},
     "output_type": "execute_result"
    }
   ],
   "source": [
    "_, labels2ids, _ = get_label_info(binary=False)\n",
    "\n",
    "def convert_to_ids(text):\n",
    "    if 'partially irrelevant' in text.lower():\n",
    "        return labels2ids['partially irrelevant']\n",
    "    elif 'partially relevant' in text.lower():\n",
    "        return labels2ids['partially relevant']\n",
    "    elif 'irrelevant' in text.lower():\n",
    "        return labels2ids['irrelevant']\n",
    "    else:\n",
    "        return labels2ids['relevant']\n",
    "\n",
    "df['response_no'] = df['response'].map(convert_to_ids)\n",
    "df['label_no'] = df['label'].map(convert_to_ids)\n",
    "df.head()"
   ],
   "metadata": {
    "collapsed": false
   }
  },
  {
   "cell_type": "code",
   "execution_count": 17,
   "outputs": [],
   "source": [
    "df_e3 = df[df['number_of_examples'] == 3]\n",
    "df_e5 = df[df['number_of_examples'] == 5]\n",
    "df_e10 = df[df['number_of_examples'] == 10]\n",
    "df_e20 = df[df['number_of_examples'] == 20]"
   ],
   "metadata": {
    "collapsed": false
   }
  },
  {
   "cell_type": "code",
   "execution_count": 18,
   "outputs": [
    {
     "name": "stdout",
     "output_type": "stream",
     "text": [
      "RESULTS: Number of Examples: 3\n"
     ]
    },
    {
     "data": {
      "text/plain": "{'accuracy': 0.3,\n 'f1_macro': 0.27226939726939725,\n 'f1_micro': 0.3,\n 'f1_weighted': 0.2610989010989011,\n 'recall_macro': 0.3141339869281046,\n 'recall_micro': 0.3,\n 'recall_weighted': 0.3,\n 'precision_macro': 0.35086805555555556,\n 'precision_micro': 0.3,\n 'precision_weighted': 0.3468333333333334}"
     },
     "execution_count": 18,
     "metadata": {},
     "output_type": "execute_result"
    }
   ],
   "source": [
    "print(\"RESULTS: Number of Examples: 3\")\n",
    "compute_metrics_prompting(list(df_e3['response_no']), list(df_e3['label_no']))"
   ],
   "metadata": {
    "collapsed": false
   }
  },
  {
   "cell_type": "code",
   "execution_count": 19,
   "outputs": [
    {
     "name": "stdout",
     "output_type": "stream",
     "text": [
      "RESULTS: Number of Examples: 5\n"
     ]
    },
    {
     "data": {
      "text/plain": "{'accuracy': 0.2,\n 'f1_macro': 0.1994174625753573,\n 'f1_micro': 0.20000000000000004,\n 'f1_weighted': 0.15475445370182211,\n 'recall_macro': 0.3388888888888889,\n 'recall_micro': 0.2,\n 'recall_weighted': 0.2,\n 'precision_macro': 0.39488636363636365,\n 'precision_micro': 0.2,\n 'precision_weighted': 0.46340909090909094}"
     },
     "execution_count": 19,
     "metadata": {},
     "output_type": "execute_result"
    }
   ],
   "source": [
    "print(\"RESULTS: Number of Examples: 5\")\n",
    "compute_metrics_prompting(list(df_e5['response_no']), list(df_e5['label_no']))"
   ],
   "metadata": {
    "collapsed": false
   }
  },
  {
   "cell_type": "code",
   "execution_count": 20,
   "outputs": [
    {
     "name": "stdout",
     "output_type": "stream",
     "text": [
      "RESULTS: Number of Examples: 10\n"
     ]
    },
    {
     "data": {
      "text/plain": "{'accuracy': 0.3,\n 'f1_macro': 0.2606035437430786,\n 'f1_micro': 0.3,\n 'f1_weighted': 0.2750963455149502,\n 'recall_macro': 0.278125,\n 'recall_micro': 0.3,\n 'recall_weighted': 0.3,\n 'precision_macro': 0.41666666666666663,\n 'precision_micro': 0.3,\n 'precision_weighted': 0.42}"
     },
     "execution_count": 20,
     "metadata": {},
     "output_type": "execute_result"
    }
   ],
   "source": [
    "print(\"RESULTS: Number of Examples: 10\")\n",
    "compute_metrics_prompting(list(df_e10['response_no']), list(df_e10['label_no']))"
   ],
   "metadata": {
    "collapsed": false
   }
  },
  {
   "cell_type": "code",
   "execution_count": 21,
   "outputs": [
    {
     "name": "stdout",
     "output_type": "stream",
     "text": [
      "RESULTS: Number of Examples: 20\n"
     ]
    },
    {
     "data": {
      "text/plain": "{'accuracy': 0.2692307692307692,\n 'f1_macro': 0.22976190476190472,\n 'f1_micro': 0.2692307692307692,\n 'f1_weighted': 0.23644688644688644,\n 'recall_macro': 0.25595238095238093,\n 'recall_micro': 0.2692307692307692,\n 'recall_weighted': 0.2692307692307692,\n 'precision_macro': 0.3758741258741259,\n 'precision_micro': 0.2692307692307692,\n 'precision_weighted': 0.36632598171059705}"
     },
     "execution_count": 21,
     "metadata": {},
     "output_type": "execute_result"
    }
   ],
   "source": [
    "print(\"RESULTS: Number of Examples: 20\")\n",
    "compute_metrics_prompting(list(df_e20['response_no']), list(df_e20['label_no']))"
   ],
   "metadata": {
    "collapsed": false
   }
  }
 ],
 "metadata": {
  "kernelspec": {
   "display_name": "Python 3",
   "language": "python",
   "name": "python3"
  },
  "language_info": {
   "codemirror_mode": {
    "name": "ipython",
    "version": 2
   },
   "file_extension": ".py",
   "mimetype": "text/x-python",
   "name": "python",
   "nbconvert_exporter": "python",
   "pygments_lexer": "ipython2",
   "version": "2.7.6"
  }
 },
 "nbformat": 4,
 "nbformat_minor": 0
}
